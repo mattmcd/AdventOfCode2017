{
 "cells": [
  {
   "cell_type": "code",
   "execution_count": 1,
   "metadata": {
    "collapsed": true
   },
   "outputs": [],
   "source": [
    "# import tensorflow as tf\n",
    "import numpy as np\n",
    "import networkx as nx\n",
    "import re"
   ]
  },
  {
   "cell_type": "code",
   "execution_count": 2,
   "metadata": {
    "collapsed": true
   },
   "outputs": [],
   "source": [
    "# Helper function to read input from file if too large to paste inline\n",
    "def read_input(fname):\n",
    "    with open(fname, 'r') as f:\n",
    "        data_str = f.read()\n",
    "    return data_str"
   ]
  },
  {
   "cell_type": "markdown",
   "metadata": {},
   "source": [
    "# Day 1: Inverse Captcha\n",
    "The night before Christmas, one of Santa's Elves calls you in a panic. \"The printer's broken! We can't print the Naughty or Nice List!\" By the time you make it to sub-basement 17, there are only a few minutes until midnight. \"We have a big problem,\" she says; \"there must be almost fifty bugs in this system, but nothing else can print The List. Stand in this square, quick! There's no time to explain; if you can convince them to pay you in stars, you'll be able to--\" She pulls a lever and the world goes blurry.\n",
    "\n",
    "When your eyes can focus again, everything seems a lot more pixelated than before. She must have sent you inside the computer! You check the system clock: 25 milliseconds until midnight. With that much time, you should be able to collect all fifty stars by December 25th.\n",
    "\n",
    "Collect stars by solving puzzles. Two puzzles will be made available on each day millisecond in the advent calendar; the second puzzle is unlocked when you complete the first. Each puzzle grants one star. Good luck!\n",
    "\n",
    "You're standing in a room with \"digitization quarantine\" written in LEDs along one wall. The only door is locked, but it includes a small interface. \"Restricted Area - Strictly No Digitized Users Allowed.\"\n",
    "\n",
    "It goes on to explain that you may only leave by solving a captcha to prove you're not a human. Apparently, you only get one millisecond to solve the captcha: too fast for a normal human, but it feels like hours to you.\n",
    "\n",
    "The captcha requires you to review a sequence of digits (your puzzle input) and find the sum of all digits that match the next digit in the list. The list is circular, so the digit after the last digit is the first digit in the list.\n",
    "\n",
    "For example:\n",
    "\n",
    "    1122 produces a sum of 3 (1 + 2) because the first digit (1) matches the second digit and the third digit (2) matches the fourth digit.\n",
    "    1111 produces 4 because each digit (all 1) matches the next.\n",
    "    1234 produces 0 because no digit matches the next.\n",
    "    91212129 produces 9 because the only digit that matches the next one is the last digit, 9.\n",
    "\n",
    "What is the solution to your captcha?\n",
    "\n",
    "Your puzzle answer was 1216."
   ]
  },
  {
   "cell_type": "code",
   "execution_count": 3,
   "metadata": {
    "collapsed": true
   },
   "outputs": [],
   "source": [
    "def like_sum(s, halfway=False, shift=1):\n",
    "    if halfway:\n",
    "        shift = len(s)/2\n",
    "    x = np.array([int(c) for c in s])\n",
    "    x_s = np.concatenate([x[-shift:], x[0:-shift]])\n",
    "    return x[x == x_s].sum()"
   ]
  },
  {
   "cell_type": "code",
   "execution_count": 4,
   "metadata": {},
   "outputs": [
    {
     "data": {
      "text/plain": [
       "3"
      ]
     },
     "execution_count": 4,
     "metadata": {},
     "output_type": "execute_result"
    }
   ],
   "source": [
    "like_sum('1122')"
   ]
  },
  {
   "cell_type": "code",
   "execution_count": 5,
   "metadata": {},
   "outputs": [
    {
     "data": {
      "text/plain": [
       "4"
      ]
     },
     "execution_count": 5,
     "metadata": {},
     "output_type": "execute_result"
    }
   ],
   "source": [
    "like_sum('1111')"
   ]
  },
  {
   "cell_type": "code",
   "execution_count": 6,
   "metadata": {},
   "outputs": [
    {
     "data": {
      "text/plain": [
       "0"
      ]
     },
     "execution_count": 6,
     "metadata": {},
     "output_type": "execute_result"
    }
   ],
   "source": [
    "like_sum('1234')"
   ]
  },
  {
   "cell_type": "code",
   "execution_count": 7,
   "metadata": {},
   "outputs": [
    {
     "data": {
      "text/plain": [
       "9"
      ]
     },
     "execution_count": 7,
     "metadata": {},
     "output_type": "execute_result"
    }
   ],
   "source": [
    "like_sum('91212129')"
   ]
  },
  {
   "cell_type": "code",
   "execution_count": 8,
   "metadata": {
    "collapsed": true
   },
   "outputs": [],
   "source": [
    "s = '5228833336355848549915459366737982598312959583817455621545976784792489468198365998232722734876612332352376192813552949814275947575774339529811976644361517795586998319242241614813622734255797569571577699238592667287428166398221572885869416419682687759743978434571821267146514338394624525648338739929479912368172669885577319718389278168766844487948761697438722556857882433224393723131298876252626643517236883999115665656935521675772866516185899317132494716723615493476397115627687887665194781746377341468995954554518252916859227397693885254329628812355612487594445522395853551734567498838382248616137969637971369615443599973588326388792893969924855316437952313492551671545714262784738343517166544197194547173515155927244175447296474282154114951181648317875827525814453758846194548872789943372281952995222779173812444186491115426476188672253249744478946863317915136832199132868917891243591195719354721129116229164688256853628339233919671468781913167415624214152793864585332944468428849171876873433621524242289488135675313544498245498637424139153782925723745249728743885493877792648576673196889949568317234125863369187953788611841388353999875519172896329524346527265231767868839696693328273381772726782949166112932954356923757485139367298699922984925977724972944277991686823219295939734313874834861796179591659174726432357533113896212781566659154939419866797488347448551719481632572231632463575591599696388223344219228325134233238538854289437756331848887242423387542214691157226725179683638967415678697625138177633444765126223885478348951332634398291612134852858683942466178329922655822225426534359191696177633167962839847985826676955417426617126288255366123169174674348417932158291334646767637764323226842771523598562429399935789788215958367362467652444854123951972118358417629679454978687337137675495295768451719631999398617828287671937584998697959425845883145736323818225129311845997214987663433375689621746665629187252511643969315283316269222835744532431378945137649959158495714472963839397214332815241141327714672141875129895'"
   ]
  },
  {
   "cell_type": "code",
   "execution_count": 9,
   "metadata": {},
   "outputs": [
    {
     "data": {
      "text/plain": [
       "1216"
      ]
     },
     "execution_count": 9,
     "metadata": {},
     "output_type": "execute_result"
    }
   ],
   "source": [
    "like_sum(s)"
   ]
  },
  {
   "cell_type": "markdown",
   "metadata": {},
   "source": [
    "## Day 1 part 2: consider elements halfway around the sequence\n",
    "You notice a progress bar that jumps to 50% completion. Apparently, the door isn't yet satisfied, but it did emit a star as encouragement. The instructions change:\n",
    "\n",
    "Now, instead of considering the next digit, it wants you to consider the digit halfway around the circular list. That is, if your list contains 10 items, only include a digit in your sum if the digit 10/2 = 5 steps forward matches it. Fortunately, your list has an even number of elements.\n",
    "\n",
    "For example:\n",
    "\n",
    "    1212 produces 6: the list contains 4 items, and all four digits match the digit 2 items ahead.\n",
    "    1221 produces 0, because every comparison is between a 1 and a 2.\n",
    "    123425 produces 4, because both 2s match each other, but no other digit has a match.\n",
    "    123123 produces 12.\n",
    "    12131415 produces 4.\n",
    "\n",
    "What is the solution to your new captcha?\n",
    "\n",
    "Your puzzle answer was 1072."
   ]
  },
  {
   "cell_type": "code",
   "execution_count": 10,
   "metadata": {},
   "outputs": [
    {
     "data": {
      "text/plain": [
       "6"
      ]
     },
     "execution_count": 10,
     "metadata": {},
     "output_type": "execute_result"
    }
   ],
   "source": [
    "like_sum('1212', True)"
   ]
  },
  {
   "cell_type": "code",
   "execution_count": 11,
   "metadata": {},
   "outputs": [
    {
     "data": {
      "text/plain": [
       "0"
      ]
     },
     "execution_count": 11,
     "metadata": {},
     "output_type": "execute_result"
    }
   ],
   "source": [
    "like_sum('1221', True)"
   ]
  },
  {
   "cell_type": "code",
   "execution_count": 12,
   "metadata": {},
   "outputs": [
    {
     "data": {
      "text/plain": [
       "4"
      ]
     },
     "execution_count": 12,
     "metadata": {},
     "output_type": "execute_result"
    }
   ],
   "source": [
    "like_sum('123425', True)"
   ]
  },
  {
   "cell_type": "code",
   "execution_count": 13,
   "metadata": {},
   "outputs": [
    {
     "data": {
      "text/plain": [
       "12"
      ]
     },
     "execution_count": 13,
     "metadata": {},
     "output_type": "execute_result"
    }
   ],
   "source": [
    "like_sum('123123', True)"
   ]
  },
  {
   "cell_type": "code",
   "execution_count": 14,
   "metadata": {},
   "outputs": [
    {
     "data": {
      "text/plain": [
       "1072"
      ]
     },
     "execution_count": 14,
     "metadata": {},
     "output_type": "execute_result"
    }
   ],
   "source": [
    "like_sum(s, True)"
   ]
  },
  {
   "cell_type": "markdown",
   "metadata": {},
   "source": [
    "# Day 2: Corruption Checksum\n",
    "As you walk through the door, a glowing humanoid shape yells in your direction. \"You there! Your state appears to be idle. Come help us repair the corruption in this spreadsheet - if we take another millisecond, we'll have to display an hourglass cursor!\"\n",
    "\n",
    "The spreadsheet consists of rows of apparently-random numbers. To make sure the recovery process is on the right track, they need you to calculate the spreadsheet's checksum. For each row, determine the difference between the largest value and the smallest value; the checksum is the sum of all of these differences.\n",
    "\n",
    "For example, given the following spreadsheet:\n",
    "\n",
    "    5 1 9 5\n",
    "    7 5 3\n",
    "    2 4 6 8\n",
    "\n",
    "The first row's largest and smallest values are 9 and 1, and their difference is 8.\n",
    "The second row's largest and smallest values are 7 and 3, and their difference is 4.\n",
    "The third row's difference is 6.\n",
    "In this example, the spreadsheet's checksum would be 8 + 4 + 6 = 18.\n",
    "\n",
    "What is the checksum for the spreadsheet in your puzzle input?\n",
    "\n",
    "Your puzzle answer was 21845."
   ]
  },
  {
   "cell_type": "code",
   "execution_count": 15,
   "metadata": {
    "collapsed": true
   },
   "outputs": [],
   "source": [
    "s_test = \"\"\"5 1 9 5\n",
    "7 5 3\n",
    "2 4 6 8\"\"\""
   ]
  },
  {
   "cell_type": "code",
   "execution_count": 16,
   "metadata": {},
   "outputs": [
    {
     "name": "stdout",
     "output_type": "stream",
     "text": [
      "5 1 9 5\n",
      "7 5 3\n",
      "2 4 6 8\n"
     ]
    }
   ],
   "source": [
    "print(s_test)"
   ]
  },
  {
   "cell_type": "code",
   "execution_count": 17,
   "metadata": {
    "collapsed": true
   },
   "outputs": [],
   "source": [
    "x_test = ([np.array([int(c)for c in line.split(' ') ]) for line in s_test.split('\\n')])"
   ]
  },
  {
   "cell_type": "code",
   "execution_count": 18,
   "metadata": {},
   "outputs": [
    {
     "data": {
      "text/plain": [
       "18"
      ]
     },
     "execution_count": 18,
     "metadata": {},
     "output_type": "execute_result"
    }
   ],
   "source": [
    "np.array([np.max(row) - np.min(row) for row in x_test]).sum()"
   ]
  },
  {
   "cell_type": "code",
   "execution_count": 19,
   "metadata": {
    "collapsed": true
   },
   "outputs": [],
   "source": [
    "def row_min_max_diff(row):\n",
    "    return np.max(row) - np.min(row)"
   ]
  },
  {
   "cell_type": "code",
   "execution_count": 20,
   "metadata": {
    "collapsed": true
   },
   "outputs": [],
   "source": [
    "def checksum(s, row_func=row_min_max_diff):\n",
    "    x = ([np.array([int(c)for c in line.split() ]) for line in s.split('\\n')])\n",
    "    return np.array([row_func(row) for row in x]).sum()"
   ]
  },
  {
   "cell_type": "code",
   "execution_count": 21,
   "metadata": {},
   "outputs": [
    {
     "data": {
      "text/plain": [
       "18"
      ]
     },
     "execution_count": 21,
     "metadata": {},
     "output_type": "execute_result"
    }
   ],
   "source": [
    "checksum(s_test)"
   ]
  },
  {
   "cell_type": "code",
   "execution_count": 22,
   "metadata": {
    "collapsed": true
   },
   "outputs": [],
   "source": [
    "day2_input = \"\"\"493\t458\t321\t120\t49\t432\t433\t92\t54\t452\t41\t461\t388\t409\t263\t58\n",
    "961\t98\t518\t188\t958\t114\t1044\t881\t948\t590\t972\t398\t115\t116\t451\t492\n",
    "76\t783\t709\t489\t617\t72\t824\t452\t748\t737\t691\t90\t94\t77\t84\t756\n",
    "204\t217\t90\t335\t220\t127\t302\t205\t242\t202\t259\t110\t118\t111\t200\t112\n",
    "249\t679\t4015\t106\t3358\t1642\t228\t4559\t307\t193\t4407\t3984\t3546\t2635\t3858\t924\n",
    "1151\t1060\t2002\t168\t3635\t3515\t3158\t141\t4009\t3725\t996\t142\t3672\t153\t134\t1438\n",
    "95\t600\t1171\t1896\t174\t1852\t1616\t928\t79\t1308\t2016\t88\t80\t1559\t1183\t107\n",
    "187\t567\t432\t553\t69\t38\t131\t166\t93\t132\t498\t153\t441\t451\t172\t575\n",
    "216\t599\t480\t208\t224\t240\t349\t593\t516\t450\t385\t188\t482\t461\t635\t220\n",
    "788\t1263\t1119\t1391\t1464\t179\t1200\t621\t1304\t55\t700\t1275\t226\t57\t43\t51\n",
    "1571\t58\t1331\t1253\t60\t1496\t1261\t1298\t1500\t1303\t201\t73\t1023\t582\t69\t339\n",
    "80\t438\t467\t512\t381\t74\t259\t73\t88\t448\t386\t509\t346\t61\t447\t435\n",
    "215\t679\t117\t645\t137\t426\t195\t619\t268\t223\t792\t200\t720\t260\t303\t603\n",
    "631\t481\t185\t135\t665\t641\t492\t408\t164\t132\t478\t188\t444\t378\t633\t516\n",
    "1165\t1119\t194\t280\t223\t1181\t267\t898\t1108\t124\t618\t1135\t817\t997\t129\t227\n",
    "404\t1757\t358\t2293\t2626\t87\t613\t95\t1658\t147\t75\t930\t2394\t2349\t86\t385\"\"\""
   ]
  },
  {
   "cell_type": "code",
   "execution_count": 23,
   "metadata": {},
   "outputs": [
    {
     "data": {
      "text/plain": [
       "21845"
      ]
     },
     "execution_count": 23,
     "metadata": {},
     "output_type": "execute_result"
    }
   ],
   "source": [
    "checksum(day2_input)"
   ]
  },
  {
   "cell_type": "markdown",
   "metadata": {},
   "source": [
    "## Day 2 Part 2: evenly divisible numbers on each row\n",
    "\"Great work; looks like we're on the right track after all. Here's a star for your effort.\" However, the program seems a little worried. Can programs be worried?\n",
    "\n",
    "\"Based on what we're seeing, it looks like all the User wanted is some information about the evenly divisible values in the spreadsheet. Unfortunately, none of us are equipped for that kind of calculation - most of us specialize in bitwise operations.\"\n",
    "\n",
    "It sounds like the goal is to find the only two numbers in each row where one evenly divides the other - that is, where the result of the division operation is a whole number. They would like you to find those numbers on each line, divide them, and add up each line's result.\n",
    "\n",
    "For example, given the following spreadsheet:\n",
    "\n",
    "    5 9 2 8\n",
    "    9 4 7 3\n",
    "    3 8 6 5\n",
    "\n",
    "In the first row, the only two numbers that evenly divide are 8 and 2; the result of this division is 4.\n",
    "In the second row, the two numbers are 9 and 3; the result is 3.\n",
    "In the third row, the result is 2.\n",
    "In this example, the sum of the results would be 4 + 3 + 2 = 9.\n",
    "\n",
    "What is the sum of each row's result in your puzzle input?\n",
    "\n",
    "Your puzzle answer was 191."
   ]
  },
  {
   "cell_type": "code",
   "execution_count": 24,
   "metadata": {
    "collapsed": true
   },
   "outputs": [],
   "source": [
    "def even_div(row):\n",
    "    row_s = sorted(row)\n",
    "    for i in range(len(row_s)):\n",
    "        for j in range(i+1, len(row_s)):\n",
    "            if row_s[j] % row_s[i] == 0:\n",
    "                return row_s[j] / row_s[i]\n",
    "    return 0"
   ]
  },
  {
   "cell_type": "code",
   "execution_count": 25,
   "metadata": {
    "collapsed": true
   },
   "outputs": [],
   "source": [
    "day2_part2_train = \"\"\"5 9 2 8\n",
    "9 4 7 3\n",
    "3 8 6 5\"\"\""
   ]
  },
  {
   "cell_type": "code",
   "execution_count": 26,
   "metadata": {},
   "outputs": [
    {
     "data": {
      "text/plain": [
       "9"
      ]
     },
     "execution_count": 26,
     "metadata": {},
     "output_type": "execute_result"
    }
   ],
   "source": [
    "checksum(day2_part2_train, even_div)"
   ]
  },
  {
   "cell_type": "code",
   "execution_count": 27,
   "metadata": {},
   "outputs": [
    {
     "data": {
      "text/plain": [
       "4"
      ]
     },
     "execution_count": 27,
     "metadata": {},
     "output_type": "execute_result"
    }
   ],
   "source": [
    "even_div([5, 9, 2, 8])"
   ]
  },
  {
   "cell_type": "code",
   "execution_count": 28,
   "metadata": {},
   "outputs": [
    {
     "data": {
      "text/plain": [
       "3"
      ]
     },
     "execution_count": 28,
     "metadata": {},
     "output_type": "execute_result"
    }
   ],
   "source": [
    "even_div([9, 4, 7, 3])"
   ]
  },
  {
   "cell_type": "code",
   "execution_count": 29,
   "metadata": {},
   "outputs": [
    {
     "data": {
      "text/plain": [
       "191"
      ]
     },
     "execution_count": 29,
     "metadata": {},
     "output_type": "execute_result"
    }
   ],
   "source": [
    "checksum(day2_input, even_div)"
   ]
  },
  {
   "cell_type": "markdown",
   "metadata": {
    "collapsed": true
   },
   "source": [
    "# Day 3: Spiral Memory\n",
    "You come across an experimental new kind of memory stored on an infinite two-dimensional grid.\n",
    "\n",
    "Each square on the grid is allocated in a spiral pattern starting at a location marked 1 and then counting up while spiraling outward. For example, the first few squares are allocated like this:\n",
    "\n",
    "\n",
    "    17  16  15  14  13\n",
    "    18   5   4   3  12\n",
    "    19   6   1   2  11\n",
    "    20   7   8   9  10\n",
    "    21  22  23---> ...\n",
    "\n",
    "\n",
    "While this is very space-efficient (no squares are skipped), requested data must be carried back to square 1 (the location of the only access port for this memory system) by programs that can only move up, down, left, or right. They always take the shortest path: the Manhattan Distance between the location of the data and square 1.\n",
    "\n",
    "For example:\n",
    "\n",
    "Data from square 1 is carried 0 steps, since it's at the access port.\n",
    "Data from square 12 is carried 3 steps, such as: down, left, left.\n",
    "Data from square 23 is carried only 2 steps: up twice.\n",
    "Data from square 1024 must be carried 31 steps.\n",
    "How many steps are required to carry the data from the square identified in your puzzle input all the way to the access port?\n",
    "\n",
    "Your puzzle answer was 371."
   ]
  },
  {
   "cell_type": "code",
   "execution_count": 30,
   "metadata": {
    "collapsed": true
   },
   "outputs": [],
   "source": [
    "def square_size(n):\n",
    "    # Size of odd square that will contain n\n",
    "    next_square = np.ceil(np.sqrt(n))\n",
    "    if next_square % 2 == 0:\n",
    "        next_square += 1\n",
    "    return int(next_square)"
   ]
  },
  {
   "cell_type": "code",
   "execution_count": 31,
   "metadata": {
    "collapsed": true
   },
   "outputs": [],
   "source": [
    "def index_in_square(n):\n",
    "    # Index of n in its current square \n",
    "    return n - (square_size(n)-2)**2 -1"
   ]
  },
  {
   "cell_type": "code",
   "execution_count": 32,
   "metadata": {
    "collapsed": true
   },
   "outputs": [],
   "source": [
    "def ht_list(n):\n",
    "    ss = square_size(n)\n",
    "    s2 = (ss-1)/2\n",
    "    ht = range(1-(ss-1)/2, s2) + [s2]*(ss-1) + range(s2, -s2, -1) + [-s2]*(ss)\n",
    "    return ht"
   ]
  },
  {
   "cell_type": "code",
   "execution_count": 33,
   "metadata": {
    "collapsed": true
   },
   "outputs": [],
   "source": [
    "def ro_list(n):\n",
    "    ss = square_size(n)\n",
    "    s2 = (ss-1)/2\n",
    "    ro = [s2 for _ in range(1-(ss-1)/2, s2)] + range(s2, -s2, -1) + [-s2 for _ in range(s2, -s2, -1)] + range(-s2,s2+1)\n",
    "    return ro"
   ]
  },
  {
   "cell_type": "code",
   "execution_count": 34,
   "metadata": {},
   "outputs": [
    {
     "data": {
      "text/plain": [
       "[-1, 0, 1, 2, 2, 2, 2, 2, 1, 0, -1, -2, -2, -2, -2, -2]"
      ]
     },
     "execution_count": 34,
     "metadata": {},
     "output_type": "execute_result"
    }
   ],
   "source": [
    "ht_list(10)"
   ]
  },
  {
   "cell_type": "code",
   "execution_count": 35,
   "metadata": {},
   "outputs": [
    {
     "data": {
      "text/plain": [
       "[2, 2, 2, 2, 1, 0, -1, -2, -2, -2, -2, -2, -1, 0, 1, 2]"
      ]
     },
     "execution_count": 35,
     "metadata": {},
     "output_type": "execute_result"
    }
   ],
   "source": [
    "ro_list(10)"
   ]
  },
  {
   "cell_type": "code",
   "execution_count": 36,
   "metadata": {
    "collapsed": true
   },
   "outputs": [],
   "source": [
    "def mh_dist(n):\n",
    "    return abs(ht_list(n)[index_in_square(n)]) + abs(ro_list(n)[index_in_square(n)])"
   ]
  },
  {
   "cell_type": "code",
   "execution_count": 37,
   "metadata": {
    "collapsed": true,
    "scrolled": true
   },
   "outputs": [],
   "source": [
    "# Testing\n",
    "# [(n, square_size(n), index_in_square(n), mh_dist(n)) for n in range(1,30)] "
   ]
  },
  {
   "cell_type": "code",
   "execution_count": 38,
   "metadata": {},
   "outputs": [
    {
     "data": {
      "text/plain": [
       "371"
      ]
     },
     "execution_count": 38,
     "metadata": {},
     "output_type": "execute_result"
    }
   ],
   "source": [
    "mh_dist(368078)"
   ]
  },
  {
   "cell_type": "markdown",
   "metadata": {},
   "source": [
    "## Day 3 Part 2 \n",
    "As a stress test on the system, the programs here clear the grid and then store the value 1 in square 1. Then, in the same allocation order as shown above, they store the sum of the values in all adjacent squares, including diagonals.\n",
    "\n",
    "So, the first few squares' values are chosen as follows:\n",
    "\n",
    "Square 1 starts with the value 1.\n",
    "Square 2 has only one adjacent filled square (with value 1), so it also stores 1.\n",
    "Square 3 has both of the above squares as neighbors and stores the sum of their values, 2.\n",
    "Square 4 has all three of the aforementioned squares as neighbors and stores the sum of their values, 4.\n",
    "Square 5 only has the first and fourth squares as neighbors, so it gets the value 5.\n",
    "Once a square is written, its value does not change. Therefore, the first few squares would receive the following values:\n",
    "\n",
    "    147  142  133  122   59\n",
    "    304    5    4    2   57\n",
    "    330   10    1    1   54\n",
    "    351   11   23   25   26\n",
    "    362  747  806--->   ...\n",
    "\n",
    "What is the first value written that is larger than your puzzle input?\n",
    "\n",
    "Your puzzle answer was 369601."
   ]
  },
  {
   "cell_type": "code",
   "execution_count": 39,
   "metadata": {
    "collapsed": true
   },
   "outputs": [],
   "source": [
    "spiral_test = zip(ht_list(1) + ht_list(9) + ht_list(25), ro_list(1) + ro_list(9) + ro_list(25))"
   ]
  },
  {
   "cell_type": "code",
   "execution_count": 40,
   "metadata": {
    "collapsed": true
   },
   "outputs": [],
   "source": [
    "from collections import defaultdict"
   ]
  },
  {
   "cell_type": "code",
   "execution_count": 41,
   "metadata": {
    "collapsed": true
   },
   "outputs": [],
   "source": [
    "def init_mem():\n",
    "    mem = defaultdict(int)\n",
    "    mem[(0, 0)] = 1\n",
    "    return mem"
   ]
  },
  {
   "cell_type": "code",
   "execution_count": 42,
   "metadata": {
    "collapsed": true
   },
   "outputs": [],
   "source": [
    "def neighbor_sum(pos, mem):\n",
    "    y, x = pos\n",
    "    return (mem[(y-1, x)] + mem[(y+1, x)] + mem[(y, x-1)] + mem[(y, x+1)] \n",
    "                                + mem[(y+1, x+1)] + mem[(y+1, x-1)] + mem[(y-1, x+1)] + mem[(y-1, x-1)])"
   ]
  },
  {
   "cell_type": "code",
   "execution_count": 43,
   "metadata": {
    "collapsed": true
   },
   "outputs": [],
   "source": [
    "def first_greater(n=10):\n",
    "    mem_t = init_mem()\n",
    "    ss = 3 \n",
    "    max_sum = 0\n",
    "    while max_sum < n:\n",
    "        positions = zip(ht_list(ss**2), ro_list(ss**2))\n",
    "        for pos in positions:\n",
    "            max_sum = neighbor_sum(pos, mem_t)\n",
    "            mem_t[pos] = max_sum\n",
    "            if max_sum > n:\n",
    "                break\n",
    "        ss += 2\n",
    "    return mem_t, max_sum"
   ]
  },
  {
   "cell_type": "code",
   "execution_count": 44,
   "metadata": {},
   "outputs": [
    {
     "data": {
      "text/plain": [
       "[1,\n",
       " 1,\n",
       " 2,\n",
       " 4,\n",
       " 5,\n",
       " 10,\n",
       " 11,\n",
       " 23,\n",
       " 25,\n",
       " 26,\n",
       " 54,\n",
       " 57,\n",
       " 59,\n",
       " 122,\n",
       " 133,\n",
       " 142,\n",
       " 147,\n",
       " 304,\n",
       " 330,\n",
       " 351,\n",
       " 362,\n",
       " 747,\n",
       " 806,\n",
       " 880,\n",
       " 0]"
      ]
     },
     "execution_count": 44,
     "metadata": {},
     "output_type": "execute_result"
    }
   ],
   "source": [
    "# Testing\n",
    "mem, _ = first_greater(806)\n",
    "[mem[pos] for pos in spiral_test]"
   ]
  },
  {
   "cell_type": "code",
   "execution_count": 45,
   "metadata": {},
   "outputs": [
    {
     "data": {
      "text/plain": [
       "369601"
      ]
     },
     "execution_count": 45,
     "metadata": {},
     "output_type": "execute_result"
    }
   ],
   "source": [
    "mem_res, max_sum = first_greater(368078)\n",
    "max_sum"
   ]
  },
  {
   "cell_type": "markdown",
   "metadata": {
    "collapsed": true
   },
   "source": [
    "# Day 4: High-Entropy Passphrases\n",
    "\n",
    "A new system policy has been put in place that requires all accounts to use a passphrase instead of simply a password. A passphrase consists of a series of words (lowercase letters) separated by spaces.\n",
    "\n",
    "To ensure security, a valid passphrase must contain no duplicate words.\n",
    "\n",
    "For example:\n",
    "\n",
    "    aa bb cc dd ee is valid.\n",
    "    aa bb cc dd aa is not valid - the word aa appears more than once.\n",
    "    aa bb cc dd aaa is valid - aa and aaa count as different words.\n",
    "\n",
    "The system's full passphrase list is available as your puzzle input. How many passphrases are valid?\n",
    "\n",
    "Your puzzle answer was 325."
   ]
  },
  {
   "cell_type": "code",
   "execution_count": 46,
   "metadata": {
    "collapsed": true
   },
   "outputs": [],
   "source": [
    "test_phrases = \"\"\"aa bb cc dd ee \n",
    "aa bb cc dd aa \n",
    "aa bb cc dd aaa \"\"\"\n",
    "test_valid = [True, False, True]"
   ]
  },
  {
   "cell_type": "code",
   "execution_count": 47,
   "metadata": {
    "collapsed": true
   },
   "outputs": [],
   "source": [
    "def valid_phrase(phrase, sort=False):\n",
    "    words = phrase.split()\n",
    "    if sort:\n",
    "        words = [''.join(sorted(w)) for w in words]\n",
    "    return len(np.unique(words)) == len(words)"
   ]
  },
  {
   "cell_type": "code",
   "execution_count": 48,
   "metadata": {
    "collapsed": true
   },
   "outputs": [],
   "source": [
    "def valid_phrases(phrases, sort=False):\n",
    "    return np.sum(np.array([valid_phrase(phrase, sort=sort) for phrase in phrases.split('\\n')]))"
   ]
  },
  {
   "cell_type": "code",
   "execution_count": 49,
   "metadata": {},
   "outputs": [
    {
     "data": {
      "text/plain": [
       "2"
      ]
     },
     "execution_count": 49,
     "metadata": {},
     "output_type": "execute_result"
    }
   ],
   "source": [
    "valid_phrases(test_phrases)"
   ]
  },
  {
   "cell_type": "code",
   "execution_count": 50,
   "metadata": {
    "collapsed": true
   },
   "outputs": [],
   "source": [
    "test_input=read_input('day4_input.txt')"
   ]
  },
  {
   "cell_type": "code",
   "execution_count": 51,
   "metadata": {},
   "outputs": [
    {
     "data": {
      "text/plain": [
       "325"
      ]
     },
     "execution_count": 51,
     "metadata": {},
     "output_type": "execute_result"
    }
   ],
   "source": [
    "valid_phrases(test_input)"
   ]
  },
  {
   "cell_type": "markdown",
   "metadata": {},
   "source": [
    "## Day 4 Part 2\n",
    "For added security, yet another system policy has been put in place. Now, a valid passphrase must contain no two words that are anagrams of each other - that is, a passphrase is invalid if any word's letters can be rearranged to form any other word in the passphrase.\n",
    "\n",
    "For example:\n",
    "\n",
    "    abcde fghij is a valid passphrase.\n",
    "    abcde xyz ecdab is not valid - the letters from the third word can be rearranged to form the first word.\n",
    "    a ab abc abd abf abj is a valid passphrase, because all letters need to be used when forming another word.\n",
    "    iiii oiii ooii oooi oooo is valid.\n",
    "    oiii ioii iioi iiio is not valid - any of these words can be rearranged to form any other word.\n",
    "\n",
    "Under this new system policy, how many passphrases are valid?\n",
    "\n",
    "Your puzzle answer was 119."
   ]
  },
  {
   "cell_type": "code",
   "execution_count": 52,
   "metadata": {
    "collapsed": true
   },
   "outputs": [],
   "source": [
    "test_phrases_pt2 = \"\"\"abcde fghij \n",
    "abcde xyz ecdab \n",
    "a ab abc abd abf abj \n",
    "iiii oiii ooii oooi oooo \n",
    "oiii ioii iioi iiio \"\"\"\n",
    "test_valid_part2 = [True, False, True, True, False]"
   ]
  },
  {
   "cell_type": "code",
   "execution_count": 53,
   "metadata": {},
   "outputs": [
    {
     "data": {
      "text/plain": [
       "[True, False, True, True, False]"
      ]
     },
     "execution_count": 53,
     "metadata": {},
     "output_type": "execute_result"
    }
   ],
   "source": [
    "[valid_phrase(phrase, True) for phrase in test_phrases_pt2.split('\\n')]"
   ]
  },
  {
   "cell_type": "code",
   "execution_count": 54,
   "metadata": {},
   "outputs": [
    {
     "data": {
      "text/plain": [
       "119"
      ]
     },
     "execution_count": 54,
     "metadata": {},
     "output_type": "execute_result"
    }
   ],
   "source": [
    "valid_phrases(test_input, True)"
   ]
  },
  {
   "cell_type": "markdown",
   "metadata": {
    "collapsed": true
   },
   "source": [
    "# Day 5 A Maze of Twisty Trampolines, All Alike\n",
    "\n",
    "An urgent interrupt arrives from the CPU: it's trapped in a maze of jump instructions, and it would like assistance from any programs with spare cycles to help find the exit.\n",
    "\n",
    "The message includes a list of the offsets for each jump. Jumps are relative: -1 moves to the previous instruction, and 2 skips the next one. Start at the first instruction in the list. The goal is to follow the jumps until one leads outside the list.\n",
    "\n",
    "In addition, these instructions are a little strange; after each jump, the offset of that instruction increases by 1. So, if you come across an offset of 3, you would move three instructions forward, but change it to a 4 for the next time it is encountered.\n",
    "\n",
    "For example, consider the following list of jump offsets:\n",
    "\n",
    "    0\n",
    "    3\n",
    "    0\n",
    "    1\n",
    "    -3\n",
    "    \n",
    "Positive jumps (\"forward\") move downward; negative jumps move upward. For legibility in this example, these offset values will be written all on one line, with the current instruction marked in parentheses. The following steps would be taken before an exit is found:\n",
    "\n",
    "    (0) 3  0  1  -3  - before we have taken any steps.\n",
    "    (1) 3  0  1  -3  - jump with offset 0 (that is, don't jump at all). Fortunately, the instruction is then incremented to 1.\n",
    "     2 (3) 0  1  -3  - step forward because of the instruction we just modified. The first instruction is incremented again, now to 2.\n",
    "     2  4  0  1 (-3) - jump all the way to the end; leave a 4 behind.\n",
    "     2 (4) 0  1  -2  - go back to where we just were; increment -3 to -2.\n",
    "     2  5  0  1  -2  - jump 4 steps forward, escaping the maze.\n",
    " \n",
    "In this example, the exit is reached in 5 steps.\n",
    "\n",
    "How many steps does it take to reach the exit?\n",
    "\n",
    "Your puzzle answer was 351282."
   ]
  },
  {
   "cell_type": "code",
   "execution_count": 55,
   "metadata": {
    "collapsed": true
   },
   "outputs": [],
   "source": [
    "def jump(lst, orig_mode=True):\n",
    "    n = 0\n",
    "    i = 0\n",
    "    in_range = True\n",
    "    while in_range:\n",
    "        offset = lst[i]\n",
    "        i_next = i + offset\n",
    "#         print(n,i, i_next, lst)\n",
    "        if orig_mode:\n",
    "            lst[i] += 1\n",
    "        else:\n",
    "            lst[i] += 1 if offset < 3 else -1\n",
    "        i = i_next\n",
    "        in_range = i >= 0 and i < len(lst) \n",
    "#         if not in_range:\n",
    "#             break\n",
    "        n += 1\n",
    "    return n"
   ]
  },
  {
   "cell_type": "code",
   "execution_count": 56,
   "metadata": {
    "collapsed": true
   },
   "outputs": [],
   "source": [
    "lst_test = [0, 3, 0, 1, -3]"
   ]
  },
  {
   "cell_type": "code",
   "execution_count": 57,
   "metadata": {},
   "outputs": [
    {
     "data": {
      "text/plain": [
       "5"
      ]
     },
     "execution_count": 57,
     "metadata": {},
     "output_type": "execute_result"
    }
   ],
   "source": [
    "jump(lst_test)"
   ]
  },
  {
   "cell_type": "code",
   "execution_count": 58,
   "metadata": {
    "collapsed": true
   },
   "outputs": [],
   "source": [
    "day5_input = read_input('day5_input.txt')"
   ]
  },
  {
   "cell_type": "code",
   "execution_count": 59,
   "metadata": {
    "collapsed": true
   },
   "outputs": [],
   "source": [
    "lst_input = [int(c) for c in day5_input.split()]"
   ]
  },
  {
   "cell_type": "code",
   "execution_count": 60,
   "metadata": {},
   "outputs": [
    {
     "data": {
      "text/plain": [
       "351282"
      ]
     },
     "execution_count": 60,
     "metadata": {},
     "output_type": "execute_result"
    }
   ],
   "source": [
    "jump(lst_input)"
   ]
  },
  {
   "cell_type": "markdown",
   "metadata": {},
   "source": [
    "## Day 5 Part 2\n",
    "Now, the jumps are even stranger: after each jump, if the offset was three or more, instead decrease it by 1. Otherwise, increase it by 1 as before.\n",
    "\n",
    "Using this rule with the above example, the process now takes 10 steps, and the offset values after finding the exit are left as 2 3 2 3 -1.\n",
    "\n",
    "How many steps does it now take to reach the exit?\n",
    "\n",
    "Your puzzle answer was 24568703."
   ]
  },
  {
   "cell_type": "code",
   "execution_count": 61,
   "metadata": {},
   "outputs": [
    {
     "data": {
      "text/plain": [
       "24568703"
      ]
     },
     "execution_count": 61,
     "metadata": {},
     "output_type": "execute_result"
    }
   ],
   "source": [
    "lst_input = [int(c) for c in day5_input.split()]\n",
    "jump(lst_input, False)"
   ]
  },
  {
   "cell_type": "markdown",
   "metadata": {
    "collapsed": true
   },
   "source": [
    "# Day 6 Memory Reallocation\n",
    "\n",
    "A debugger program here is having an issue: it is trying to repair a memory reallocation routine, but it keeps getting stuck in an infinite loop.\n",
    "\n",
    "In this area, there are sixteen memory banks; each memory bank can hold any number of blocks. The goal of the reallocation routine is to balance the blocks between the memory banks.\n",
    "\n",
    "The reallocation routine operates in cycles. In each cycle, it finds the memory bank with the most blocks (ties won by the lowest-numbered memory bank) and redistributes those blocks among the banks. To do this, it removes all of the blocks from the selected bank, then moves to the next (by index) memory bank and inserts one of the blocks. It continues doing this until it runs out of blocks; if it reaches the last memory bank, it wraps around to the first one.\n",
    "\n",
    "The debugger would like to know how many redistributions can be done before a blocks-in-banks configuration is produced that has been seen before.\n",
    "\n",
    "For example, imagine a scenario with only four memory banks:\n",
    "\n",
    "- The banks start with 0, 2, 7, and 0 blocks. The third bank has the most blocks, so it is chosen for redistribution.\n",
    "- Starting with the next bank (the fourth bank) and then continuing to the first bank, the second bank, and so on, the 7 blocks are spread out over the memory banks. The fourth, first, and second banks get two blocks each, and the third bank gets one back. The final result looks like this: 2 4 1 2.\n",
    "- Next, the second bank is chosen because it contains the most blocks (four). Because there are four memory banks, each gets one block. The result is: 3 1 2 3.\n",
    "- Now, there is a tie between the first and fourth memory banks, both of which have three blocks. The first bank wins the tie, and its three blocks are distributed evenly over the other three banks, leaving it with none: 0 2 3 4.\n",
    "- The fourth bank is chosen, and its four blocks are distributed such that each of the four banks receives one: 1 3 4 1.\n",
    "- The third bank is chosen, and the same thing happens: 2 4 1 2.\n",
    "\n",
    "At this point, we've reached a state we've seen before: 2 4 1 2 was already seen. The infinite loop is detected after the fifth block redistribution cycle, and so the answer in this example is 5.\n",
    "\n",
    "Given the initial block counts in your puzzle input, how many redistribution cycles must be completed before a configuration is produced that has been seen before?\n",
    "\n",
    "Your puzzle answer was 14029."
   ]
  },
  {
   "cell_type": "code",
   "execution_count": 62,
   "metadata": {
    "collapsed": true
   },
   "outputs": [],
   "source": [
    "def reallocate(lst):\n",
    "    # Find index of max element\n",
    "    ind = np.argmax(lst)\n",
    "    n = len(lst)\n",
    "    block = lst[ind]\n",
    "    lst[ind] = 0\n",
    "    while block > 0:\n",
    "        ind = (ind + 1) % n\n",
    "        lst[ind] += 1\n",
    "        block -= 1"
   ]
  },
  {
   "cell_type": "markdown",
   "metadata": {},
   "source": [
    "## Day 6 Part 2\n",
    "Out of curiosity, the debugger would also like to know the size of the loop: starting from a state that has already been seen, how many block redistribution cycles must be performed before that same state is seen again?\n",
    "\n",
    "In the example above, 2 4 1 2 is seen again after four cycles, and so the answer in that example would be 4.\n",
    "\n",
    "How many cycles are in the infinite loop that arises from the configuration in your puzzle input?\n",
    "\n",
    "Your puzzle answer was 2765."
   ]
  },
  {
   "cell_type": "code",
   "execution_count": 63,
   "metadata": {
    "collapsed": true
   },
   "outputs": [],
   "source": [
    "def cycle_realloc(lst):\n",
    "    prev = {}\n",
    "    n = 0\n",
    "    stop = False\n",
    "    while not stop:\n",
    "        lst_rep = ' '.join(str(x) for x in lst)\n",
    "#         print(lst_rep)\n",
    "        if lst_rep in prev:\n",
    "            stop = True\n",
    "            since_first_seen = n - prev[lst_rep]\n",
    "            break\n",
    "        # Store value of list\n",
    "        prev[lst_rep] = n\n",
    "        reallocate(lst)\n",
    "        n += 1\n",
    "    return n, since_first_seen"
   ]
  },
  {
   "cell_type": "code",
   "execution_count": 64,
   "metadata": {},
   "outputs": [
    {
     "data": {
      "text/plain": [
       "(5, 4)"
      ]
     },
     "execution_count": 64,
     "metadata": {},
     "output_type": "execute_result"
    }
   ],
   "source": [
    "cycle_realloc([0, 2, 7, 0])"
   ]
  },
  {
   "cell_type": "code",
   "execution_count": 65,
   "metadata": {
    "collapsed": true
   },
   "outputs": [],
   "source": [
    "day6_input = [int(c) for c in \"\"\"10\t3\t15\t10\t5\t15\t5\t15\t9\t2\t5\t8\t5\t2\t3\t6\"\"\".split()]"
   ]
  },
  {
   "cell_type": "code",
   "execution_count": 66,
   "metadata": {},
   "outputs": [
    {
     "data": {
      "text/plain": [
       "(14029, 2765)"
      ]
     },
     "execution_count": 66,
     "metadata": {},
     "output_type": "execute_result"
    }
   ],
   "source": [
    "cycle_realloc(day6_input)"
   ]
  },
  {
   "cell_type": "markdown",
   "metadata": {
    "collapsed": true
   },
   "source": [
    "# Day 7 Recursive Circus ---\n",
    "\n",
    "Wandering further through the circuits of the computer, you come upon a tower of programs that have gotten themselves into a bit of trouble. A recursive algorithm has gotten out of hand, and now they're balanced precariously in a large tower.\n",
    "\n",
    "One program at the bottom supports the entire tower. It's holding a large disc, and on the disc are balanced several more sub-towers. At the bottom of these sub-towers, standing on the bottom disc, are other programs, each holding their own disc, and so on. At the very tops of these sub-sub-sub-...-towers, many programs stand simply keeping the disc below them balanced but with no disc of their own.\n",
    "\n",
    "You offer to help, but first you need to understand the structure of these towers. You ask each program to yell out their name, their weight, and (if they're holding a disc) the names of the programs immediately above them balancing on that disc. You write this information down (your puzzle input). Unfortunately, in their panic, they don't do this in an orderly fashion; by the time you're done, you're not sure which program gave which information.\n",
    "\n",
    "For example, if your list is the following:\n",
    "\n",
    "    pbga (66)\n",
    "    xhth (57)\n",
    "    ebii (61)\n",
    "    havc (66)\n",
    "    ktlj (57)\n",
    "    fwft (72) -> ktlj, cntj, xhth\n",
    "    qoyq (66)\n",
    "    padx (45) -> pbga, havc, qoyq\n",
    "    tknk (41) -> ugml, padx, fwft\n",
    "    jptl (61)\n",
    "    ugml (68) -> gyxo, ebii, jptl\n",
    "    gyxo (61)\n",
    "    cntj (57)\n",
    "...then you would be able to recreate the structure of the towers that looks like this:\n",
    "\n",
    "                    gyxo\n",
    "                  /     \n",
    "             ugml - ebii\n",
    "           /      \\     \n",
    "          |         jptl\n",
    "          |        \n",
    "          |         pbga\n",
    "         /        /\n",
    "    tknk --- padx - havc\n",
    "         \\        \\\n",
    "          |         qoyq\n",
    "          |             \n",
    "          |         ktlj\n",
    "           \\      /     \n",
    "             fwft - cntj\n",
    "                  \\     \n",
    "                    xhth\n",
    "In this example, tknk is at the bottom of the tower (the bottom program), and is holding up ugml, padx, and fwft. Those programs are, in turn, holding up other programs; in this example, none of those programs are holding up any other programs, and are all the tops of their own towers. (The actual tower balancing in front of you is much larger.)\n",
    "\n",
    "Before you're ready to help them, you need to make sure your information is correct. What is the name of the bottom program?\n",
    "\n",
    "Your puzzle answer was hlqnsbe."
   ]
  },
  {
   "cell_type": "code",
   "execution_count": 67,
   "metadata": {
    "collapsed": true
   },
   "outputs": [],
   "source": [
    "day7_test_input=\"\"\"pbga (66)\n",
    "xhth (57)\n",
    "ebii (61)\n",
    "havc (66)\n",
    "ktlj (57)\n",
    "fwft (72) -> ktlj, cntj, xhth\n",
    "qoyq (66)\n",
    "padx (45) -> pbga, havc, qoyq\n",
    "tknk (41) -> ugml, padx, fwft\n",
    "jptl (61)\n",
    "ugml (68) -> gyxo, ebii, jptl\n",
    "gyxo (61)\n",
    "cntj (57)\"\"\""
   ]
  },
  {
   "cell_type": "code",
   "execution_count": 68,
   "metadata": {
    "collapsed": true
   },
   "outputs": [],
   "source": [
    "def parse_programs(prog_str):\n",
    "    G = nx.DiGraph()\n",
    "    prog_list = re.findall('(\\w+)\\s\\((\\d+)\\)', prog_str)\n",
    "    for prog in prog_list:\n",
    "        G.add_node(prog[0], weight=int(prog[1]))\n",
    "    # Add links\n",
    "    link_lst = [s.split(' -> ') for s in prog_str.split('\\n')]\n",
    "    for link in link_lst:\n",
    "        if len(link) > 1:\n",
    "            parent = link[0].split()[0]\n",
    "            children = [c.strip() for c in link[1].split(',')]\n",
    "            for child in children:\n",
    "                G.add_edge(parent, child)\n",
    "    return G"
   ]
  },
  {
   "cell_type": "code",
   "execution_count": 69,
   "metadata": {
    "collapsed": true
   },
   "outputs": [],
   "source": [
    "G_test = parse_programs(day7_test_input)"
   ]
  },
  {
   "cell_type": "code",
   "execution_count": 70,
   "metadata": {},
   "outputs": [
    {
     "data": {
      "text/plain": [
       "NodeDataView({'xhth': {'weight': 57}, 'ebii': {'weight': 61}, 'qoyq': {'weight': 66}, 'fwft': {'weight': 72}, 'cntj': {'weight': 57}, 'tknk': {'weight': 41}, 'havc': {'weight': 66}, 'ugml': {'weight': 68}, 'jptl': {'weight': 61}, 'pbga': {'weight': 66}, 'ktlj': {'weight': 57}, 'padx': {'weight': 45}, 'gyxo': {'weight': 61}})"
      ]
     },
     "execution_count": 70,
     "metadata": {},
     "output_type": "execute_result"
    }
   ],
   "source": [
    "G_test.nodes(data=True)"
   ]
  },
  {
   "cell_type": "code",
   "execution_count": 71,
   "metadata": {
    "collapsed": true
   },
   "outputs": [],
   "source": [
    "def find_root_prog(G):\n",
    "    for node in G.nodes():\n",
    "        if len(G.pred[node]) == 0:\n",
    "            return node"
   ]
  },
  {
   "cell_type": "code",
   "execution_count": 72,
   "metadata": {},
   "outputs": [
    {
     "data": {
      "text/plain": [
       "'tknk'"
      ]
     },
     "execution_count": 72,
     "metadata": {},
     "output_type": "execute_result"
    }
   ],
   "source": [
    "find_root_prog(G_test)"
   ]
  },
  {
   "cell_type": "code",
   "execution_count": 73,
   "metadata": {
    "collapsed": true
   },
   "outputs": [],
   "source": [
    "day7_input = read_input('day7_input.txt')"
   ]
  },
  {
   "cell_type": "code",
   "execution_count": 74,
   "metadata": {
    "collapsed": true
   },
   "outputs": [],
   "source": [
    "G_day7 = parse_programs(day7_input)"
   ]
  },
  {
   "cell_type": "code",
   "execution_count": 75,
   "metadata": {},
   "outputs": [
    {
     "data": {
      "text/plain": [
       "'hlqnsbe'"
      ]
     },
     "execution_count": 75,
     "metadata": {},
     "output_type": "execute_result"
    }
   ],
   "source": [
    "find_root_prog(G_day7)"
   ]
  },
  {
   "cell_type": "markdown",
   "metadata": {},
   "source": [
    "## Day 7 Part 2\n",
    "The programs explain the situation: they can't get down. Rather, they could get down, if they weren't expending all of their energy trying to keep the tower balanced. Apparently, one program has the wrong weight, and until it's fixed, they're stuck here.\n",
    "\n",
    "For any program holding a disc, each program standing on that disc forms a sub-tower. Each of those sub-towers are supposed to be the same weight, or the disc itself isn't balanced. The weight of a tower is the sum of the weights of the programs in that tower.\n",
    "\n",
    "In the example above, this means that for ugml's disc to be balanced, gyxo, ebii, and jptl must all have the same weight, and they do: 61.\n",
    "\n",
    "However, for tknk to be balanced, each of the programs standing on its disc and all programs above it must each match. This means that the following sums must all be the same:\n",
    "\n",
    "    ugml + (gyxo + ebii + jptl) = 68 + (61 + 61 + 61) = 251\n",
    "    padx + (pbga + havc + qoyq) = 45 + (66 + 66 + 66) = 243\n",
    "    fwft + (ktlj + cntj + xhth) = 72 + (57 + 57 + 57) = 243\n",
    "As you can see, tknk's disc is unbalanced: ugml's stack is heavier than the other two. Even though the nodes above ugml are balanced, ugml itself is too heavy: it needs to be 8 units lighter for its stack to weigh 243 and keep the towers balanced. If this change were made, its weight would be 60.\n",
    "\n",
    "Given that exactly one program is the wrong weight, what would its weight need to be to balance the entire tower?\n",
    "\n",
    "Your puzzle answer was 1993."
   ]
  },
  {
   "cell_type": "code",
   "execution_count": 76,
   "metadata": {
    "collapsed": true
   },
   "outputs": [],
   "source": [
    "def sum_child_weights(G):\n",
    "    for node in G.nodes():\n",
    "        G.node[node]['child_weight'] = G.node[node]['weight']\n",
    "        for n in nx.descendants(G, node):\n",
    "            G.node[node]['child_weight'] += G.node[n]['weight']\n",
    "    return G"
   ]
  },
  {
   "cell_type": "code",
   "execution_count": 77,
   "metadata": {
    "collapsed": true
   },
   "outputs": [],
   "source": [
    "G_test = sum_child_weights(G_test)"
   ]
  },
  {
   "cell_type": "code",
   "execution_count": 78,
   "metadata": {},
   "outputs": [
    {
     "data": {
      "text/plain": [
       "NodeDataView({'xhth': {'child_weight': 57, 'weight': 57}, 'ebii': {'child_weight': 61, 'weight': 61}, 'qoyq': {'child_weight': 66, 'weight': 66}, 'fwft': {'child_weight': 243, 'weight': 72}, 'cntj': {'child_weight': 57, 'weight': 57}, 'tknk': {'child_weight': 778, 'weight': 41}, 'havc': {'child_weight': 66, 'weight': 66}, 'ugml': {'child_weight': 251, 'weight': 68}, 'jptl': {'child_weight': 61, 'weight': 61}, 'pbga': {'child_weight': 66, 'weight': 66}, 'ktlj': {'child_weight': 57, 'weight': 57}, 'padx': {'child_weight': 243, 'weight': 45}, 'gyxo': {'child_weight': 61, 'weight': 61}})"
      ]
     },
     "execution_count": 78,
     "metadata": {},
     "output_type": "execute_result"
    }
   ],
   "source": [
    "G_test.nodes(data=True)"
   ]
  },
  {
   "cell_type": "code",
   "execution_count": 79,
   "metadata": {
    "collapsed": true
   },
   "outputs": [],
   "source": [
    "def find_unbalanced(G):\n",
    "    res = []\n",
    "    for node in G.nodes():\n",
    "        child_weights = {n: G.node[n]['child_weight'] for n in nx.neighbors(G, node)}\n",
    "        if len(set(child_weights.values())) > 1:\n",
    "            res.append(child_weights)\n",
    "    return res"
   ]
  },
  {
   "cell_type": "code",
   "execution_count": 80,
   "metadata": {},
   "outputs": [
    {
     "data": {
      "text/plain": [
       "[{'fwft': 243, 'padx': 243, 'ugml': 251}]"
      ]
     },
     "execution_count": 80,
     "metadata": {},
     "output_type": "execute_result"
    }
   ],
   "source": [
    "find_unbalanced(G_test)"
   ]
  },
  {
   "cell_type": "code",
   "execution_count": 81,
   "metadata": {
    "collapsed": true
   },
   "outputs": [],
   "source": [
    "G_day7 = sum_child_weights(G_day7)"
   ]
  },
  {
   "cell_type": "code",
   "execution_count": 82,
   "metadata": {},
   "outputs": [
    {
     "data": {
      "text/plain": [
       "[{'aurik': 12933,\n",
       "  'fcmspin': 12928,\n",
       "  'hpqvzn': 12928,\n",
       "  'hymjivf': 12928,\n",
       "  'qgrkb': 12928},\n",
       " {'jkbuq': 93609, 'pdvmaam': 93609, 'rilyl': 93614, 'vhyiaf': 93609},\n",
       " {'bykobk': 2097,\n",
       "  'jriph': 2102,\n",
       "  'uylvg': 2097,\n",
       "  'ywdvft': 2097,\n",
       "  'yxhntq': 2097}]"
      ]
     },
     "execution_count": 82,
     "metadata": {},
     "output_type": "execute_result"
    }
   ],
   "source": [
    "find_unbalanced(G_day7)"
   ]
  },
  {
   "cell_type": "code",
   "execution_count": 83,
   "metadata": {},
   "outputs": [
    {
     "data": {
      "text/plain": [
       "{'child_weight': 2102, 'weight': 1998}"
      ]
     },
     "execution_count": 83,
     "metadata": {},
     "output_type": "execute_result"
    }
   ],
   "source": [
    "G_day7.node['jriph']"
   ]
  },
  {
   "cell_type": "markdown",
   "metadata": {},
   "source": [
    "By eye we can see that reducing the weight of 'jriph' by 5 to 1993 will balance that set of programs (and hence their parents)"
   ]
  },
  {
   "cell_type": "markdown",
   "metadata": {
    "collapsed": true
   },
   "source": [
    "# Day 8 I Heard You Like Registers \n",
    "\n",
    "You receive a signal directly from the CPU. Because of your recent assistance with jump instructions, it would like you to compute the result of a series of unusual register instructions.\n",
    "\n",
    "Each instruction consists of several parts: the register to modify, whether to increase or decrease that register's value, the amount by which to increase or decrease it, and a condition. If the condition fails, skip the instruction without modifying the register. The registers all start at 0. The instructions look like this:\n",
    "\n",
    "    b inc 5 if a > 1\n",
    "    a inc 1 if b < 5\n",
    "    c dec -10 if a >= 1\n",
    "    c inc -20 if c == 10\n",
    "    \n",
    "These instructions would be processed as follows:\n",
    "\n",
    "    Because a starts at 0, it is not greater than 1, and so b is not modified.\n",
    "    a is increased by 1 (to 1) because b is less than 5 (it is 0).\n",
    "    c is decreased by -10 (to 10) because a is now greater than or equal to 1 (it is 1).\n",
    "    c is increased by -20 (to -10) because c is equal to 10.\n",
    "\n",
    "After this process, the largest value in any register is 1.\n",
    "\n",
    "You might also encounter <= (less than or equal to) or != (not equal to). However, the CPU doesn't have the bandwidth to tell you what all the registers are named, and leaves that to you to determine.\n",
    "\n",
    "What is the largest value in any register after completing the instructions in your puzzle input?\n",
    "\n",
    "Your puzzle answer was 7787.\n",
    "\n",
    "\n",
    "## Part Two\n",
    "\n",
    "To be safe, the CPU also needs to know the highest value held in any register during this process so that it can decide how much memory to allocate to these operations. For example, in the above instructions, the highest value ever held was 10 (in register c after the third instruction was evaluated).\n",
    "\n",
    "Your puzzle answer was 8997.\n"
   ]
  },
  {
   "cell_type": "code",
   "execution_count": 84,
   "metadata": {
    "collapsed": true
   },
   "outputs": [],
   "source": [
    "day8_test = \"\"\"b inc 5 if a > 1\n",
    "a inc 1 if b < 5\n",
    "c dec -10 if a >= 1\n",
    "c inc -20 if c == 10\"\"\""
   ]
  },
  {
   "cell_type": "code",
   "execution_count": 85,
   "metadata": {
    "collapsed": true
   },
   "outputs": [],
   "source": [
    "def register_parse(commands_str):\n",
    "    register = defaultdict(int)\n",
    "    max_seen = 0\n",
    "    commands = commands_str.split('\\n')\n",
    "    for command in commands:\n",
    "        instr = command.split()\n",
    "        target_reg = instr[0]\n",
    "        inc_dec = instr[1]\n",
    "        amt = int(instr[2])\n",
    "        test_reg = register[instr[4]]\n",
    "        # Possible operators: <, >, >=, <=, !=, ''\n",
    "        op = instr[5]\n",
    "        target_amt = int(instr[6])\n",
    "        apply_instr = False\n",
    "        if op == '<':\n",
    "            apply_instr = test_reg < target_amt\n",
    "        elif op == '>':\n",
    "            apply_instr = test_reg > target_amt\n",
    "        elif op == '<=':\n",
    "            apply_instr = test_reg <= target_amt\n",
    "        elif op == '>=':\n",
    "            apply_instr = test_reg >= target_amt\n",
    "        elif op == '==':\n",
    "            apply_instr = test_reg == target_amt\n",
    "        elif op == '!=':\n",
    "            apply_instr = test_reg != target_amt\n",
    "        if apply_instr:\n",
    "            if inc_dec == 'inc':\n",
    "                register[target_reg] += amt\n",
    "            else:\n",
    "                register[target_reg] -= amt\n",
    "        max_seen = max(max(register.values()), max_seen)\n",
    "    # Max value at end of sequence\n",
    "    max_end = max(register.values())\n",
    "    return max_end, max_seen"
   ]
  },
  {
   "cell_type": "code",
   "execution_count": 86,
   "metadata": {},
   "outputs": [
    {
     "data": {
      "text/plain": [
       "(1, 10)"
      ]
     },
     "execution_count": 86,
     "metadata": {},
     "output_type": "execute_result"
    }
   ],
   "source": [
    "register_parse(day8_test)"
   ]
  },
  {
   "cell_type": "code",
   "execution_count": 87,
   "metadata": {
    "collapsed": true
   },
   "outputs": [],
   "source": [
    "day8_input = read_input('day8_input.txt')"
   ]
  },
  {
   "cell_type": "code",
   "execution_count": 88,
   "metadata": {},
   "outputs": [
    {
     "data": {
      "text/plain": [
       "(7787, 8997)"
      ]
     },
     "execution_count": 88,
     "metadata": {},
     "output_type": "execute_result"
    }
   ],
   "source": [
    "register_parse(day8_input)"
   ]
  },
  {
   "cell_type": "markdown",
   "metadata": {
    "collapsed": true
   },
   "source": [
    "# Day 9: Stream Processing \n",
    "\n",
    "A large stream blocks your path. According to the locals, it's not safe to cross the stream at the moment because it's full of garbage. You look down at the stream; rather than water, you discover that it's a stream of characters.\n",
    "\n",
    "You sit for a while and record part of the stream (your puzzle input). The characters represent groups - sequences that begin with { and end with }. Within a group, there are zero or more other things, separated by commas: either another group or garbage. Since groups can contain other groups, a } only closes the most-recently-opened unclosed group - that is, they are nestable. Your puzzle input represents a single, large group which itself contains many smaller ones.\n",
    "\n",
    "Sometimes, instead of a group, you will find garbage. Garbage begins with < and ends with >. Between those angle brackets, almost any character can appear, including { and }. Within garbage, < has no special meaning.\n",
    "\n",
    "In a futile attempt to clean up the garbage, some program has canceled some of the characters within it using !: inside garbage, any character that comes after ! should be ignored, including <, >, and even another !.\n",
    "\n",
    "You don't see any characters that deviate from these rules. Outside garbage, you only find well-formed groups, and garbage always terminates according to the rules above.\n",
    "\n",
    "Here are some self-contained pieces of garbage:\n",
    "\n",
    "    <>, empty garbage.\n",
    "    <random characters>, garbage containing random characters.\n",
    "    <<<<>, because the extra < are ignored.\n",
    "    <{!>}>, because the first > is canceled.\n",
    "    <!!>, because the second ! is canceled, allowing the > to terminate the garbage.\n",
    "    <!!!>>, because the second ! and the first > are canceled.\n",
    "    <{o\"i!a,<{i<a>, which ends at the first >.\n",
    "    \n",
    "Here are some examples of whole streams and the number of groups they contain:\n",
    "\n",
    "    {}, 1 group.\n",
    "    {{{}}}, 3 groups.\n",
    "    {{},{}}, also 3 groups.\n",
    "    {{{},{},{{}}}}, 6 groups.\n",
    "    {<{},{},{{}}>}, 1 group (which itself contains garbage).\n",
    "    {<a>,<a>,<a>,<a>}, 1 group.\n",
    "    {{<a>},{<a>},{<a>},{<a>}}, 5 groups.\n",
    "    {{<!>},{<!>},{<!>},{<a>}}, 2 groups (since all but the last > are canceled).\n",
    "    \n",
    "Your goal is to find the total score for all groups in your input. Each group is assigned a score which is one more than the score of the group that immediately contains it. (The outermost group gets a score of 1.)\n",
    "\n",
    "    {}, score of 1.\n",
    "    {{{}}}, score of 1 + 2 + 3 = 6.\n",
    "    {{},{}}, score of 1 + 2 + 2 = 5.\n",
    "    {{{},{},{{}}}}, score of 1 + 2 + 3 + 3 + 3 + 4 = 16.\n",
    "    {<a>,<a>,<a>,<a>}, score of 1.\n",
    "    {{<ab>},{<ab>},{<ab>},{<ab>}}, score of 1 + 2 + 2 + 2 + 2 = 9.\n",
    "    {{<!!>},{<!!>},{<!!>},{<!!>}}, score of 1 + 2 + 2 + 2 + 2 = 9.\n",
    "    {{<a!>},{<a!>},{<a!>},{<ab>}}, score of 1 + 2 = 3.\n",
    "What is the total score for all groups in your input?\n",
    "\n",
    "Your puzzle answer was 16869."
   ]
  },
  {
   "cell_type": "code",
   "execution_count": 89,
   "metadata": {
    "collapsed": true
   },
   "outputs": [],
   "source": [
    "def parse_stream(group_str):\n",
    "    group_sum = 0\n",
    "    garbage_sum = 0\n",
    "    depth = 0\n",
    "    mode = 'group'\n",
    "    for c in group_str:\n",
    "        # print(mode, c, depth, group_sum)\n",
    "        if mode == 'skip':\n",
    "            mode = 'garbage'\n",
    "            continue\n",
    "        if mode == 'group':\n",
    "            if c == '{':\n",
    "                depth += 1\n",
    "            elif c == '}':\n",
    "                group_sum += depth\n",
    "                depth -= 1\n",
    "            elif c == '<':\n",
    "                mode = 'garbage'\n",
    "            continue\n",
    "        if mode == 'garbage':\n",
    "            if c == '>':\n",
    "                mode = 'group'\n",
    "                continue\n",
    "            elif c == '!':\n",
    "                mode = 'skip'\n",
    "                continue\n",
    "            garbage_sum += 1\n",
    "        \n",
    "    return group_sum, garbage_sum"
   ]
  },
  {
   "cell_type": "code",
   "execution_count": 90,
   "metadata": {},
   "outputs": [
    {
     "data": {
      "text/plain": [
       "(3, 17)"
      ]
     },
     "execution_count": 90,
     "metadata": {},
     "output_type": "execute_result"
    }
   ],
   "source": [
    "parse_stream('{{<a!>},{<a!>},{<a!>},{<ab>}}')"
   ]
  },
  {
   "cell_type": "code",
   "execution_count": 91,
   "metadata": {
    "collapsed": true
   },
   "outputs": [],
   "source": [
    "day9_input = read_input('day9_input.txt')"
   ]
  },
  {
   "cell_type": "code",
   "execution_count": 92,
   "metadata": {},
   "outputs": [
    {
     "data": {
      "text/plain": [
       "(16869, 7284)"
      ]
     },
     "execution_count": 92,
     "metadata": {},
     "output_type": "execute_result"
    }
   ],
   "source": [
    "parse_stream(day9_input)"
   ]
  },
  {
   "cell_type": "markdown",
   "metadata": {},
   "source": [
    "## Part Two \n",
    "\n",
    "Now, you're ready to remove the garbage.\n",
    "\n",
    "To prove you've removed it, you need to count all of the characters within the garbage. The leading and trailing < and > don't count, nor do any canceled characters or the ! doing the canceling.\n",
    "\n",
    "    <>, 0 characters.\n",
    "    <random characters>, 17 characters.\n",
    "    <<<<>, 3 characters.\n",
    "    <{!>}>, 2 characters.\n",
    "    <!!>, 0 characters.\n",
    "    <!!!>>, 0 characters.\n",
    "    <{o\"i!a,<{i<a>, 10 characters.\n",
    "How many non-canceled characters are within the garbage in your puzzle input?\n",
    "\n",
    "Your puzzle answer was 7284."
   ]
  },
  {
   "cell_type": "markdown",
   "metadata": {
    "collapsed": true
   },
   "source": [
    "# Day 10: Knot Hash\n",
    "\n",
    "You come across some programs that are trying to implement a software emulation of a hash based on knot-tying. The hash these programs are implementing isn't very strong, but you decide to help them anyway. You make a mental note to remind the Elves later not to invent their own cryptographic functions.\n",
    "\n",
    "This hash function simulates tying a knot in a circle of string with 256 marks on it. Based on the input to be hashed, the function repeatedly selects a span of string, brings the ends together, and gives the span a half-twist to reverse the order of the marks within it. After doing this many times, the order of the marks is used to build the resulting hash.\n",
    "\n",
    "      4--5   pinch   4  5           4   1\n",
    "     /    \\  5,0,1  / \\/ \\  twist  / \\ / \\\n",
    "    3      0  -->  3      0  -->  3   X   0\n",
    "     \\    /         \\ /\\ /         \\ / \\ /\n",
    "      2--1           2  1           2   5\n",
    "To achieve this, begin with a list of numbers from 0 to 255, a current position which begins at 0 (the first element in the list), a skip size (which starts at 0), and a sequence of lengths (your puzzle input). Then, for each length:\n",
    "\n",
    "Reverse the order of that length of elements in the list, starting with the element at the current position.\n",
    "Move the current position forward by that length plus the skip size.\n",
    "Increase the skip size by one.\n",
    "The list is circular; if the current position and the length try to reverse elements beyond the end of the list, the operation reverses using as many extra elements as it needs from the front of the list. If the current position moves past the end of the list, it wraps around to the front. Lengths larger than the size of the list are invalid.\n",
    "\n",
    "Here's an example using a smaller list:\n",
    "\n",
    "Suppose we instead only had a circular list containing five elements, 0, 1, 2, 3, 4, and were given input lengths of 3, 4, 1, 5.\n",
    "\n",
    "    The list begins as [0] 1 2 3 4 (where square brackets indicate the current position).\n",
    "    The first length, 3, selects ([0] 1 2) 3 4 (where parentheses indicate the sublist to be reversed).\n",
    "    After reversing that section (0 1 2 into 2 1 0), we get ([2] 1 0) 3 4.\n",
    "    Then, the current position moves forward by the length, 3, plus the skip size, 0: 2 1 0 [3] 4. Finally, the skip size increases to 1.\n",
    "    The second length, 4, selects a section which wraps: 2 1) 0 ([3] 4.\n",
    "    The sublist 3 4 2 1 is reversed to form 1 2 4 3: 4 3) 0 ([1] 2.\n",
    "    The current position moves forward by the length plus the skip size, a total of 5, causing it not to move because it wraps around: 4 3 0 [1] 2. The skip size increases to 2.\n",
    "    The third length, 1, selects a sublist of a single element, and so reversing it has no effect.\n",
    "    The current position moves forward by the length (1) plus the skip size (2): 4 [3] 0 1 2. The skip size increases to 3.\n",
    "    The fourth length, 5, selects every element starting with the second: 4) ([3] 0 1 2. Reversing this sublist (3 0 1 2 4 into 4 2 1 0 3) produces: 3) ([4] 2 1 0.\n",
    "    Finally, the current position moves forward by 8: 3 4 2 1 [0]. The skip size increases to 4.\n",
    "    In this example, the first two numbers in the list end up being 3 and 4; to check the process, you can multiply them together to produce 12.\n",
    "\n",
    "However, you should instead use the standard list size of 256 (with values 0 to 255) and the sequence of lengths in your puzzle input. Once this process is complete, what is the result of multiplying the first two numbers in the list?\n",
    "\n",
    "Your puzzle answer was 11413."
   ]
  },
  {
   "cell_type": "code",
   "execution_count": 93,
   "metadata": {
    "collapsed": true
   },
   "outputs": [],
   "source": [
    "def knot_hash(lengths, lst=None, pos=0, skip=0, display=False):\n",
    "    if lst is None:\n",
    "        lst = range(256)\n",
    "    lst = np.array(lst)\n",
    "    n = len(lst)\n",
    "    pos = pos\n",
    "    skip = skip\n",
    "    for x in lengths:\n",
    "        if display:\n",
    "            print(lst)\n",
    "        # Reverse elements pos:pos+length\n",
    "        ind = [(pos + i) % n for i in range(x)]\n",
    "        rev_els = reversed(lst[ind])\n",
    "        lst[ind] = [y for y in rev_els]\n",
    "        # Move pos by length + skip\n",
    "        pos += (x + skip) % n\n",
    "        # Increase skip by 1\n",
    "        skip += 1\n",
    "    return lst, pos, skip"
   ]
  },
  {
   "cell_type": "code",
   "execution_count": 94,
   "metadata": {},
   "outputs": [
    {
     "name": "stdout",
     "output_type": "stream",
     "text": [
      "[0 1 2 3 4]\n",
      "[2 1 0 3 4]\n",
      "[4 3 0 1 2]\n",
      "[4 3 0 1 2]\n"
     ]
    },
    {
     "data": {
      "text/plain": [
       "(array([3, 4, 2, 1, 0]), 9, 4)"
      ]
     },
     "execution_count": 94,
     "metadata": {},
     "output_type": "execute_result"
    }
   ],
   "source": [
    "knot_hash([3, 4, 1, 5], range(5), display=True)"
   ]
  },
  {
   "cell_type": "code",
   "execution_count": 95,
   "metadata": {
    "collapsed": true
   },
   "outputs": [],
   "source": [
    "day10_input = [106,16,254,226,55,2,1,166,177,247,93,0,255,228,60,36]"
   ]
  },
  {
   "cell_type": "code",
   "execution_count": 96,
   "metadata": {},
   "outputs": [
    {
     "data": {
      "text/plain": [
       "11413"
      ]
     },
     "execution_count": 96,
     "metadata": {},
     "output_type": "execute_result"
    }
   ],
   "source": [
    "lst, pos, skip = knot_hash(day10_input)\n",
    "lst[0] * lst[1]"
   ]
  },
  {
   "cell_type": "markdown",
   "metadata": {},
   "source": [
    "# Day 10 Part Two\n",
    "\n",
    "The logic you've constructed forms a single round of the Knot Hash algorithm; running the full thing requires many of these rounds. Some input and output processing is also required.\n",
    "\n",
    "First, from now on, your input should be taken not as a list of numbers, but as a string of bytes instead. Unless otherwise specified, convert characters to bytes using their ASCII codes. This will allow you to handle arbitrary ASCII strings, and it also ensures that your input lengths are never larger than 255. For example, if you are given 1,2,3, you should convert it to the ASCII codes for each character: 49,44,50,44,51.\n",
    "\n",
    "Once you have determined the sequence of lengths to use, add the following lengths to the end of the sequence: 17, 31, 73, 47, 23. For example, if you are given 1,2,3, your final sequence of lengths should be 49,44,50,44,51,17,31,73,47,23 (the ASCII codes from the input string combined with the standard length suffix values).\n",
    "\n",
    "Second, instead of merely running one round like you did above, run a total of 64 rounds, using the same length sequence in each round. The current position and skip size should be preserved between rounds. For example, if the previous example was your first round, you would start your second round with the same length sequence (3, 4, 1, 5, 17, 31, 73, 47, 23, now assuming they came from ASCII codes and include the suffix), but start with the previous round's current position (4) and skip size (4).\n",
    "\n",
    "Once the rounds are complete, you will be left with the numbers from 0 to 255 in some order, called the sparse hash. Your next task is to reduce these to a list of only 16 numbers called the dense hash. To do this, use numeric bitwise XOR to combine each consecutive block of 16 numbers in the sparse hash (there are 16 such blocks in a list of 256 numbers). So, the first element in the dense hash is the first sixteen elements of the sparse hash XOR'd together, the second element in the dense hash is the second sixteen elements of the sparse hash XOR'd together, etc.\n",
    "\n",
    "For example, if the first sixteen elements of your sparse hash are as shown below, and the XOR operator is ^, you would calculate the first output number like this:\n",
    "\n",
    "65 ^ 27 ^ 9 ^ 1 ^ 4 ^ 3 ^ 40 ^ 50 ^ 91 ^ 7 ^ 6 ^ 0 ^ 2 ^ 5 ^ 68 ^ 22 = 64\n",
    "Perform this operation on each of the sixteen blocks of sixteen numbers in your sparse hash to determine the sixteen numbers in your dense hash.\n",
    "\n",
    "Finally, the standard way to represent a Knot Hash is as a single hexadecimal string; the final output is the dense hash in hexadecimal notation. Because each number in your dense hash will be between 0 and 255 (inclusive), always represent each number as two hexadecimal digits (including a leading zero as necessary). So, if your first three numbers are 64, 7, 255, they correspond to the hexadecimal numbers 40, 07, ff, and so the first six characters of the hash would be 4007ff. Because every Knot Hash is sixteen such numbers, the hexadecimal representation is always 32 hexadecimal digits (0-f) long.\n",
    "\n",
    "Here are some example hashes:\n",
    "\n",
    "    The empty string becomes a2582a3a0e66e6e86e3812dcb672a272.\n",
    "    AoC 2017 becomes 33efeb34ea91902bb2f59c9920caa6cd.\n",
    "    1,2,3 becomes 3efbe78a8d82f29979031a4aa0b16a9d.\n",
    "    1,2,4 becomes 63960835bcdc130f0b66d7ff4f6a5a8e.\n",
    "Treating your puzzle input as a string of ASCII characters, what is the Knot Hash of your puzzle input? Ignore any leading or trailing whitespace you might encounter.\n",
    "\n",
    "Your puzzle answer was 7adfd64c2a03a4968cf708d1b7fd418d."
   ]
  },
  {
   "cell_type": "code",
   "execution_count": 97,
   "metadata": {
    "collapsed": true
   },
   "outputs": [],
   "source": [
    "def parse_lengths(lengths_str):\n",
    "    # Start from list of lengths as integers\n",
    "    suffix_lengths = [17, 31, 73, 47, 23]\n",
    "    return [ord(c) for c in lengths_str] + suffix_lengths"
   ]
  },
  {
   "cell_type": "code",
   "execution_count": 98,
   "metadata": {
    "collapsed": true
   },
   "outputs": [],
   "source": [
    "def hash_rounds(lengths_str, n_rounds=64):\n",
    "    lengths = parse_lengths(lengths_str)\n",
    "    pos = 0\n",
    "    skip = 0 \n",
    "    lst = None\n",
    "    for i in range(n_rounds):\n",
    "        lst, pos, skip = knot_hash(lengths, lst=lst, pos=pos, skip=skip)\n",
    "    lst_out = [(reduce(lambda acc, el: np.bitwise_xor(acc, el), chunk[1:], chunk[0]))\n",
    "                       for chunk in np.reshape(lst, [-1, 16])]\n",
    "    str_out = ''.join('{0:#04x}'.format(x) for x in lst_out).replace('0x', '')\n",
    "    return str_out"
   ]
  },
  {
   "cell_type": "code",
   "execution_count": 99,
   "metadata": {},
   "outputs": [
    {
     "data": {
      "text/plain": [
       "'a2582a3a0e66e6e86e3812dcb672a272'"
      ]
     },
     "execution_count": 99,
     "metadata": {},
     "output_type": "execute_result"
    }
   ],
   "source": [
    "hash_rounds('')"
   ]
  },
  {
   "cell_type": "code",
   "execution_count": 100,
   "metadata": {},
   "outputs": [
    {
     "data": {
      "text/plain": [
       "'33efeb34ea91902bb2f59c9920caa6cd'"
      ]
     },
     "execution_count": 100,
     "metadata": {},
     "output_type": "execute_result"
    }
   ],
   "source": [
    "hash_rounds('AoC 2017')"
   ]
  },
  {
   "cell_type": "code",
   "execution_count": 101,
   "metadata": {},
   "outputs": [
    {
     "data": {
      "text/plain": [
       "'3efbe78a8d82f29979031a4aa0b16a9d'"
      ]
     },
     "execution_count": 101,
     "metadata": {},
     "output_type": "execute_result"
    }
   ],
   "source": [
    "hash_rounds('1,2,3')"
   ]
  },
  {
   "cell_type": "code",
   "execution_count": 102,
   "metadata": {},
   "outputs": [
    {
     "data": {
      "text/plain": [
       "'63960835bcdc130f0b66d7ff4f6a5a8e'"
      ]
     },
     "execution_count": 102,
     "metadata": {},
     "output_type": "execute_result"
    }
   ],
   "source": [
    "hash_rounds('1,2,4')"
   ]
  },
  {
   "cell_type": "code",
   "execution_count": 103,
   "metadata": {},
   "outputs": [
    {
     "data": {
      "text/plain": [
       "'7adfd64c2a03a4968cf708d1b7fd418d'"
      ]
     },
     "execution_count": 103,
     "metadata": {},
     "output_type": "execute_result"
    }
   ],
   "source": [
    "hash_rounds('106,16,254,226,55,2,1,166,177,247,93,0,255,228,60,36'.strip())"
   ]
  },
  {
   "cell_type": "markdown",
   "metadata": {
    "collapsed": true
   },
   "source": [
    "# Day 11: Hex Ed\n",
    "\n",
    "Crossing the bridge, you've barely reached the other side of the stream when a program comes up to you, clearly in distress. \"It's my child process,\" she says, \"he's gotten lost in an infinite grid!\"\n",
    "\n",
    "Fortunately for her, you have plenty of experience with infinite grids.\n",
    "\n",
    "Unfortunately for you, it's a hex grid.\n",
    "\n",
    "The hexagons (\"hexes\") in this grid are aligned such that adjacent hexes can be found to the north, northeast, southeast, south, southwest, and northwest:\n",
    "\n",
    "      \\ n  /\n",
    "    nw +--+ ne\n",
    "      /    \\\n",
    "    -+      +-\n",
    "      \\    /\n",
    "    sw +--+ se\n",
    "      / s  \\\n",
    "You have the path the child process took. Starting where he started, you need to determine the fewest number of steps required to reach him. (A \"step\" means to move from the hex you are in to any adjacent hex.)\n",
    "\n",
    "For example:\n",
    "\n",
    "    ne,ne,ne is 3 steps away.\n",
    "    ne,ne,sw,sw is 0 steps away (back where you started).\n",
    "    ne,ne,s,s is 2 steps away (se,se).\n",
    "    se,sw,se,sw,sw is 3 steps away (s,s,sw).\n",
    "    \n",
    "Your puzzle answer was 670.\n",
    "\n",
    "## Part Two\n",
    "\n",
    "How many steps away is the furthest he ever got from his starting position?\n",
    "\n",
    "Your puzzle answer was 1426.\n",
    "\n",
    "\n"
   ]
  },
  {
   "cell_type": "code",
   "execution_count": 104,
   "metadata": {
    "collapsed": true
   },
   "outputs": [],
   "source": [
    "def hex_pos(step_list, output_list=False):\n",
    "    steps = step_list.split(',')\n",
    "    pos = np.complex(0, 0) \n",
    "    rot = np.cos(2*np.pi/6) + 1j*np.sin(2*np.pi/6)\n",
    "    res = [pos]\n",
    "    for step in steps:\n",
    "        pos += {'n': 1j, 'nw': 1j*rot, 'sw': 1j*rot**2, 's': 1j*rot**3, 'se': 1j*rot**4, 'ne': 1j*rot**5}[step]\n",
    "        res.append(pos)\n",
    "    if output_list:\n",
    "        return res\n",
    "    else:\n",
    "        return pos"
   ]
  },
  {
   "cell_type": "code",
   "execution_count": 105,
   "metadata": {},
   "outputs": [
    {
     "data": {
      "text/plain": [
       "[0j,\n",
       " (0.86602540378443849-0.50000000000000056j),\n",
       " (-3.3306690738754696e-16-1.0000000000000004j),\n",
       " (0.86602540378443815-1.5000000000000009j),\n",
       " (-6.6613381477509392e-16-2.0000000000000009j),\n",
       " (-0.86602540378443948-2.5000000000000009j)]"
      ]
     },
     "execution_count": 105,
     "metadata": {},
     "output_type": "execute_result"
    }
   ],
   "source": [
    "hex_pos('se,sw,se,sw,sw', True)"
   ]
  },
  {
   "cell_type": "code",
   "execution_count": 106,
   "metadata": {
    "collapsed": true
   },
   "outputs": [],
   "source": [
    "def hex_dist(pos):\n",
    "    # Absolute distance from origin\n",
    "    dist_lin = np.absolute(pos)\n",
    "    # Find radial spike closet to pos\n",
    "    rot = np.cos(2*np.pi/6) + 1j*np.sin(2*np.pi/6)\n",
    "    step_dirs = [1j * rot**i for i in range(6)]\n",
    "    steps = 0\n",
    "    while np.absolute(pos) > 0.5:\n",
    "        ind = np.argmin(np.absolute(pos + step_dirs))\n",
    "        pos += step_dirs[ind]\n",
    "        steps += 1\n",
    "    return steps  "
   ]
  },
  {
   "cell_type": "code",
   "execution_count": 107,
   "metadata": {},
   "outputs": [
    {
     "data": {
      "text/plain": [
       "3"
      ]
     },
     "execution_count": 107,
     "metadata": {},
     "output_type": "execute_result"
    }
   ],
   "source": [
    "hex_dist(hex_pos('se,sw,se,sw,sw'))"
   ]
  },
  {
   "cell_type": "code",
   "execution_count": 108,
   "metadata": {
    "collapsed": true
   },
   "outputs": [],
   "source": [
    "day11_input = read_input('day11_input.txt').strip()"
   ]
  },
  {
   "cell_type": "code",
   "execution_count": 109,
   "metadata": {},
   "outputs": [
    {
     "data": {
      "text/plain": [
       "670"
      ]
     },
     "execution_count": 109,
     "metadata": {},
     "output_type": "execute_result"
    }
   ],
   "source": [
    "hex_dist(hex_pos(day11_input))"
   ]
  },
  {
   "cell_type": "code",
   "execution_count": 110,
   "metadata": {},
   "outputs": [
    {
     "name": "stdout",
     "output_type": "stream",
     "text": [
      "1426\n"
     ]
    }
   ],
   "source": [
    "# Part 2 - inefficient, just check each position\n",
    "# max(map(hex_dist, hex_pos(day11_input, True)))\n",
    "# Returns 1426.  Comment out line above to make notebook run in reasonable amount of time.\n",
    "print(1426)"
   ]
  },
  {
   "cell_type": "markdown",
   "metadata": {
    "collapsed": true
   },
   "source": [
    "# Day 12: Digital Plumber\n",
    "\n",
    "Walking along the memory banks of the stream, you find a small village that is experiencing a little confusion: some programs can't communicate with each other.\n",
    "\n",
    "Programs in this village communicate using a fixed system of pipes. Messages are passed between programs using these pipes, but most programs aren't connected to each other directly. Instead, programs pass messages between each other until the message reaches the intended recipient.\n",
    "\n",
    "For some reason, though, some of these messages aren't ever reaching their intended recipient, and the programs suspect that some pipes are missing. They would like you to investigate.\n",
    "\n",
    "You walk through the village and record the ID of each program and the IDs with which it can communicate directly (your puzzle input). Each program has one or more programs with which it can communicate, and these pipes are bidirectional; if 8 says it can communicate with 11, then 11 will say it can communicate with 8.\n",
    "\n",
    "You need to figure out how many programs are in the group that contains program ID 0.\n",
    "\n",
    "For example, suppose you go door-to-door like a travelling salesman and record the following list:\n",
    "\n",
    "    0 <-> 2\n",
    "    1 <-> 1\n",
    "    2 <-> 0, 3, 4\n",
    "    3 <-> 2, 4\n",
    "    4 <-> 2, 3, 6\n",
    "    5 <-> 6\n",
    "    6 <-> 4, 5\n",
    "In this example, the following programs are in the group that contains program ID 0:\n",
    "\n",
    "    Program 0 by definition.\n",
    "    Program 2, directly connected to program 0.\n",
    "    Program 3 via program 2.\n",
    "    Program 4 via program 2.\n",
    "    Program 5 via programs 6, then 4, then 2.\n",
    "    Program 6 via programs 4, then 2.\n",
    "Therefore, a total of 6 programs are in this group; all but program 1, which has a pipe that connects it to itself.\n",
    "\n",
    "How many programs are in the group that contains program ID 0?\n",
    "\n",
    "Your puzzle answer was 378.\n",
    "\n",
    "\n",
    "## Part Two\n",
    "\n",
    "There are more programs than just the ones in the group containing program ID 0. The rest of them have no way of reaching that group, and still might have no way of reaching each other.\n",
    "\n",
    "A group is a collection of programs that can all communicate via pipes either directly or indirectly. The programs you identified just a moment ago are all part of the same group. Now, they would like you to determine the total number of groups.\n",
    "\n",
    "In the example above, there were 2 groups: one consisting of programs 0,2,3,4,5,6, and the other consisting solely of program 1.\n",
    "\n",
    "How many groups are there in total?\n",
    "\n",
    "Your puzzle answer was 204."
   ]
  },
  {
   "cell_type": "code",
   "execution_count": 111,
   "metadata": {
    "collapsed": true
   },
   "outputs": [],
   "source": [
    "def parse_pipes(pipes_str):\n",
    "    pipe_list = pipes_str.split('\\n')\n",
    "    G = nx.Graph()\n",
    "    for pipe in pipe_list:\n",
    "        lst = pipe.split(' <-> ')\n",
    "        p1 = lst[0].strip()\n",
    "        p_other = lst[1].split(', ')\n",
    "        for p in p_other:\n",
    "            G.add_edge(p1, p)\n",
    "    return G"
   ]
  },
  {
   "cell_type": "code",
   "execution_count": 112,
   "metadata": {
    "collapsed": true
   },
   "outputs": [],
   "source": [
    "test_pipes = \"\"\"0 <-> 2\n",
    "1 <-> 1\n",
    "2 <-> 0, 3, 4\n",
    "3 <-> 2, 4\n",
    "4 <-> 2, 3, 6\n",
    "5 <-> 6\n",
    "6 <-> 4, 5\"\"\""
   ]
  },
  {
   "cell_type": "code",
   "execution_count": 113,
   "metadata": {
    "collapsed": true
   },
   "outputs": [],
   "source": [
    "G_test_pipes = parse_pipes(test_pipes)"
   ]
  },
  {
   "cell_type": "code",
   "execution_count": 114,
   "metadata": {},
   "outputs": [
    {
     "data": {
      "text/plain": [
       "6"
      ]
     },
     "execution_count": 114,
     "metadata": {},
     "output_type": "execute_result"
    }
   ],
   "source": [
    "len(nx.node_connected_component(G_test_pipes, '0'))"
   ]
  },
  {
   "cell_type": "code",
   "execution_count": 115,
   "metadata": {
    "collapsed": true
   },
   "outputs": [],
   "source": [
    "day12_input = read_input('day12_input.txt')"
   ]
  },
  {
   "cell_type": "code",
   "execution_count": 116,
   "metadata": {
    "collapsed": true
   },
   "outputs": [],
   "source": [
    "G_day12 = parse_pipes(day12_input)"
   ]
  },
  {
   "cell_type": "code",
   "execution_count": 117,
   "metadata": {},
   "outputs": [
    {
     "data": {
      "text/plain": [
       "378"
      ]
     },
     "execution_count": 117,
     "metadata": {},
     "output_type": "execute_result"
    }
   ],
   "source": [
    "len(nx.node_connected_component(G_day12, '0'))"
   ]
  },
  {
   "cell_type": "code",
   "execution_count": 118,
   "metadata": {},
   "outputs": [
    {
     "data": {
      "text/plain": [
       "204"
      ]
     },
     "execution_count": 118,
     "metadata": {},
     "output_type": "execute_result"
    }
   ],
   "source": [
    "# Part 2\n",
    "nx.number_connected_components(G_day12)"
   ]
  },
  {
   "cell_type": "markdown",
   "metadata": {
    "collapsed": true
   },
   "source": [
    "# Day 13: Packet Scanners \n",
    "\n",
    "You need to cross a vast firewall. The firewall consists of several layers, each with a security scanner that moves back and forth across the layer. To succeed, you must not be detected by a scanner.\n",
    "\n",
    "By studying the firewall briefly, you are able to record (in your puzzle input) the depth of each layer and the range of the scanning area for the scanner within it, written as depth: range. Each layer has a thickness of exactly 1. A layer at depth 0 begins immediately inside the firewall; a layer at depth 1 would start immediately after that.\n",
    "\n",
    "For example, suppose you've recorded the following:\n",
    "\n",
    "    0: 3\n",
    "    1: 2\n",
    "    4: 4\n",
    "    6: 4\n",
    "This means that there is a layer immediately inside the firewall (with range 3), a second layer immediately after that (with range 2), a third layer which begins at depth 4 (with range 4), and a fourth layer which begins at depth 6 (also with range 4). Visually, it might look like this:\n",
    "\n",
    "     0   1   2   3   4   5   6\n",
    "    [ ] [ ] ... ... [ ] ... [ ]\n",
    "    [ ] [ ]         [ ]     [ ]\n",
    "    [ ]             [ ]     [ ]\n",
    "                    [ ]     [ ]\n",
    "Within each layer, a security scanner moves back and forth within its range. Each security scanner starts at the top and moves down until it reaches the bottom, then moves up until it reaches the top, and repeats. A security scanner takes one picosecond to move one step. Drawing scanners as S, the first few picoseconds look like this:\n",
    "\n",
    "\n",
    "Picosecond 0:\n",
    "\n",
    "     0   1   2   3   4   5   6\n",
    "    [S] [S] ... ... [S] ... [S]\n",
    "    [ ] [ ]         [ ]     [ ]\n",
    "    [ ]             [ ]     [ ]\n",
    "                    [ ]     [ ]\n",
    "\n",
    "Picosecond 1:\n",
    "\n",
    "     0   1   2   3   4   5   6\n",
    "    [ ] [ ] ... ... [ ] ... [ ]\n",
    "    [S] [S]         [S]     [S]\n",
    "    [ ]             [ ]     [ ]\n",
    "                    [ ]     [ ]\n",
    "\n",
    "Picosecond 2:\n",
    "\n",
    "     0   1   2   3   4   5   6\n",
    "    [ ] [S] ... ... [ ] ... [ ]\n",
    "    [ ] [ ]         [ ]     [ ]\n",
    "    [S]             [S]     [S]\n",
    "                    [ ]     [ ]\n",
    "\n",
    "Picosecond 3:\n",
    "\n",
    "     0   1   2   3   4   5   6\n",
    "    [ ] [ ] ... ... [ ] ... [ ]\n",
    "    [S] [S]         [ ]     [ ]\n",
    "    [ ]             [ ]     [ ]\n",
    "                    [S]     [S]\n",
    "Your plan is to hitch a ride on a packet about to move through the firewall. The packet will travel along the top of each layer, and it moves at one layer per picosecond. Each picosecond, the packet moves one layer forward (its first move takes it into layer 0), and then the scanners move one step. If there is a scanner at the top of the layer as your packet enters it, you are caught. (If a scanner moves into the top of its layer while you are there, you are not caught: it doesn't have time to notice you before you leave.) If you were to do this in the configuration above, marking your current position with parentheses, your passage through the firewall would look like this:\n",
    "\n",
    "Initial state:\n",
    "\n",
    "     0   1   2   3   4   5   6\n",
    "    [S] [S] ... ... [S] ... [S]\n",
    "    [ ] [ ]         [ ]     [ ]\n",
    "    [ ]             [ ]     [ ]\n",
    "                    [ ]     [ ]\n",
    "\n",
    "Picosecond 0:\n",
    "\n",
    "     0   1   2   3   4   5   6\n",
    "    (S) [S] ... ... [S] ... [S]\n",
    "    [ ] [ ]         [ ]     [ ]\n",
    "    [ ]             [ ]     [ ]\n",
    "                    [ ]     [ ]\n",
    "\n",
    "     0   1   2   3   4   5   6\n",
    "    ( ) [ ] ... ... [ ] ... [ ]\n",
    "    [S] [S]         [S]     [S]\n",
    "    [ ]             [ ]     [ ]\n",
    "                    [ ]     [ ]\n",
    "\n",
    "\n",
    "Picosecond 1:\n",
    "\n",
    "     0   1   2   3   4   5   6\n",
    "    [ ] ( ) ... ... [ ] ... [ ]\n",
    "    [S] [S]         [S]     [S]\n",
    "    [ ]             [ ]     [ ]\n",
    "                    [ ]     [ ]\n",
    "\n",
    "     0   1   2   3   4   5   6\n",
    "    [ ] (S) ... ... [ ] ... [ ]\n",
    "    [ ] [ ]         [ ]     [ ]\n",
    "    [S]             [S]     [S]\n",
    "                    [ ]     [ ]\n",
    "\n",
    "\n",
    "Picosecond 2:\n",
    "\n",
    "     0   1   2   3   4   5   6\n",
    "    [ ] [S] (.) ... [ ] ... [ ]\n",
    "    [ ] [ ]         [ ]     [ ]\n",
    "    [S]             [S]     [S]\n",
    "                    [ ]     [ ]\n",
    "\n",
    "     0   1   2   3   4   5   6\n",
    "    [ ] [ ] (.) ... [ ] ... [ ]\n",
    "    [S] [S]         [ ]     [ ]\n",
    "    [ ]             [ ]     [ ]\n",
    "                    [S]     [S]\n",
    "\n",
    "\n",
    "Picosecond 3:\n",
    "\n",
    "     0   1   2   3   4   5   6\n",
    "    [ ] [ ] ... (.) [ ] ... [ ]\n",
    "    [S] [S]         [ ]     [ ]\n",
    "    [ ]             [ ]     [ ]\n",
    "                    [S]     [S]\n",
    "\n",
    "     0   1   2   3   4   5   6\n",
    "    [S] [S] ... (.) [ ] ... [ ]\n",
    "    [ ] [ ]         [ ]     [ ]\n",
    "    [ ]             [S]     [S]\n",
    "                    [ ]     [ ]\n",
    "\n",
    "\n",
    "Picosecond 4:\n",
    "\n",
    "     0   1   2   3   4   5   6\n",
    "    [S] [S] ... ... ( ) ... [ ]\n",
    "    [ ] [ ]         [ ]     [ ]\n",
    "    [ ]             [S]     [S]\n",
    "                    [ ]     [ ]\n",
    "\n",
    "     0   1   2   3   4   5   6\n",
    "    [ ] [ ] ... ... ( ) ... [ ]\n",
    "    [S] [S]         [S]     [S]\n",
    "    [ ]             [ ]     [ ]\n",
    "                    [ ]     [ ]\n",
    "\n",
    "\n",
    "Picosecond 5:\n",
    "\n",
    "     0   1   2   3   4   5   6\n",
    "    [ ] [ ] ... ... [ ] (.) [ ]\n",
    "    [S] [S]         [S]     [S]\n",
    "    [ ]             [ ]     [ ]\n",
    "                    [ ]     [ ]\n",
    "\n",
    "     0   1   2   3   4   5   6\n",
    "    [ ] [S] ... ... [S] (.) [S]\n",
    "    [ ] [ ]         [ ]     [ ]\n",
    "    [S]             [ ]     [ ]\n",
    "                    [ ]     [ ]\n",
    "\n",
    "\n",
    "Picosecond 6:\n",
    "\n",
    "     0   1   2   3   4   5   6\n",
    "    [ ] [S] ... ... [S] ... (S)\n",
    "    [ ] [ ]         [ ]     [ ]\n",
    "    [S]             [ ]     [ ]\n",
    "                    [ ]     [ ]\n",
    "\n",
    "     0   1   2   3   4   5   6\n",
    "    [ ] [ ] ... ... [ ] ... ( )\n",
    "    [S] [S]         [S]     [S]\n",
    "    [ ]             [ ]     [ ]\n",
    "                    [ ]     [ ]\n",
    "In this situation, you are caught in layers 0 and 6, because your packet entered the layer when its scanner was at the top when you entered it. You are not caught in layer 1, since the scanner moved into the top of the layer once you were already there.\n",
    "\n",
    "The severity of getting caught on a layer is equal to its depth multiplied by its range. (Ignore layers in which you do not get caught.) The severity of the whole trip is the sum of these values. In the example above, the trip severity is 0*3 + 6*4 = 24.\n",
    "\n",
    "Given the details of the firewall you've recorded, if you leave immediately, what is the severity of your whole trip?\n",
    "\n",
    "Your puzzle answer was 648."
   ]
  },
  {
   "cell_type": "code",
   "execution_count": 119,
   "metadata": {
    "collapsed": true
   },
   "outputs": [],
   "source": [
    "def parse_firewall(firewall_str):\n",
    "    firewall = {}\n",
    "    fw_list = firewall_str.split('\\n')\n",
    "    for fw in fw_list:\n",
    "        f = fw.split(': ')\n",
    "        firewall[int(f[0])] = int(f[1])\n",
    "    return firewall"
   ]
  },
  {
   "cell_type": "code",
   "execution_count": 120,
   "metadata": {
    "collapsed": true
   },
   "outputs": [],
   "source": [
    "def init_firewall_state(firewall):\n",
    "    state = {}\n",
    "    for k in firewall.keys():\n",
    "        state[k] = {'pos': 0, 'dir':1}\n",
    "    return state"
   ]
  },
  {
   "cell_type": "code",
   "execution_count": 121,
   "metadata": {
    "collapsed": true
   },
   "outputs": [],
   "source": [
    "def update_firewall_state(firewall, state):\n",
    "    for k in state.keys():\n",
    "        state[k]['pos'] += state[k]['dir']\n",
    "        if state[k]['pos'] == firewall[k] - 1:\n",
    "            state[k]['dir'] = -1\n",
    "        if state[k]['pos'] == 0:\n",
    "            state[k]['dir'] = 1\n",
    "    return state"
   ]
  },
  {
   "cell_type": "code",
   "execution_count": 122,
   "metadata": {
    "collapsed": true
   },
   "outputs": [],
   "source": [
    "day13_test = \"\"\"0: 3\n",
    "1: 2\n",
    "4: 4\n",
    "6: 4\"\"\""
   ]
  },
  {
   "cell_type": "code",
   "execution_count": 123,
   "metadata": {
    "collapsed": true
   },
   "outputs": [],
   "source": [
    "fw_test = parse_firewall(day13_test)"
   ]
  },
  {
   "cell_type": "code",
   "execution_count": 124,
   "metadata": {
    "collapsed": true
   },
   "outputs": [],
   "source": [
    "fw_state_test = init_firewall_state(fw_test)"
   ]
  },
  {
   "cell_type": "code",
   "execution_count": 125,
   "metadata": {},
   "outputs": [
    {
     "data": {
      "text/plain": [
       "{0: {'dir': 1, 'pos': 1},\n",
       " 1: {'dir': -1, 'pos': 1},\n",
       " 4: {'dir': 1, 'pos': 1},\n",
       " 6: {'dir': 1, 'pos': 1}}"
      ]
     },
     "execution_count": 125,
     "metadata": {},
     "output_type": "execute_result"
    }
   ],
   "source": [
    "update_firewall_state(fw_test, fw_state_test)"
   ]
  },
  {
   "cell_type": "code",
   "execution_count": 126,
   "metadata": {
    "collapsed": true
   },
   "outputs": [],
   "source": [
    "def firewall_severity(fw_str, delay=0, display=False):\n",
    "    firewall = parse_firewall(fw_str)\n",
    "    state = init_firewall_state(firewall)\n",
    "    severity = 0\n",
    "    n = max(firewall.keys())\n",
    "    pos = 0\n",
    "    caught = False\n",
    "    while pos < n+1:\n",
    "        # print(pos, state)\n",
    "        if pos in state.keys() and delay == 0:\n",
    "            if state[pos]['pos'] == 0:\n",
    "                caught = True\n",
    "                severity += pos * firewall[pos]\n",
    "        state = update_firewall_state(firewall, state)\n",
    "        if delay == 0:\n",
    "            pos += 1\n",
    "        else:\n",
    "            delay -= 1\n",
    "            if delay == 0 and display:\n",
    "                print({k: state[k]['pos'] for k in state.keys()} )\n",
    "    return severity, caught"
   ]
  },
  {
   "cell_type": "code",
   "execution_count": 127,
   "metadata": {},
   "outputs": [
    {
     "data": {
      "text/plain": [
       "[(24, True),\n",
       " (2, True),\n",
       " (16, True),\n",
       " (2, True),\n",
       " (0, True),\n",
       " (2, True),\n",
       " (24, True),\n",
       " (2, True),\n",
       " (16, True),\n",
       " (2, True),\n",
       " (0, False)]"
      ]
     },
     "execution_count": 127,
     "metadata": {},
     "output_type": "execute_result"
    }
   ],
   "source": [
    "[firewall_severity(day13_test, delay) for delay in range(11)]"
   ]
  },
  {
   "cell_type": "code",
   "execution_count": 128,
   "metadata": {
    "collapsed": true
   },
   "outputs": [],
   "source": [
    "day13_input = read_input('day13_input.txt')"
   ]
  },
  {
   "cell_type": "code",
   "execution_count": 129,
   "metadata": {},
   "outputs": [
    {
     "data": {
      "text/plain": [
       "(648, True)"
      ]
     },
     "execution_count": 129,
     "metadata": {},
     "output_type": "execute_result"
    }
   ],
   "source": [
    "firewall_severity(day13_input)"
   ]
  },
  {
   "cell_type": "markdown",
   "metadata": {},
   "source": [
    "## Part Two \n",
    "\n",
    "Now, you need to pass through the firewall without being caught - easier said than done.\n",
    "\n",
    "You can't control the speed of the packet, but you can delay it any number of picoseconds. For each picosecond you delay the packet before beginning your trip, all security scanners move one step. You're not in the firewall during this time; you don't enter layer 0 until you stop delaying the packet.\n",
    "\n",
    "In the example above, if you delay 10 picoseconds (picoseconds 0 - 9), you won't get caught:\n",
    "\n",
    "State after delaying:\n",
    "\n",
    "     0   1   2   3   4   5   6\n",
    "    [ ] [S] ... ... [ ] ... [ ]\n",
    "    [ ] [ ]         [ ]     [ ]\n",
    "    [S]             [S]     [S]\n",
    "                    [ ]     [ ]\n",
    "\n",
    "Picosecond 10:\n",
    "\n",
    "     0   1   2   3   4   5   6\n",
    "    ( ) [S] ... ... [ ] ... [ ]\n",
    "    [ ] [ ]         [ ]     [ ]\n",
    "    [S]             [S]     [S]\n",
    "                    [ ]     [ ]\n",
    "\n",
    "     0   1   2   3   4   5   6\n",
    "    ( ) [ ] ... ... [ ] ... [ ]\n",
    "    [S] [S]         [S]     [S]\n",
    "    [ ]             [ ]     [ ]\n",
    "                    [ ]     [ ]\n",
    "\n",
    "\n",
    "Picosecond 11:\n",
    "\n",
    "     0   1   2   3   4   5   6\n",
    "    [ ] ( ) ... ... [ ] ... [ ]\n",
    "    [S] [S]         [S]     [S]\n",
    "    [ ]             [ ]     [ ]\n",
    "                    [ ]     [ ]\n",
    "\n",
    "     0   1   2   3   4   5   6\n",
    "    [S] (S) ... ... [S] ... [S]\n",
    "    [ ] [ ]         [ ]     [ ]\n",
    "    [ ]             [ ]     [ ]\n",
    "                    [ ]     [ ]\n",
    "\n",
    "\n",
    "Picosecond 12:\n",
    "\n",
    "     0   1   2   3   4   5   6\n",
    "    [S] [S] (.) ... [S] ... [S]\n",
    "    [ ] [ ]         [ ]     [ ]\n",
    "    [ ]             [ ]     [ ]\n",
    "                    [ ]     [ ]\n",
    "\n",
    "     0   1   2   3   4   5   6\n",
    "    [ ] [ ] (.) ... [ ] ... [ ]\n",
    "    [S] [S]         [S]     [S]\n",
    "    [ ]             [ ]     [ ]\n",
    "                    [ ]     [ ]\n",
    "\n",
    "\n",
    "Picosecond 13:\n",
    "\n",
    "     0   1   2   3   4   5   6\n",
    "    [ ] [ ] ... (.) [ ] ... [ ]\n",
    "    [S] [S]         [S]     [S]\n",
    "    [ ]             [ ]     [ ]\n",
    "                    [ ]     [ ]\n",
    "\n",
    "     0   1   2   3   4   5   6\n",
    "    [ ] [S] ... (.) [ ] ... [ ]\n",
    "    [ ] [ ]         [ ]     [ ]\n",
    "    [S]             [S]     [S]\n",
    "                    [ ]     [ ]\n",
    "\n",
    "\n",
    "Picosecond 14:\n",
    "\n",
    "     0   1   2   3   4   5   6\n",
    "    [ ] [S] ... ... ( ) ... [ ]\n",
    "    [ ] [ ]         [ ]     [ ]\n",
    "    [S]             [S]     [S]\n",
    "                    [ ]     [ ]\n",
    "\n",
    "     0   1   2   3   4   5   6\n",
    "    [ ] [ ] ... ... ( ) ... [ ]\n",
    "    [S] [S]         [ ]     [ ]\n",
    "    [ ]             [ ]     [ ]\n",
    "                    [S]     [S]\n",
    "\n",
    "\n",
    "Picosecond 15:\n",
    "\n",
    "     0   1   2   3   4   5   6\n",
    "    [ ] [ ] ... ... [ ] (.) [ ]\n",
    "    [S] [S]         [ ]     [ ]\n",
    "    [ ]             [ ]     [ ]\n",
    "                    [S]     [S]\n",
    "\n",
    "     0   1   2   3   4   5   6\n",
    "    [S] [S] ... ... [ ] (.) [ ]\n",
    "    [ ] [ ]         [ ]     [ ]\n",
    "    [ ]             [S]     [S]\n",
    "                    [ ]     [ ]\n",
    "\n",
    "\n",
    "Picosecond 16:\n",
    "\n",
    "     0   1   2   3   4   5   6\n",
    "    [S] [S] ... ... [ ] ... ( )\n",
    "    [ ] [ ]         [ ]     [ ]\n",
    "    [ ]             [S]     [S]\n",
    "                    [ ]     [ ]\n",
    "\n",
    "     0   1   2   3   4   5   6\n",
    "    [ ] [ ] ... ... [ ] ... ( )\n",
    "    [S] [S]         [S]     [S]\n",
    "    [ ]             [ ]     [ ]\n",
    "                    [ ]     [ ]\n",
    "Because all smaller delays would get you caught, the fewest number of picoseconds you would need to delay to get through safely is 10.\n",
    "\n",
    "What is the fewest number of picoseconds that you need to delay the packet to pass through the firewall without being caught?\n",
    "\n",
    "Your puzzle answer was 3933124."
   ]
  },
  {
   "cell_type": "code",
   "execution_count": 130,
   "metadata": {
    "collapsed": true
   },
   "outputs": [],
   "source": [
    "def firewall_best_delay(fw_str):\n",
    "    delay = 0\n",
    "    firewall_best, caught = firewall_severity(fw_str, 0)\n",
    "    while firewall_best > 0 or caught:\n",
    "        if delay % 100 == 0:\n",
    "            print delay, \n",
    "        delay += 1\n",
    "        firewall_best, caught = firewall_severity(fw_str, delay)\n",
    "    return delay"
   ]
  },
  {
   "cell_type": "code",
   "execution_count": 131,
   "metadata": {
    "collapsed": true
   },
   "outputs": [],
   "source": [
    "# Far too slow!\n",
    "# firewall_best_delay(day13_input)"
   ]
  },
  {
   "cell_type": "code",
   "execution_count": 132,
   "metadata": {
    "collapsed": true
   },
   "outputs": [],
   "source": [
    "fw_test = parse_firewall(day13_test)"
   ]
  },
  {
   "cell_type": "code",
   "execution_count": 133,
   "metadata": {
    "collapsed": true
   },
   "outputs": [],
   "source": [
    "def fast_firewall(fw, delay=0):\n",
    "    # Better algorithm: we only care about when scan reaches 0 so just use mod \n",
    "    pos = np.array(fw.keys())\n",
    "    depth = np.array(fw.values())\n",
    "    rot = depth + depth - 2\n",
    "    caught = (pos + delay) % rot == 0\n",
    "    return np.sum((pos * depth)[caught]), np.any(caught)"
   ]
  },
  {
   "cell_type": "code",
   "execution_count": 134,
   "metadata": {},
   "outputs": [
    {
     "data": {
      "text/plain": [
       "(648, True)"
      ]
     },
     "execution_count": 134,
     "metadata": {},
     "output_type": "execute_result"
    }
   ],
   "source": [
    "fast_firewall(parse_firewall(day13_input))"
   ]
  },
  {
   "cell_type": "code",
   "execution_count": 135,
   "metadata": {},
   "outputs": [
    {
     "data": {
      "text/plain": [
       "(0, False)"
      ]
     },
     "execution_count": 135,
     "metadata": {},
     "output_type": "execute_result"
    }
   ],
   "source": [
    "fast_firewall(parse_firewall(day13_test), 10)"
   ]
  },
  {
   "cell_type": "code",
   "execution_count": 136,
   "metadata": {
    "collapsed": true
   },
   "outputs": [],
   "source": [
    "def fast_firewall_best_delay(fw_str):\n",
    "    delay = 0\n",
    "    fw = parse_firewall(fw_str)\n",
    "    firewall_best, caught = fast_firewall(fw, 0)\n",
    "    while firewall_best > 0 or caught:\n",
    "        if delay % 100000 == 0:\n",
    "            print delay, \n",
    "        delay += 1\n",
    "        firewall_best, caught = fast_firewall(fw, delay)\n",
    "    return delay"
   ]
  },
  {
   "cell_type": "code",
   "execution_count": 137,
   "metadata": {
    "scrolled": true
   },
   "outputs": [
    {
     "name": "stdout",
     "output_type": "stream",
     "text": [
      "3933124\n"
     ]
    }
   ],
   "source": [
    "# Still takes a while, about 1 minute - uncomment line below to run\n",
    "# fast_firewall_best_delay(day13_input)\n",
    "print(3933124) # Just print answer"
   ]
  },
  {
   "cell_type": "markdown",
   "metadata": {
    "collapsed": true
   },
   "source": [
    "# Day 14 Disk Defragmentation \n",
    "\n",
    "Suddenly, a scheduled job activates the system's disk defragmenter. Were the situation different, you might sit and watch it for a while, but today, you just don't have that kind of time. It's soaking up valuable system resources that are needed elsewhere, and so the only option is to help it finish its task as soon as possible.\n",
    "\n",
    "The disk in question consists of a 128x128 grid; each square of the grid is either free or used. On this disk, the state of the grid is tracked by the bits in a sequence of knot hashes.\n",
    "\n",
    "A total of 128 knot hashes are calculated, each corresponding to a single row in the grid; each hash contains 128 bits which correspond to individual grid squares. Each bit of a hash indicates whether that square is free (0) or used (1).\n",
    "\n",
    "The hash inputs are a key string (your puzzle input), a dash, and a number from 0 to 127 corresponding to the row. For example, if your key string were flqrgnkx, then the first row would be given by the bits of the knot hash of flqrgnkx-0, the second row from the bits of the knot hash of flqrgnkx-1, and so on until the last row, flqrgnkx-127.\n",
    "\n",
    "The output of a knot hash is traditionally represented by 32 hexadecimal digits; each of these digits correspond to 4 bits, for a total of 4 * 32 = 128 bits. To convert to bits, turn each hexadecimal digit to its equivalent binary value, high-bit first: 0 becomes 0000, 1 becomes 0001, e becomes 1110, f becomes 1111, and so on; a hash that begins with a0c2017... in hexadecimal would begin with 10100000110000100000000101110000... in binary.\n",
    "\n",
    "Continuing this process, the first 8 rows and columns for key flqrgnkx appear as follows, using # to denote used squares, and . to denote free ones:\n",
    "\n",
    "    ##.#.#..-->\n",
    "    .#.#.#.#   \n",
    "    ....#.#.   \n",
    "    #.#.##.#   \n",
    "    .##.#...   \n",
    "    ##..#..#   \n",
    "    .#...#..   \n",
    "    ##.#.##.-->\n",
    "    |      |   \n",
    "    V      V   \n",
    "In this example, 8108 squares are used across the entire 128x128 grid.\n",
    "\n",
    "Given your actual key string, how many squares are used?\n",
    "\n",
    "Your puzzle input is nbysizxe.\n",
    "\n",
    "Your puzzle answer was 8216"
   ]
  },
  {
   "cell_type": "code",
   "execution_count": 138,
   "metadata": {},
   "outputs": [
    {
     "data": {
      "text/plain": [
       "'d4f76bdcbf838f8416ccfa8bc6d1f9e6'"
      ]
     },
     "execution_count": 138,
     "metadata": {},
     "output_type": "execute_result"
    }
   ],
   "source": [
    "# Usse hash_rounds function from day 10\n",
    "hash_rounds('flqrgnkx-0')"
   ]
  },
  {
   "cell_type": "code",
   "execution_count": 139,
   "metadata": {},
   "outputs": [
    {
     "data": {
      "text/plain": [
       "'1010'"
      ]
     },
     "execution_count": 139,
     "metadata": {},
     "output_type": "execute_result"
    }
   ],
   "source": [
    "'{0:4b}'.format(int('0xa', 16))"
   ]
  },
  {
   "cell_type": "code",
   "execution_count": 140,
   "metadata": {
    "collapsed": true
   },
   "outputs": [],
   "source": [
    "def hex_to_binary(hash_str):\n",
    "    out_str = ''.join(['{0:4b}'.format(int('0x' + c, 16)).replace(' ', '0') for c in hash_str])\n",
    "    out_array = np.array([int(c) for c in out_str])\n",
    "    return out_array"
   ]
  },
  {
   "cell_type": "code",
   "execution_count": 141,
   "metadata": {
    "collapsed": true
   },
   "outputs": [],
   "source": [
    "def hash_grid(key_str):\n",
    "    return np.array([hex_to_binary(hash_rounds(key_str + '-' + str(i))) for i in range(128)])"
   ]
  },
  {
   "cell_type": "code",
   "execution_count": 142,
   "metadata": {
    "collapsed": true
   },
   "outputs": [],
   "source": [
    "day14_input = 'nbysizxe'"
   ]
  },
  {
   "cell_type": "code",
   "execution_count": 143,
   "metadata": {
    "collapsed": true
   },
   "outputs": [],
   "source": [
    "day14_out = hash_grid(day14_input)"
   ]
  },
  {
   "cell_type": "code",
   "execution_count": 144,
   "metadata": {},
   "outputs": [
    {
     "data": {
      "text/plain": [
       "8216"
      ]
     },
     "execution_count": 144,
     "metadata": {},
     "output_type": "execute_result"
    }
   ],
   "source": [
    "day14_out.sum()"
   ]
  },
  {
   "cell_type": "markdown",
   "metadata": {},
   "source": [
    "## Part Two \n",
    "\n",
    "Now, all the defragmenter needs to know is the number of regions. A region is a group of used squares that are all adjacent, not including diagonals. Every used square is in exactly one region: lone used squares form their own isolated regions, while several adjacent squares all count as a single region.\n",
    "\n",
    "In the example above, the following nine regions are visible, each marked with a distinct digit:\n",
    "\n",
    "    11.2.3..-->\n",
    "    .1.2.3.4   \n",
    "    ....5.6.   \n",
    "    7.8.55.9   \n",
    "    .88.5...   \n",
    "    88..5..8   \n",
    "    .8...8..   \n",
    "    88.8.88.-->\n",
    "    |      |   \n",
    "    V      V   \n",
    "Of particular interest is the region marked 8; while it does not appear contiguous in this small view, all of the squares marked 8 are connected when considering the whole 128x128 grid. In total, in this example, 1242 regions are present.\n",
    "\n",
    "How many regions are present given your key string?\n",
    "\n",
    "Your puzzle answer was 1139."
   ]
  },
  {
   "cell_type": "code",
   "execution_count": 145,
   "metadata": {},
   "outputs": [
    {
     "data": {
      "text/plain": [
       "array([[1, 1, 0, 1, 0, 0, 0, 0, 1, 0],\n",
       "       [1, 1, 1, 1, 0, 0, 1, 0, 0, 0],\n",
       "       [0, 1, 0, 1, 1, 0, 0, 1, 0, 1],\n",
       "       [0, 0, 0, 1, 1, 1, 1, 1, 1, 0],\n",
       "       [0, 1, 0, 1, 1, 0, 0, 0, 0, 0],\n",
       "       [0, 1, 1, 0, 1, 0, 1, 0, 0, 1],\n",
       "       [1, 0, 1, 0, 1, 1, 1, 0, 1, 1],\n",
       "       [0, 0, 0, 0, 1, 1, 1, 0, 1, 0],\n",
       "       [1, 1, 1, 1, 0, 0, 0, 0, 0, 1],\n",
       "       [1, 1, 1, 0, 0, 1, 1, 0, 1, 1]])"
      ]
     },
     "execution_count": 145,
     "metadata": {},
     "output_type": "execute_result"
    }
   ],
   "source": [
    "day14_out[:10, :10]"
   ]
  },
  {
   "cell_type": "code",
   "execution_count": 146,
   "metadata": {
    "collapsed": true
   },
   "outputs": [],
   "source": [
    "def hash_grid_to_graph(grid):\n",
    "    row_ind, col_ind = np.nonzero(grid)\n",
    "    G = nx.Graph()\n",
    "    for el in zip(row_ind, col_ind):\n",
    "        G.add_node(el)\n",
    "    for node in G.nodes():\n",
    "        r, c = node\n",
    "        if (r-1, c) in G.nodes():\n",
    "            G.add_edge(node, (r-1, c))\n",
    "        if (r+1, c) in G.nodes():\n",
    "            G.add_edge(node, (r+1, c))\n",
    "        if (r, c+1) in G.nodes():\n",
    "            G.add_edge(node, (r, c+1))\n",
    "        if (r, c-1) in G.nodes():\n",
    "            G.add_edge(node, (r, c-1))\n",
    "    return G"
   ]
  },
  {
   "cell_type": "code",
   "execution_count": 147,
   "metadata": {
    "collapsed": true
   },
   "outputs": [],
   "source": [
    "G_day14 = hash_grid_to_graph(day14_out)"
   ]
  },
  {
   "cell_type": "code",
   "execution_count": 148,
   "metadata": {},
   "outputs": [
    {
     "data": {
      "text/plain": [
       "1139"
      ]
     },
     "execution_count": 148,
     "metadata": {},
     "output_type": "execute_result"
    }
   ],
   "source": [
    "nx.number_connected_components(G_day14)"
   ]
  },
  {
   "cell_type": "markdown",
   "metadata": {
    "collapsed": true
   },
   "source": [
    "# Day 15: Dueling Generators \n",
    "\n",
    "Here, you encounter a pair of dueling generators. The generators, called generator A and generator B, are trying to agree on a sequence of numbers. However, one of them is malfunctioning, and so the sequences don't always match.\n",
    "\n",
    "As they do this, a judge waits for each of them to generate its next value, compares the lowest 16 bits of both values, and keeps track of the number of times those parts of the values match.\n",
    "\n",
    "The generators both work on the same principle. To create its next value, a generator will take the previous value it produced, multiply it by a factor (generator A uses 16807; generator B uses 48271), and then keep the remainder of dividing that resulting product by 2147483647. That final remainder is the value it produces next.\n",
    "\n",
    "To calculate each generator's first value, it instead uses a specific starting value as its \"previous value\" (as listed in your puzzle input).\n",
    "\n",
    "For example, suppose that for starting values, generator A uses 65, while generator B uses 8921. Then, the first five pairs of generated values are:\n",
    "\n",
    "    --Gen. A--  --Gen. B--\n",
    "       1092455   430625591\n",
    "    1181022009  1233683848\n",
    "     245556042  1431495498\n",
    "    1744312007   137874439\n",
    "    1352636452   285222916\n",
    "In binary, these pairs are (with generator A's value first in each pair):\n",
    "\n",
    "    00000000000100001010101101100111\n",
    "    00011001101010101101001100110111\n",
    "\n",
    "    01000110011001001111011100111001\n",
    "    01001001100010001000010110001000\n",
    "\n",
    "    00001110101000101110001101001010\n",
    "    01010101010100101110001101001010\n",
    "\n",
    "    01100111111110000001011011000111\n",
    "    00001000001101111100110000000111\n",
    "\n",
    "    01010000100111111001100000100100\n",
    "    00010001000000000010100000000100\n",
    "Here, you can see that the lowest (here, rightmost) 16 bits of the third value match: 1110001101001010. Because of this one match, after processing these five pairs, the judge would have added only 1 to its total.\n",
    "\n",
    "To get a significant sample, the judge would like to consider 40 million pairs. (In the example above, the judge would eventually find a total of 588 pairs that match in their lowest 16 bits.)\n",
    "\n",
    "After 40 million pairs, what is the judge's final count?\n",
    "\n",
    "Your puzzle answer was 638."
   ]
  },
  {
   "cell_type": "markdown",
   "metadata": {},
   "source": [
    "Puzzle input:\n",
    "\n",
    "Generator A starts with 289\n",
    "\n",
    "Generator B starts with 629"
   ]
  },
  {
   "cell_type": "code",
   "execution_count": 149,
   "metadata": {
    "collapsed": true
   },
   "outputs": [],
   "source": [
    "# (generator A uses 16807; generator B uses 48271), \n",
    "# and then keep the remainder of dividing that resulting product by 2147483647.\n",
    "\n",
    "def gen_next(factor, start, allowed_multiple=1):\n",
    "    val = (factor * start) % 2147483647\n",
    "    while True:\n",
    "        if val % allowed_multiple == 0:\n",
    "            yield val\n",
    "        val = (factor * val) % 2147483647"
   ]
  },
  {
   "cell_type": "code",
   "execution_count": 150,
   "metadata": {},
   "outputs": [
    {
     "data": {
      "text/plain": [
       "[(1092455, 430625591),\n",
       " (1181022009, 1233683848),\n",
       " (245556042, 1431495498),\n",
       " (1744312007, 137874439),\n",
       " (1352636452, 285222916)]"
      ]
     },
     "execution_count": 150,
     "metadata": {},
     "output_type": "execute_result"
    }
   ],
   "source": [
    "# Test values\n",
    "gen_A = gen_next(16807, 65)\n",
    "gen_B = gen_next(48271, 8921)\n",
    "[ (gen_A.next(), gen_B.next()) for _ in range(5)]"
   ]
  },
  {
   "cell_type": "code",
   "execution_count": 151,
   "metadata": {},
   "outputs": [
    {
     "data": {
      "text/plain": [
       "588"
      ]
     },
     "execution_count": 151,
     "metadata": {},
     "output_type": "execute_result"
    }
   ],
   "source": [
    "# Test value - should equal 588\n",
    "gen_A = gen_next(16807, 65)\n",
    "gen_B = gen_next(48271, 8921)\n",
    "np.sum((gen_A.next() % (2**16) == gen_B.next() % (2**16)) for _ in range(40000000))"
   ]
  },
  {
   "cell_type": "code",
   "execution_count": 152,
   "metadata": {},
   "outputs": [
    {
     "data": {
      "text/plain": [
       "638"
      ]
     },
     "execution_count": 152,
     "metadata": {},
     "output_type": "execute_result"
    }
   ],
   "source": [
    "gen_A = gen_next(16807, 289)\n",
    "gen_B = gen_next(48271, 629)\n",
    "np.sum((gen_A.next() % (2**16) == gen_B.next() % (2**16)) for _ in range(40000000))"
   ]
  },
  {
   "cell_type": "markdown",
   "metadata": {},
   "source": [
    "## Part Two \n",
    "\n",
    "In the interest of trying to align a little better, the generators get more picky about the numbers they actually give to the judge.\n",
    "\n",
    "They still generate values in the same way, but now they only hand a value to the judge when it meets their criteria:\n",
    "\n",
    "    Generator A looks for values that are multiples of 4.\n",
    "    Generator B looks for values that are multiples of 8.\n",
    "Each generator functions completely independently: they both go through values entirely on their own, only occasionally handing an acceptable value to the judge, and otherwise working through the same sequence of values as before until they find one.\n",
    "\n",
    "The judge still waits for each generator to provide it with a value before comparing them (using the same comparison method as before). It keeps track of the order it receives values; the first values from each generator are compared, then the second values from each generator, then the third values, and so on.\n",
    "\n",
    "Using the example starting values given above, the generators now produce the following first five values each:\n",
    "\n",
    "    --Gen. A--  --Gen. B--\n",
    "    1352636452  1233683848\n",
    "    1992081072   862516352\n",
    "     530830436  1159784568\n",
    "    1980017072  1616057672\n",
    "     740335192   412269392\n",
    "These values have the following corresponding binary values:\n",
    "\n",
    "    01010000100111111001100000100100\n",
    "    01001001100010001000010110001000\n",
    "\n",
    "    01110110101111001011111010110000\n",
    "    00110011011010001111010010000000\n",
    "\n",
    "    00011111101000111101010001100100\n",
    "    01000101001000001110100001111000\n",
    "\n",
    "    01110110000001001010100110110000\n",
    "    01100000010100110001010101001000\n",
    "\n",
    "    00101100001000001001111001011000\n",
    "    00011000100100101011101101010000\n",
    "Unfortunately, even though this change makes more bits similar on average, none of these values' lowest 16 bits match. Now, it's not until the 1056th pair that the judge finds the first match:\n",
    "\n",
    "    --Gen. A--  --Gen. B--\n",
    "    1023762912   896885216\n",
    "\n",
    "    00111101000001010110000111100000\n",
    "    00110101011101010110000111100000\n",
    "This change makes the generators much slower, and the judge is getting impatient; it is now only willing to consider 5 million pairs. (Using the values from the example above, after five million pairs, the judge would eventually find a total of 309 pairs that match in their lowest 16 bits.)\n",
    "\n",
    "After 5 million pairs, but using this new generator logic, what is the judge's final count?\n",
    "\n",
    "Your puzzle answer was 343."
   ]
  },
  {
   "cell_type": "code",
   "execution_count": 153,
   "metadata": {},
   "outputs": [
    {
     "data": {
      "text/plain": [
       "[(1352636452, 1233683848),\n",
       " (1992081072, 862516352),\n",
       " (530830436, 1159784568),\n",
       " (1980017072, 1616057672),\n",
       " (740335192, 412269392)]"
      ]
     },
     "execution_count": 153,
     "metadata": {},
     "output_type": "execute_result"
    }
   ],
   "source": [
    "# Test values\n",
    "gen_A = gen_next(16807, 65, 4)\n",
    "gen_B = gen_next(48271, 8921, 8)\n",
    "[ (gen_A.next(), gen_B.next()) for _ in range(5)]"
   ]
  },
  {
   "cell_type": "code",
   "execution_count": 154,
   "metadata": {},
   "outputs": [
    {
     "data": {
      "text/plain": [
       "343"
      ]
     },
     "execution_count": 154,
     "metadata": {},
     "output_type": "execute_result"
    }
   ],
   "source": [
    "gen_A = gen_next(16807, 289, 4)\n",
    "gen_B = gen_next(48271, 629, 8)\n",
    "np.sum((gen_A.next() % (2**16) == gen_B.next() % (2**16)) for _ in range(5000000))"
   ]
  },
  {
   "cell_type": "markdown",
   "metadata": {
    "collapsed": true
   },
   "source": [
    "# Day 16: Permutation Promenade \n",
    "\n",
    "You come upon a very unusual sight; a group of programs here appear to be dancing.\n",
    "\n",
    "There are sixteen programs in total, named a through p. They start by standing in a line: a stands in position 0, b stands in position 1, and so on until p, which stands in position 15.\n",
    "\n",
    "The programs' dance consists of a sequence of dance moves:\n",
    "\n",
    "    Spin, written sX, makes X programs move from the end to the front, but maintain their order otherwise. (For example, s3 on abcde produces cdeab).\n",
    "    Exchange, written xA/B, makes the programs at positions A and B swap places.\n",
    "    Partner, written pA/B, makes the programs named A and B swap places.\n",
    "For example, with only five programs standing in a line (abcde), they could do the following dance:\n",
    "\n",
    "    s1, a spin of size 1: eabcd.\n",
    "    x3/4, swapping the last two programs: eabdc.\n",
    "    pe/b, swapping programs e and b: baedc.\n",
    "After finishing their dance, the programs end up in order baedc.\n",
    "\n",
    "You watch the dance for a while and record their dance moves (your puzzle input). In what order are the programs standing after their dance?\n",
    "\n",
    "To begin, get your puzzle input.\n",
    "\n",
    "Your puzzle answer was bijankplfgmeodhc."
   ]
  },
  {
   "cell_type": "code",
   "execution_count": 155,
   "metadata": {
    "collapsed": true
   },
   "outputs": [],
   "source": [
    "def permute(input_str, lst=None, display=False):\n",
    "    if lst is None:\n",
    "        lst = [chr(ord('a') + i) for i in range(16)]\n",
    "    steps = input_str.split(',')\n",
    "#     lst = np.array(lst)\n",
    "    for step in steps:\n",
    "        if display:\n",
    "            print(lst)\n",
    "        op = step[0]\n",
    "        if op == 's':\n",
    "            # Spin\n",
    "            spin_len = int(step[1:])\n",
    "#             lst = np.concatenate([lst[-spin_len:], lst[0:-spin_len]]) # \n",
    "            lst = lst[-spin_len:] + lst[0:-spin_len]\n",
    "        elif op == 'x':\n",
    "            # Exchange\n",
    "            inds = [int(c) for c in step[1:].split('/')]\n",
    "            lst[inds[0]], lst[inds[1]] = lst[inds[1]], lst[inds[0]]\n",
    "        elif op == 'p':\n",
    "            # Partner\n",
    "#             inds = [np.argwhere(lst == c) for c in step[1:].split('/')]\n",
    "            inds = [lst.index(c) for c in step[1:].split('/')]\n",
    "            lst[inds[0]], lst[inds[1]] = lst[inds[1]], lst[inds[0]]\n",
    "\n",
    "    return ''.join(lst)"
   ]
  },
  {
   "cell_type": "code",
   "execution_count": 156,
   "metadata": {},
   "outputs": [
    {
     "data": {
      "text/plain": [
       "'baedc'"
      ]
     },
     "execution_count": 156,
     "metadata": {},
     "output_type": "execute_result"
    }
   ],
   "source": [
    "permute('s1,x3/4,pe/b', ['a', 'b', 'c', 'd', 'e'])"
   ]
  },
  {
   "cell_type": "code",
   "execution_count": 157,
   "metadata": {
    "collapsed": true
   },
   "outputs": [],
   "source": [
    "day16_input = read_input('day16_input.txt')"
   ]
  },
  {
   "cell_type": "code",
   "execution_count": 158,
   "metadata": {},
   "outputs": [
    {
     "data": {
      "text/plain": [
       "'bijankplfgmeodhc'"
      ]
     },
     "execution_count": 158,
     "metadata": {},
     "output_type": "execute_result"
    }
   ],
   "source": [
    "permute(day16_input)"
   ]
  },
  {
   "cell_type": "markdown",
   "metadata": {},
   "source": [
    "# Part Two\n",
    "\n",
    "Now that you're starting to get a feel for the dance moves, you turn your attention to the dance as a whole.\n",
    "\n",
    "Keeping the positions they ended up in from their previous dance, the programs perform it again and again: including the first dance, a total of one billion (1000000000) times.\n",
    "\n",
    "In the example above, their second dance would begin with the order baedc, and use the same dance moves:\n",
    "\n",
    "    s1, a spin of size 1: cbaed.\n",
    "    x3/4, swapping the last two programs: cbade.\n",
    "    pe/b, swapping programs e and b: ceadb.\n",
    "In what order are the programs standing after their billion dances?\n",
    "\n",
    "Your puzzle answer was bpjahknliomefdgc."
   ]
  },
  {
   "cell_type": "code",
   "execution_count": 159,
   "metadata": {
    "collapsed": true
   },
   "outputs": [],
   "source": [
    "num_iter = 1000000000\n",
    "# Look for cycles\n",
    "day16_start = ''.join([chr(ord('a')+i) for i in range(16)])\n",
    "day16_seen = {0: day16_start}\n",
    "in_lst = list(day16_start)\n",
    "for i in xrange(num_iter):\n",
    "    out_str = permute(day16_input, in_lst)\n",
    "    if out_str not in day16_seen.values():\n",
    "        day16_seen[i+1] = out_str\n",
    "    else:\n",
    "        break\n",
    "    in_lst = list(out_str)"
   ]
  },
  {
   "cell_type": "code",
   "execution_count": 160,
   "metadata": {},
   "outputs": [
    {
     "data": {
      "text/plain": [
       "'bpjahknliomefdgc'"
      ]
     },
     "execution_count": 160,
     "metadata": {},
     "output_type": "execute_result"
    }
   ],
   "source": [
    "day16_seen[num_iter % (max(day16_seen) + 1)]"
   ]
  },
  {
   "cell_type": "markdown",
   "metadata": {
    "collapsed": true
   },
   "source": [
    "# Day 17: Spinlock \n",
    "\n",
    "Suddenly, whirling in the distance, you notice what looks like a massive, pixelated hurricane: a deadly spinlock. This spinlock isn't just consuming computing power, but memory, too; vast, digital mountains are being ripped from the ground and consumed by the vortex.\n",
    "\n",
    "If you don't move quickly, fixing that printer will be the least of your problems.\n",
    "\n",
    "This spinlock's algorithm is simple but efficient, quickly consuming everything in its path. It starts with a circular buffer containing only the value 0, which it marks as the current position. It then steps forward through the circular buffer some number of steps (your puzzle input) before inserting the first new value, 1, after the value it stopped on. The inserted value becomes the current position. Then, it steps forward from there the same number of steps, and wherever it stops, inserts after it the second new value, 2, and uses that as the new current position again.\n",
    "\n",
    "It repeats this process of stepping forward, inserting a new value, and using the location of the inserted value as the new current position a total of 2017 times, inserting 2017 as its final operation, and ending with a total of 2018 values (including 0) in the circular buffer.\n",
    "\n",
    "For example, if the spinlock were to step 3 times per insert, the circular buffer would begin to evolve like this (using parentheses to mark the current position after each iteration of the algorithm):\n",
    "\n",
    "    (0), the initial state before any insertions.\n",
    "    0 (1): the spinlock steps forward three times (0, 0, 0), and then inserts the first value, 1, after it. 1 becomes the current position.\n",
    "    0 (2) 1: the spinlock steps forward three times (0, 1, 0), and then inserts the second value, 2, after it. 2 becomes the current position.\n",
    "    0  2 (3) 1: the spinlock steps forward three times (1, 0, 2), and then inserts the third value, 3, after it. 3 becomes the current position.\n",
    "And so on:\n",
    "\n",
    "    0  2 (4) 3  1\n",
    "    0 (5) 2  4  3  1\n",
    "    0  5  2  4  3 (6) 1\n",
    "    0  5 (7) 2  4  3  6  1\n",
    "    0  5  7  2  4  3 (8) 6  1\n",
    "    0 (9) 5  7  2  4  3  8  6  1\n",
    "Eventually, after 2017 insertions, the section of the circular buffer near the last insertion looks like this:\n",
    "\n",
    "    1512  1134  151 (2017) 638  1513  851\n",
    "Perhaps, if you can identify the value that will ultimately be after the last value written (2017), you can short-circuit the spinlock. In this example, that would be 638.\n",
    "\n",
    "What is the value after 2017 in your completed circular buffer?\n",
    "\n",
    "Your puzzle input is 386."
   ]
  },
  {
   "cell_type": "code",
   "execution_count": 161,
   "metadata": {
    "collapsed": true
   },
   "outputs": [],
   "source": [
    "def spin_lock(step, num_iter, display=False):\n",
    "    lst = [0]\n",
    "    pos = 0\n",
    "    for i in range(num_iter):\n",
    "        if display and i % 500000 == 0:\n",
    "            print i,\n",
    "        pos = (pos + step) % (i+1)\n",
    "        lst.insert(pos+1, i+1)\n",
    "        pos = pos+1\n",
    "    return lst"
   ]
  },
  {
   "cell_type": "code",
   "execution_count": 162,
   "metadata": {
    "collapsed": true
   },
   "outputs": [],
   "source": [
    "def spin_lock_next_val(step, num_iter, val):\n",
    "    lst = spin_lock(step, num_iter)\n",
    "    ind = lst.index(val)\n",
    "    return lst[ind + 1 % len(lst)]"
   ]
  },
  {
   "cell_type": "code",
   "execution_count": 163,
   "metadata": {
    "collapsed": true
   },
   "outputs": [],
   "source": [
    "day17_test = spin_lock(3, 2017)\n",
    "# spin_lock(3, 10)"
   ]
  },
  {
   "cell_type": "code",
   "execution_count": 164,
   "metadata": {},
   "outputs": [
    {
     "data": {
      "text/plain": [
       "638"
      ]
     },
     "execution_count": 164,
     "metadata": {},
     "output_type": "execute_result"
    }
   ],
   "source": [
    "spin_lock_next_val(3, 2017, 2017)"
   ]
  },
  {
   "cell_type": "code",
   "execution_count": 165,
   "metadata": {},
   "outputs": [
    {
     "data": {
      "text/plain": [
       "419"
      ]
     },
     "execution_count": 165,
     "metadata": {},
     "output_type": "execute_result"
    }
   ],
   "source": [
    "spin_lock_next_val(386, 2017, 2017)"
   ]
  },
  {
   "cell_type": "markdown",
   "metadata": {},
   "source": [
    "## Part Two\n",
    "\n",
    "The spinlock does not short-circuit. Instead, it gets more angry. At least, you assume that's what happened; it's spinning significantly faster than it was a moment ago.\n",
    "\n",
    "You have good news and bad news.\n",
    "\n",
    "The good news is that you have improved calculations for how to stop the spinlock. They indicate that you actually need to identify the value after 0 in the current state of the circular buffer.\n",
    "\n",
    "The bad news is that while you were determining this, the spinlock has just finished inserting its fifty millionth value (50000000).\n",
    "\n",
    "What is the value after 0 the moment 50000000 is inserted?\n",
    "\n",
    "Your puzzle input is still 386."
   ]
  },
  {
   "cell_type": "code",
   "execution_count": 166,
   "metadata": {
    "collapsed": true
   },
   "outputs": [],
   "source": [
    "def spin_lock_zero(step, num_iter, display=False):\n",
    "    # Only care aboiut the number immediately after 0\n",
    "    # Hence we only need to keep track of when inserts happen at start of list\n",
    "    pos = 0\n",
    "    val = 0 \n",
    "    for i in range(num_iter):\n",
    "        if display and i % 500000 == 0:\n",
    "            print i,\n",
    "        pos = (pos + step) % (i+1)\n",
    "        if pos == 0:\n",
    "            val = i+1\n",
    "        pos = pos+1\n",
    "    return val"
   ]
  },
  {
   "cell_type": "code",
   "execution_count": 167,
   "metadata": {},
   "outputs": [
    {
     "data": {
      "text/plain": [
       "[0, 1, 2, 2, 2, 5, 5, 5, 5, 9]"
      ]
     },
     "execution_count": 167,
     "metadata": {},
     "output_type": "execute_result"
    }
   ],
   "source": [
    "[spin_lock_zero(3, i) for i in range(10)]"
   ]
  },
  {
   "cell_type": "code",
   "execution_count": 168,
   "metadata": {},
   "outputs": [
    {
     "data": {
      "text/plain": [
       "[0, 1, 2, 2, 2, 5, 5, 5, 5, 9]"
      ]
     },
     "execution_count": 168,
     "metadata": {},
     "output_type": "execute_result"
    }
   ],
   "source": [
    "[spin_lock_next_val(3, i, 0) for i in range(10)]"
   ]
  },
  {
   "cell_type": "code",
   "execution_count": 169,
   "metadata": {},
   "outputs": [
    {
     "data": {
      "text/plain": [
       "46038988"
      ]
     },
     "execution_count": 169,
     "metadata": {},
     "output_type": "execute_result"
    }
   ],
   "source": [
    "spin_lock_zero(386, 50000000)"
   ]
  },
  {
   "cell_type": "markdown",
   "metadata": {
    "collapsed": true
   },
   "source": [
    "# Day 18: Duet\n",
    "\n",
    "You discover a tablet containing some strange assembly code labeled simply \"Duet\". Rather than bother the sound card with it, you decide to run the code yourself. Unfortunately, you don't see any documentation, so you're left to figure out what the instructions mean on your own.\n",
    "\n",
    "It seems like the assembly is meant to operate on a set of registers that are each named with a single letter and that can each hold a single integer. You suppose each register should start with a value of 0.\n",
    "\n",
    "There aren't that many instructions, so it shouldn't be hard to figure out what they do. Here's what you determine:\n",
    "\n",
    "    snd X plays a sound with a frequency equal to the value of X.\n",
    "    set X Y sets register X to the value of Y.\n",
    "    add X Y increases register X by the value of Y.\n",
    "    mul X Y sets register X to the result of multiplying the value contained in register X by the value of Y.\n",
    "    mod X Y sets register X to the remainder of dividing the value contained in register X by the value of Y (that is, it sets X to the result of X modulo Y).\n",
    "    rcv X recovers the frequency of the last sound played, but only when the value of X is not zero. (If it is zero, the command does nothing.)\n",
    "    jgz X Y jumps with an offset of the value of Y, but only if the value of X is greater than zero. (An offset of 2 skips the next instruction, an offset of -1 jumps to the previous instruction, and so on.)\n",
    "Many of the instructions can take either a register (a single letter) or a number. The value of a register is the integer it contains; the value of a number is that number.\n",
    "\n",
    "After each jump instruction, the program continues with the instruction to which the jump jumped. After any other instruction, the program continues with the next instruction. Continuing (or jumping) off either end of the program terminates it.\n",
    "\n",
    "For example:\n",
    "\n",
    "    set a 1\n",
    "    add a 2\n",
    "    mul a a\n",
    "    mod a 5\n",
    "    snd a\n",
    "    set a 0\n",
    "    rcv a\n",
    "    jgz a -1\n",
    "    set a 1\n",
    "    jgz a -2\n",
    "- The first four instructions set a to 1, add 2 to it, square it, and then set it to itself modulo 5, resulting in a value of 4.\n",
    "- Then, a sound with frequency 4 (the value of a) is played.\n",
    "- After that, a is set to 0, causing the subsequent rcv and jgz instructions to both be skipped (rcv because a is 0, and jgz because a is not greater than 0).\n",
    "- Finally, a is set to 1, causing the next jgz instruction to activate, jumping back two instructions to another jump, which jumps again to the rcv, which ultimately triggers the recover operation.\n",
    "At the time the recover operation is executed, the frequency of the last sound played is 4.\n",
    "\n",
    "What is the value of the recovered frequency (the value of the most recently played sound) the first time a rcv instruction is executed with a non-zero value?\n",
    "\n",
    "Your puzzle answer was 9423."
   ]
  },
  {
   "cell_type": "code",
   "execution_count": 170,
   "metadata": {
    "collapsed": true
   },
   "outputs": [],
   "source": [
    "def duet_parser(prog, prog_id=None, send=None, receive=None):\n",
    "    cmds = prog.split('\\n')\n",
    "    reg = defaultdict(int)\n",
    "    if prog_id is not None:\n",
    "        reg['p'] = prog_id\n",
    "    sound = 0\n",
    "    last_sound = 0\n",
    "    ind = 0\n",
    "    while ind >= 0 and ind < len(cmds):\n",
    "        cmd = cmds[ind]\n",
    "        if len(cmd.split()) == 3:\n",
    "            op, src, val = cmd.split()\n",
    "            if re.findall('[a-z]', val) == []:\n",
    "                val = int(val)\n",
    "            else:\n",
    "                val = reg[val]\n",
    "        else:\n",
    "            op, src = cmd.split()\n",
    "        \n",
    "        if op == 'snd':\n",
    "            # Sound\n",
    "            sound = reg[src]\n",
    "            if send is not None:\n",
    "                send(reg['p'], sound)\n",
    "        elif op == 'set':\n",
    "            # Set register\n",
    "            reg[src] = val\n",
    "        elif op == 'add':\n",
    "            # Add\n",
    "            reg[src] += val\n",
    "        elif op == 'mul':\n",
    "            # Multiply\n",
    "            reg[src] *= val\n",
    "        elif op == 'mod':\n",
    "            # Modulo\n",
    "            reg[src] %= val\n",
    "        elif op == 'rcv':\n",
    "            if receive is not None:\n",
    "                reg[src] = receive(reg['p'])\n",
    "            elif reg[src] != 0:\n",
    "                last_sound = sound\n",
    "                break\n",
    "        if op == 'jgz':\n",
    "            # 'src' for jgz can be an integer not register - caused a delay fixing this\n",
    "            if re.findall('[a-z]', src) == []:\n",
    "                src = int(src)\n",
    "            else:\n",
    "                src = reg[src]\n",
    "        \n",
    "            if src > 0:\n",
    "                ind += val\n",
    "            else:\n",
    "                ind += 1\n",
    "        else:\n",
    "            ind += 1\n",
    "    return last_sound"
   ]
  },
  {
   "cell_type": "code",
   "execution_count": 171,
   "metadata": {
    "collapsed": true
   },
   "outputs": [],
   "source": [
    "day18_test = \"\"\"set a 1\n",
    "add a 2\n",
    "mul a a\n",
    "mod a 5\n",
    "snd a\n",
    "set a 0\n",
    "rcv a\n",
    "jgz a -1\n",
    "set a 1\n",
    "jgz a -2\"\"\""
   ]
  },
  {
   "cell_type": "code",
   "execution_count": 172,
   "metadata": {},
   "outputs": [
    {
     "data": {
      "text/plain": [
       "4"
      ]
     },
     "execution_count": 172,
     "metadata": {},
     "output_type": "execute_result"
    }
   ],
   "source": [
    "duet_parser(day18_test)"
   ]
  },
  {
   "cell_type": "code",
   "execution_count": 173,
   "metadata": {
    "collapsed": true
   },
   "outputs": [],
   "source": [
    "day18_input = read_input('day18_input.txt')"
   ]
  },
  {
   "cell_type": "code",
   "execution_count": 174,
   "metadata": {},
   "outputs": [
    {
     "data": {
      "text/plain": [
       "9423"
      ]
     },
     "execution_count": 174,
     "metadata": {},
     "output_type": "execute_result"
    }
   ],
   "source": [
    "duet_parser(day18_input)"
   ]
  },
  {
   "cell_type": "markdown",
   "metadata": {},
   "source": [
    "## Part Two \n",
    "\n",
    "As you congratulate yourself for a job well done, you notice that the documentation has been on the back of the tablet this entire time. While you actually got most of the instructions correct, there are a few key differences. This assembly code isn't about sound at all - it's meant to be run twice at the same time.\n",
    "\n",
    "Each running copy of the program has its own set of registers and follows the code independently - in fact, the programs don't even necessarily run at the same speed. To coordinate, they use the send (snd) and receive (rcv) instructions:\n",
    "\n",
    "- snd X sends the value of X to the other program. These values wait in a queue until that program is ready to receive them. Each program has its own message queue, so a program can never receive a message it sent.\n",
    "- rcv X receives the next value and stores it in register X. If no values are in the queue, the program waits for a value to be sent to it. Programs do not continue to the next instruction until they have received a value. Values are received in the order they are sent.\n",
    "Each program also has its own program ID (one 0 and the other 1); the register p should begin with this value.\n",
    "\n",
    "For example:\n",
    "\n",
    "    snd 1\n",
    "    snd 2\n",
    "    snd p\n",
    "    rcv a\n",
    "    rcv b\n",
    "    rcv c\n",
    "    rcv d\n",
    "Both programs begin by sending three values to the other. Program 0 sends 1, 2, 0; program 1 sends 1, 2, 1. Then, each program receives a value (both 1) and stores it in a, receives another value (both 2) and stores it in b, and then each receives the program ID of the other program (program 0 receives 1; program 1 receives 0) and stores it in c. Each program now sees a different value in its own copy of register c.\n",
    "\n",
    "Finally, both programs try to rcv a fourth time, but no data is waiting for either of them, and they reach a deadlock. When this happens, both programs terminate.\n",
    "\n",
    "It should be noted that it would be equally valid for the programs to run at different speeds; for example, program 0 might have sent all three values and then stopped at the first rcv before program 1 executed even its first instruction.\n",
    "\n",
    "Once both of your programs have terminated (regardless of what caused them to do so), how many times did program 1 send a value?\n",
    "\n",
    "Your puzzle answer was 7620."
   ]
  },
  {
   "cell_type": "code",
   "execution_count": 175,
   "metadata": {
    "collapsed": true
   },
   "outputs": [],
   "source": [
    "from collections import deque"
   ]
  },
  {
   "cell_type": "code",
   "execution_count": 176,
   "metadata": {
    "collapsed": true
   },
   "outputs": [],
   "source": [
    "class DuetParser(object):\n",
    "    def __init__(self, prog, prog_id=None, send=None, receive=None, display=False):\n",
    "        self.prog_id = prog_id\n",
    "        self.reg = defaultdict(int)\n",
    "        if prog_id is not None:\n",
    "            self.reg['p'] = prog_id\n",
    "        self.cmds = prog.split('\\n')\n",
    "        self.ind = 0 \n",
    "        self.sound = 0\n",
    "        self.last_sound = 0\n",
    "        self.send = send\n",
    "        self.receive = receive\n",
    "        self.display = display\n",
    "        \n",
    "    def parse(self, cmd):\n",
    "        if len(cmd.split()) == 3:\n",
    "            op, src, val = cmd.split()\n",
    "            if re.findall('[a-z]', val) == []:\n",
    "                val = int(val)\n",
    "            else:\n",
    "                val = self.reg[val]\n",
    "        else:\n",
    "            op, src = cmd.split()\n",
    "        \n",
    "        if op == 'snd':\n",
    "            # Sound\n",
    "            if re.findall('[a-z]', src) == []:\n",
    "                src = int(src)\n",
    "            else:\n",
    "                src = self.reg[src]\n",
    "            self.sound = src\n",
    "            self.send.append(self.sound)\n",
    "        elif op == 'set':\n",
    "            # Set register\n",
    "            self.reg[src] = val\n",
    "        elif op == 'add':\n",
    "            # Add\n",
    "            self.reg[src] += val\n",
    "        elif op == 'mul':\n",
    "            # Multiply\n",
    "            self.reg[src] *= val\n",
    "        elif op == 'mod':\n",
    "            # Modulo\n",
    "            self.reg[src] %= val\n",
    "        elif op == 'rcv':\n",
    "            if self.display:\n",
    "                print cmd        \n",
    "            self.reg[src] = self.receive.popleft()\n",
    "\n",
    "        if op == 'jgz':\n",
    "            if re.findall('[a-z]', src) == []:\n",
    "                src = int(src)\n",
    "            else:\n",
    "                src = self.reg[src]\n",
    "        \n",
    "            if src > 0:\n",
    "                self.ind += val\n",
    "            else:\n",
    "                self.ind += 1\n",
    "        else:\n",
    "            self.ind += 1\n",
    "            \n",
    "    def update(self):\n",
    "        if self.display:\n",
    "            print('prog {}: instr {}.  reg = {}'.format(self.prog_id, self.ind, self.reg))\n",
    "        self.parse(self.cmds[self.ind])"
   ]
  },
  {
   "cell_type": "code",
   "execution_count": 177,
   "metadata": {
    "collapsed": true
   },
   "outputs": [],
   "source": [
    "day18_test2 = \"\"\"snd 1\n",
    "snd 2\n",
    "snd p\n",
    "rcv a\n",
    "rcv b\n",
    "rcv c\n",
    "rcv d\"\"\""
   ]
  },
  {
   "cell_type": "code",
   "execution_count": 178,
   "metadata": {
    "collapsed": true
   },
   "outputs": [],
   "source": [
    "def duet_driver(prog, display=False, max_steps=np.inf):\n",
    "    prog0_in = deque()\n",
    "    prog1_in = deque()\n",
    "    prog0 = DuetParser(prog, 0, prog1_in, prog0_in, display)\n",
    "    prog1 = DuetParser(prog, 1, prog0_in, prog1_in, display)\n",
    "    deadlock = False\n",
    "    values_sent = 0\n",
    "    steps = 0\n",
    "    while not (deadlock \n",
    "               or prog0.ind < 0 or prog0.ind >= len(prog0.cmds) \n",
    "               or prog1.ind < 0 or prog1.ind >= len(prog1.cmds) \n",
    "              or steps > max_steps\n",
    "              ):\n",
    "        # print (prog0.ind, prog1.ind), \n",
    "        prog1_sent = len(prog0_in)\n",
    "        if 'rcv' != prog1.cmds[prog1.ind][:3] or len(prog1_in) > 0:\n",
    "            prog1.update()\n",
    "        elif 'rcv' != prog0.cmds[prog0.ind][:3] or len(prog0_in) > 0:\n",
    "            prog0.update()\n",
    "        else:\n",
    "            deadlock = True\n",
    "        if len(prog0_in) > prog1_sent:\n",
    "            values_sent += 1\n",
    "        steps += 1\n",
    "    return values_sent    "
   ]
  },
  {
   "cell_type": "code",
   "execution_count": 179,
   "metadata": {},
   "outputs": [
    {
     "name": "stdout",
     "output_type": "stream",
     "text": [
      "prog 1: instr 0.  reg = defaultdict(<type 'int'>, {'p': 1})\n",
      "prog 1: instr 1.  reg = defaultdict(<type 'int'>, {'p': 1})\n",
      "prog 1: instr 2.  reg = defaultdict(<type 'int'>, {'p': 1})\n",
      "prog 0: instr 0.  reg = defaultdict(<type 'int'>, {'p': 0})\n",
      "prog 1: instr 3.  reg = defaultdict(<type 'int'>, {'p': 1})\n",
      "rcv a\n",
      "prog 0: instr 1.  reg = defaultdict(<type 'int'>, {'p': 0})\n",
      "prog 1: instr 4.  reg = defaultdict(<type 'int'>, {'a': 1, 'p': 1})\n",
      "rcv b\n",
      "prog 0: instr 2.  reg = defaultdict(<type 'int'>, {'p': 0})\n",
      "prog 1: instr 5.  reg = defaultdict(<type 'int'>, {'a': 1, 'p': 1, 'b': 2})\n",
      "rcv c\n",
      "prog 0: instr 3.  reg = defaultdict(<type 'int'>, {'p': 0})\n",
      "rcv a\n",
      "prog 0: instr 4.  reg = defaultdict(<type 'int'>, {'a': 1, 'p': 0})\n",
      "rcv b\n",
      "prog 0: instr 5.  reg = defaultdict(<type 'int'>, {'a': 1, 'p': 0, 'b': 2})\n",
      "rcv c\n"
     ]
    },
    {
     "data": {
      "text/plain": [
       "3"
      ]
     },
     "execution_count": 179,
     "metadata": {},
     "output_type": "execute_result"
    }
   ],
   "source": [
    "duet_driver(day18_test2, True)"
   ]
  },
  {
   "cell_type": "code",
   "execution_count": 180,
   "metadata": {},
   "outputs": [
    {
     "data": {
      "text/plain": [
       "7620"
      ]
     },
     "execution_count": 180,
     "metadata": {},
     "output_type": "execute_result"
    }
   ],
   "source": [
    "duet_driver(day18_input)"
   ]
  },
  {
   "cell_type": "markdown",
   "metadata": {
    "collapsed": true
   },
   "source": [
    "# Day 19: A Series of Tubes \n",
    "\n",
    "Somehow, a network packet got lost and ended up here. It's trying to follow a routing diagram (your puzzle input), but it's confused about where to go.\n",
    "\n",
    "Its starting point is just off the top of the diagram. Lines (drawn with |, -, and +) show the path it needs to take, starting by going down onto the only line connected to the top of the diagram. It needs to follow this path until it reaches the end (located somewhere within the diagram) and stop there.\n",
    "\n",
    "Sometimes, the lines cross over each other; in these cases, it needs to continue going the same direction, and only turn left or right when there's no other option. In addition, someone has left letters on the line; these also don't change its direction, but it can use them to keep track of where it's been. For example:\n",
    "\n",
    "         |          \n",
    "         |  +--+    \n",
    "         A  |  C    \n",
    "     F---|----E|--+ \n",
    "         |  |  |  D \n",
    "         +B-+  +--+ \n",
    "\n",
    "Given this diagram, the packet needs to take the following path:\n",
    "\n",
    "- Starting at the only line touching the top of the diagram, it must go down, pass through A, and continue onward to the first +.\n",
    "- Travel right, up, and right, passing through B in the process.\n",
    "- Continue down (collecting C), right, and up (collecting D).\n",
    "- Finally, go all the way left through E and stopping at F.\n",
    "Following the path to the end, the letters it sees on its path are ABCDEF.\n",
    "\n",
    "The little packet looks up at you, hoping you can help it find the way. What letters will it see (in the order it would see them) if it follows the path? (The routing diagram is very wide; make sure you view it without line wrapping.)\n",
    "\n",
    "Your puzzle answer was EPYDUXANIT.\n",
    "\n",
    "\n",
    "## Part Two \n",
    "\n",
    "The packet is curious how many steps it needs to go.\n",
    "\n",
    "For example, using the same routing diagram from the example above...\n",
    "\n",
    "         |          \n",
    "         |  +--+    \n",
    "         A  |  C    \n",
    "     F---|--|-E---+ \n",
    "         |  |  |  D \n",
    "         +B-+  +--+ \n",
    "\n",
    "...the packet would go:\n",
    "\n",
    "- 6 steps down (including the first line at the top of the diagram).\n",
    "- 3 steps right.\n",
    "- 4 steps up.\n",
    "- 3 steps right.\n",
    "- 4 steps down.\n",
    "- 3 steps right.\n",
    "- 2 steps up.\n",
    "- 13 steps left (including the F it stops on).\n",
    "This would result in a total of 38 steps.\n",
    "\n",
    "How many steps does the packet need to go?\n",
    "\n",
    "Your puzzle answer was 17544."
   ]
  },
  {
   "cell_type": "code",
   "execution_count": 181,
   "metadata": {
    "collapsed": true
   },
   "outputs": [],
   "source": [
    "day19_test=\"\"\"     |          \n",
    "     |  +--+    \n",
    "     A  |  C    \n",
    " F---|----E|--+ \n",
    "     |  |  |  D \n",
    "     +B-+  +--+ \"\"\""
   ]
  },
  {
   "cell_type": "code",
   "execution_count": 182,
   "metadata": {
    "collapsed": true
   },
   "outputs": [],
   "source": [
    "import string"
   ]
  },
  {
   "cell_type": "code",
   "execution_count": 183,
   "metadata": {
    "collapsed": true
   },
   "outputs": [],
   "source": [
    "def tube_parser(route, max_steps=np.inf):\n",
    "    lines = route.split('\\n')\n",
    "    direction = 'D'\n",
    "    directions_tried = set()\n",
    "    all_directions = set(['U', 'D', 'L', 'R'])\n",
    "    seen = []\n",
    "    pos = np.array([0, lines[0].index('|')])\n",
    "    step_dirs = {'D': (1, 0), 'U': (-1, 0), 'R': (0, 1), 'L': (0, -1)}\n",
    "    steps = 1\n",
    "    while directions_tried != all_directions and steps < max_steps:\n",
    "        # print directions_tried, \n",
    "        current = lines[pos[0]][pos[1]]\n",
    "        # print current,\n",
    "        if current in string.ascii_letters and current not in seen:\n",
    "            seen.append(current)\n",
    "        next_pos = pos + np.array(step_dirs[direction])\n",
    "        if (next_pos[0] >= 0 and next_pos[0] < len(lines) \n",
    "            and next_pos[1] >= 0 and next_pos[1] < len(lines[next_pos[0]])\n",
    "            and lines[next_pos[0]][next_pos[1]] != ' '):\n",
    "            steps += 1\n",
    "            directions_tried = set([direction, {'D': 'U', 'R': 'L', 'U': 'D', 'L': 'R'}[direction]])\n",
    "            pos = next_pos\n",
    "        else:\n",
    "            # Turn packet\n",
    "            directions_tried.add(direction)\n",
    "            new_direction = {'D': 'R', 'R': 'U', 'U': 'L', 'L': 'D'}[direction]\n",
    "            while new_direction in directions_tried and directions_tried != all_directions:\n",
    "                new_direction = {'D': 'R', 'R': 'U', 'U': 'L', 'L': 'D'}[new_direction]\n",
    "            direction = new_direction\n",
    "            \n",
    "    return ''.join(seen), steps"
   ]
  },
  {
   "cell_type": "code",
   "execution_count": 184,
   "metadata": {},
   "outputs": [
    {
     "data": {
      "text/plain": [
       "('ABCDEF', 38)"
      ]
     },
     "execution_count": 184,
     "metadata": {},
     "output_type": "execute_result"
    }
   ],
   "source": [
    "tube_parser(day19_test)"
   ]
  },
  {
   "cell_type": "code",
   "execution_count": 185,
   "metadata": {
    "collapsed": true
   },
   "outputs": [],
   "source": [
    "day19_input = read_input('day19_input.txt')"
   ]
  },
  {
   "cell_type": "code",
   "execution_count": 186,
   "metadata": {},
   "outputs": [
    {
     "data": {
      "text/plain": [
       "('EPYDUXANIT', 17544)"
      ]
     },
     "execution_count": 186,
     "metadata": {},
     "output_type": "execute_result"
    }
   ],
   "source": [
    "tube_parser(day19_input)"
   ]
  },
  {
   "cell_type": "markdown",
   "metadata": {},
   "source": [
    "# Day 20: Particle Swarm\n",
    "\n",
    "Suddenly, the GPU contacts you, asking for help. Someone has asked it to simulate too many particles, and it won't be able to finish them all in time to render the next frame at this rate.\n",
    "\n",
    "It transmits to you a buffer (your puzzle input) listing each particle in order (starting with particle 0, then particle 1, particle 2, and so on). For each particle, it provides the X, Y, and Z coordinates for the particle's position (p), velocity (v), and acceleration (a), each in the format <X,Y,Z>.\n",
    "\n",
    "Each tick, all particles are updated simultaneously. A particle's properties are updated in the following order:\n",
    "\n",
    "- Increase the X velocity by the X acceleration.\n",
    "- Increase the Y velocity by the Y acceleration.\n",
    "- Increase the Z velocity by the Z acceleration.\n",
    "- Increase the X position by the X velocity.\n",
    "- Increase the Y position by the Y velocity.\n",
    "- Increase the Z position by the Z velocity.\n",
    "\n",
    "Because of seemingly tenuous rationale involving z-buffering, the GPU would like to know which particle will stay closest to position 0,0,0 in the long term. Measure this using the Manhattan distance, which in this situation is simply the sum of the absolute values of a particle's X, Y, and Z position.\n",
    "\n",
    "For example, suppose you are only given two particles, both of which stay entirely on the X-axis (for simplicity). Drawing the current states of particles 0 and 1 (in that order) with an adjacent a number line and diagram of current X positions (marked in parenthesis), the following would take place:\n",
    "\n",
    "    p=< 3,0,0>, v=< 2,0,0>, a=<-1,0,0>    -4 -3 -2 -1  0  1  2  3  4\n",
    "    p=< 4,0,0>, v=< 0,0,0>, a=<-2,0,0>                         (0)(1)\n",
    "\n",
    "    p=< 4,0,0>, v=< 1,0,0>, a=<-1,0,0>    -4 -3 -2 -1  0  1  2  3  4\n",
    "    p=< 2,0,0>, v=<-2,0,0>, a=<-2,0,0>                      (1)   (0)\n",
    "\n",
    "    p=< 4,0,0>, v=< 0,0,0>, a=<-1,0,0>    -4 -3 -2 -1  0  1  2  3  4\n",
    "    p=<-2,0,0>, v=<-4,0,0>, a=<-2,0,0>          (1)               (0)\n",
    "\n",
    "    p=< 3,0,0>, v=<-1,0,0>, a=<-1,0,0>    -4 -3 -2 -1  0  1  2  3  4\n",
    "    p=<-8,0,0>, v=<-6,0,0>, a=<-2,0,0>                         (0)   \n",
    "At this point, particle 1 will never be closer to 0,0,0 than particle 0, and so, in the long run, particle 0 will stay closest.\n",
    "\n",
    "Which particle will stay closest to position 0,0,0 in the long term?\n",
    "\n",
    "Your puzzle answer was 243.\n",
    "\n",
    "\n",
    "## Part Two\n",
    "\n",
    "To simplify the problem further, the GPU would like to remove any particles that collide. Particles collide if their positions ever exactly match. Because particles are updated simultaneously, more than two particles can collide at the same time and place. Once particles collide, they are removed and cannot collide with anything else after that tick.\n",
    "\n",
    "For example:\n",
    "\n",
    "    p=<-6,0,0>, v=< 3,0,0>, a=< 0,0,0>    \n",
    "    p=<-4,0,0>, v=< 2,0,0>, a=< 0,0,0>    -6 -5 -4 -3 -2 -1  0  1  2  3\n",
    "    p=<-2,0,0>, v=< 1,0,0>, a=< 0,0,0>    (0)   (1)   (2)            (3)\n",
    "    p=< 3,0,0>, v=<-1,0,0>, a=< 0,0,0>\n",
    "\n",
    "    p=<-3,0,0>, v=< 3,0,0>, a=< 0,0,0>    \n",
    "    p=<-2,0,0>, v=< 2,0,0>, a=< 0,0,0>    -6 -5 -4 -3 -2 -1  0  1  2  3\n",
    "    p=<-1,0,0>, v=< 1,0,0>, a=< 0,0,0>             (0)(1)(2)      (3)   \n",
    "    p=< 2,0,0>, v=<-1,0,0>, a=< 0,0,0>\n",
    "\n",
    "    p=< 0,0,0>, v=< 3,0,0>, a=< 0,0,0>    \n",
    "    p=< 0,0,0>, v=< 2,0,0>, a=< 0,0,0>    -6 -5 -4 -3 -2 -1  0  1  2  3\n",
    "    p=< 0,0,0>, v=< 1,0,0>, a=< 0,0,0>                       X (3)      \n",
    "    p=< 1,0,0>, v=<-1,0,0>, a=< 0,0,0>\n",
    "\n",
    "    ------destroyed by collision------    \n",
    "    ------destroyed by collision------    -6 -5 -4 -3 -2 -1  0  1  2  3\n",
    "    ------destroyed by collision------                      (3)         \n",
    "    p=< 0,0,0>, v=<-1,0,0>, a=< 0,0,0>\n",
    "In this example, particles 0, 1, and 2 are simultaneously destroyed at the time and place marked X. On the next tick, particle 3 passes through unharmed.\n",
    "\n",
    "How many particles are left after all collisions are resolved?\n",
    "\n",
    "Your puzzle answer was 648."
   ]
  },
  {
   "cell_type": "code",
   "execution_count": 187,
   "metadata": {
    "collapsed": true
   },
   "outputs": [],
   "source": [
    "def parse_particles(particle_list):\n",
    "    particles = particle_list.split('\\n')\n",
    "    n = len(particles)\n",
    "    pos = np.zeros((n, 3))\n",
    "    vel = np.zeros((n, 3))\n",
    "    acc = np.zeros((n, 3))\n",
    "    state = {}\n",
    "    for i in range(n):\n",
    "        p_list = particles[i].split(',')\n",
    "        pos[i, 0] = int(p_list[0].split('<')[1])\n",
    "        pos[i, 1] = int(p_list[1])\n",
    "        pos[i, 2] = int(p_list[2].split('>')[0])\n",
    "        vel[i, 0] = int(p_list[3].split('<')[1])\n",
    "        vel[i, 1] = int(p_list[4])\n",
    "        vel[i, 2] = int(p_list[5].split('>')[0])\n",
    "        acc[i, 0] = int(p_list[6].split('<')[1])\n",
    "        acc[i, 1] = int(p_list[7])\n",
    "        acc[i, 2] = int(p_list[8].split('>')[0])\n",
    "    state['pos'] = pos\n",
    "    state['vel'] = vel\n",
    "    state['acc'] = acc\n",
    "    return state"
   ]
  },
  {
   "cell_type": "code",
   "execution_count": 188,
   "metadata": {
    "collapsed": true
   },
   "outputs": [],
   "source": [
    "from scipy.spatial.distance import pdist, squareform"
   ]
  },
  {
   "cell_type": "code",
   "execution_count": 189,
   "metadata": {
    "collapsed": true
   },
   "outputs": [],
   "source": [
    "def particle_update(state, steps=1, collide=False, display=False):\n",
    "    n = state['pos'].shape[0]\n",
    "    collided = np.zeros(n, dtype=bool)\n",
    "    for step in range(steps):\n",
    "        if display and step % 10 == 0:\n",
    "            print(step)\n",
    "            \n",
    "        state['vel'] += state['acc']\n",
    "        state['pos'] += state['vel']\n",
    "        if collide:\n",
    "            # Remove particles that have collided\n",
    "            D = squareform(pdist(state['pos'], 'cityblock'))\n",
    "            for i in range(0, n):\n",
    "                for j in range(i, n):\n",
    "                    if D[i, j] == 0 and i != j:\n",
    "                        if display:\n",
    "                            print('Collided: {} and {}'.format(i, j))\n",
    "                        state['pos'][i, :] = np.nan\n",
    "                        state['pos'][j, :] = np.nan\n",
    "                        collided[i] = True\n",
    "                        collided[j] = True\n",
    "            \n",
    "    state['collided'] = collided\n",
    "    return state"
   ]
  },
  {
   "cell_type": "code",
   "execution_count": 190,
   "metadata": {
    "collapsed": true
   },
   "outputs": [],
   "source": [
    "day20_test = parse_particles('p=< 3,0,0>, v=< 2,0,0>, a=<-1,0,0>\\np=< 4,0,0>, v=< 0,0,0>, a=<-2,0,0> ')"
   ]
  },
  {
   "cell_type": "code",
   "execution_count": 191,
   "metadata": {},
   "outputs": [
    {
     "data": {
      "text/plain": [
       "array([[ 4.,  0.,  0.],\n",
       "       [-2.,  0.,  0.]])"
      ]
     },
     "execution_count": 191,
     "metadata": {},
     "output_type": "execute_result"
    }
   ],
   "source": [
    "particle_update(day20_test, 2)['pos']"
   ]
  },
  {
   "cell_type": "code",
   "execution_count": 192,
   "metadata": {
    "collapsed": true
   },
   "outputs": [],
   "source": [
    "day20_input = read_input('day20_input.txt')"
   ]
  },
  {
   "cell_type": "code",
   "execution_count": 193,
   "metadata": {},
   "outputs": [
    {
     "data": {
      "text/plain": [
       "243"
      ]
     },
     "execution_count": 193,
     "metadata": {},
     "output_type": "execute_result"
    }
   ],
   "source": [
    "# Part 1 - update for large number of steps and find closest particle to 0,0,0\n",
    "day20_state = particle_update(parse_particles(day20_input), 1000)\n",
    "\n",
    "np.argmin(np.sum(np.abs(day20_state['pos']), axis=1))"
   ]
  },
  {
   "cell_type": "code",
   "execution_count": 194,
   "metadata": {},
   "outputs": [
    {
     "name": "stdout",
     "output_type": "stream",
     "text": [
      "0\n",
      "Collided: 0 and 1\n",
      "Collided: 0 and 2\n",
      "Collided: 1 and 2\n"
     ]
    },
    {
     "data": {
      "text/plain": [
       "array([[ nan,  nan,  nan],\n",
       "       [ nan,  nan,  nan],\n",
       "       [ nan,  nan,  nan],\n",
       "       [  1.,   0.,   0.]])"
      ]
     },
     "execution_count": 194,
     "metadata": {},
     "output_type": "execute_result"
    }
   ],
   "source": [
    "# Part 2 test - look for collisions \n",
    "day20_pt2_test = parse_particles(\"\"\"p=<-6,0,0>, v=< 3,0,0>, a=< 0,0,0>    \n",
    "p=<-4,0,0>, v=< 2,0,0>, a=< 0,0,0>\n",
    "p=<-2,0,0>, v=< 1,0,0>, a=< 0,0,0>\n",
    "p=< 3,0,0>, v=<-1,0,0>, a=< 0,0,0>\"\"\")\n",
    "squareform(pdist(particle_update(day20_pt2_test, 2, True, True)['pos'], 'cityblock'))\n",
    "day20_pt2_test['pos']"
   ]
  },
  {
   "cell_type": "code",
   "execution_count": 195,
   "metadata": {},
   "outputs": [
    {
     "data": {
      "text/plain": [
       "648"
      ]
     },
     "execution_count": 195,
     "metadata": {},
     "output_type": "execute_result"
    }
   ],
   "source": [
    "# Part 2 answer - slower update so try smaller number of steps\n",
    "day20_state = particle_update(parse_particles(day20_input), 50, True, False)\n",
    "\n",
    "np.sum(~day20_state['collided'])"
   ]
  },
  {
   "cell_type": "markdown",
   "metadata": {
    "collapsed": true
   },
   "source": [
    "# Day 21: Fractal Art\n",
    "\n",
    "You find a program trying to generate some art. It uses a strange process that involves repeatedly enhancing the detail of an image through a set of rules.\n",
    "\n",
    "The image consists of a two-dimensional square grid of pixels that are either on (#) or off (.). The program always begins with this pattern:\n",
    "\n",
    "    .#.\n",
    "    ..#\n",
    "    ###\n",
    "Because the pattern is both 3 pixels wide and 3 pixels tall, it is said to have a size of 3.\n",
    "\n",
    "Then, the program repeats the following process:\n",
    "\n",
    "- If the size is evenly divisible by 2, break the pixels up into 2x2 squares, and convert each 2x2 square into a 3x3 square by following the corresponding enhancement rule.\n",
    "- Otherwise, the size is evenly divisible by 3; break the pixels up into 3x3 squares, and convert each 3x3 square into a 4x4 square by following the corresponding enhancement rule.\n",
    "\n",
    "Because each square of pixels is replaced by a larger one, the image gains pixels and so its size increases.\n",
    "\n",
    "The artist's book of enhancement rules is nearby (your puzzle input); however, it seems to be missing rules. The artist explains that sometimes, one must rotate or flip the input pattern to find a match. (Never rotate or flip the output pattern, though.) Each pattern is written concisely: rows are listed as single units, ordered top-down, and separated by slashes. For example, the following rules correspond to the adjacent patterns:\n",
    "\n",
    "    ../.#  =  ..\n",
    "              .#\n",
    "\n",
    "                    .#.\n",
    "    .#./..#/###  =  ..#\n",
    "                    ###\n",
    "\n",
    "                            #..#\n",
    "    #..#/..../#..#/.##.  =  ....\n",
    "                            #..#\n",
    "                            .##.\n",
    "When searching for a rule to use, rotate and flip the pattern as necessary. For example, all of the following patterns match the same rule:\n",
    "\n",
    "    .#.   .#.   #..   ###\n",
    "    ..#   #..   #.#   ..#\n",
    "    ###   ###   ##.   .#.\n",
    "Suppose the book contained the following two rules:\n",
    "\n",
    "    ../.# => ##./#../...\n",
    "    .#./..#/### => #..#/..../..../#..#\n",
    "As before, the program begins with this pattern:\n",
    "\n",
    "    .#.\n",
    "    ..#\n",
    "    ###\n",
    "The size of the grid (3) is not divisible by 2, but it is divisible by 3. It divides evenly into a single square; the square matches the second rule, which produces:\n",
    "\n",
    "    #..#\n",
    "    ....\n",
    "    ....\n",
    "    #..#\n",
    "The size of this enhanced grid (4) is evenly divisible by 2, so that rule is used. It divides evenly into four squares:\n",
    "\n",
    "    #.|.#\n",
    "    ..|..\n",
    "    --+--\n",
    "    ..|..\n",
    "    #.|.#\n",
    "Each of these squares matches the same rule (../.# => ##./#../...), three of which require some flipping and rotation to line up with the rule. The output for the rule is the same in all four cases:\n",
    "\n",
    "    ##.|##.\n",
    "    #..|#..\n",
    "    ...|...\n",
    "    ---+---\n",
    "    ##.|##.\n",
    "    #..|#..\n",
    "    ...|...\n",
    "Finally, the squares are joined into a new grid:\n",
    "\n",
    "    ##.##.\n",
    "    #..#..\n",
    "    ......\n",
    "    ##.##.\n",
    "    #..#..\n",
    "    ......\n",
    "Thus, after 2 iterations, the grid contains 12 pixels that are on.\n",
    "\n",
    "How many pixels stay on after 5 iterations?\n",
    "\n",
    "Your puzzle answer was 117.\n",
    "\n",
    "## Part Two \n",
    "How many pixels stay on after 18 iterations?\n",
    "\n",
    "Your puzzle answer was 2026963."
   ]
  },
  {
   "cell_type": "code",
   "execution_count": 196,
   "metadata": {},
   "outputs": [
    {
     "data": {
      "text/plain": [
       "True"
      ]
     },
     "execution_count": 196,
     "metadata": {},
     "output_type": "execute_result"
    }
   ],
   "source": [
    "np.all(np.array([[True, False], [False, False]]) == np.array([[True, False], [False, False]]))"
   ]
  },
  {
   "cell_type": "code",
   "execution_count": 197,
   "metadata": {
    "collapsed": true
   },
   "outputs": [],
   "source": [
    "day21_start = '.#./..#/###'"
   ]
  },
  {
   "cell_type": "code",
   "execution_count": 198,
   "metadata": {
    "collapsed": true
   },
   "outputs": [],
   "source": [
    "def parse_art_pattern(pat_str):\n",
    "    lines = pat_str.split('/')\n",
    "    res = []\n",
    "    for line in lines:\n",
    "        res.append([c == '#' for c in line])\n",
    "    return np.array(res)"
   ]
  },
  {
   "cell_type": "code",
   "execution_count": 199,
   "metadata": {
    "collapsed": true
   },
   "outputs": [],
   "source": [
    "def art_pattern_to_str(pat_arr):\n",
    "    lst = pat_arr.tolist()\n",
    "    res = []\n",
    "    for line in lst:\n",
    "        res.append(''.join(['#' if x else '.' for x in line]))\n",
    "    pat_str = '/'.join(res)\n",
    "    return pat_str"
   ]
  },
  {
   "cell_type": "code",
   "execution_count": 200,
   "metadata": {},
   "outputs": [
    {
     "data": {
      "text/plain": [
       "'.#./..#/###'"
      ]
     },
     "execution_count": 200,
     "metadata": {},
     "output_type": "execute_result"
    }
   ],
   "source": [
    "art_pattern_to_str(parse_art_pattern(day21_start))"
   ]
  },
  {
   "cell_type": "code",
   "execution_count": 201,
   "metadata": {
    "collapsed": true
   },
   "outputs": [],
   "source": [
    "def parse_art_rules(rulebook):\n",
    "    rules = rulebook.split('\\n')\n",
    "    rule_dict = defaultdict(str)\n",
    "    for rule in rules:\n",
    "        in_pat_str, out_pat_str = rule.split(' => ')\n",
    "        in_pat = parse_art_pattern(in_pat_str)\n",
    "        out_pat = parse_art_pattern(out_pat_str)\n",
    "        rule_dict[art_pattern_to_str(in_pat)] = out_pat\n",
    "        # Add flip and rotate versions\n",
    "        rule_dict[art_pattern_to_str(np.fliplr(in_pat))] = out_pat\n",
    "        rule_dict[art_pattern_to_str(np.flipud(in_pat))] = out_pat\n",
    "        rule_dict[art_pattern_to_str(np.flipud(np.fliplr(in_pat)))] = out_pat\n",
    "        rule_dict[art_pattern_to_str(np.fliplr(np.flipud(in_pat)))] = out_pat\n",
    "        rule_dict[art_pattern_to_str(np.rot90(in_pat, 1))] = out_pat\n",
    "        rule_dict[art_pattern_to_str(np.rot90(in_pat, 2))] = out_pat\n",
    "        rule_dict[art_pattern_to_str(np.rot90(in_pat, 3))] = out_pat\n",
    "        rule_dict[art_pattern_to_str(np.fliplr(np.rot90(in_pat, 1)))] = out_pat\n",
    "        rule_dict[art_pattern_to_str(np.fliplr(np.rot90(in_pat, 2)))] = out_pat\n",
    "        rule_dict[art_pattern_to_str(np.fliplr(np.rot90(in_pat, 3)))] = out_pat\n",
    "        rule_dict[art_pattern_to_str(np.flipud(np.rot90(in_pat, 1)))] = out_pat\n",
    "        rule_dict[art_pattern_to_str(np.flipud(np.rot90(in_pat, 2)))] = out_pat\n",
    "        rule_dict[art_pattern_to_str(np.flipud(np.rot90(in_pat, 3)))] = out_pat\n",
    "    return rule_dict"
   ]
  },
  {
   "cell_type": "code",
   "execution_count": 202,
   "metadata": {
    "collapsed": true
   },
   "outputs": [],
   "source": [
    "day21_test = \"\"\"../.# => ##./#../...\n",
    ".#./..#/### => #..#/..../..../#..#\"\"\""
   ]
  },
  {
   "cell_type": "code",
   "execution_count": 203,
   "metadata": {
    "collapsed": true
   },
   "outputs": [],
   "source": [
    "day21_test_rules = parse_art_rules(day21_test)\n",
    "# for rule in day21_test_rules:\n",
    "#     print parse_art_pattern(rule)"
   ]
  },
  {
   "cell_type": "code",
   "execution_count": 204,
   "metadata": {},
   "outputs": [
    {
     "data": {
      "text/plain": [
       "array([[False,  True],\n",
       "       [ True,  True]], dtype=bool)"
      ]
     },
     "execution_count": 204,
     "metadata": {},
     "output_type": "execute_result"
    }
   ],
   "source": [
    "parse_art_pattern(day21_start)[(1 + 0):(1 + 2), (1 + 0):(1 + 2)]"
   ]
  },
  {
   "cell_type": "code",
   "execution_count": 205,
   "metadata": {
    "collapsed": true
   },
   "outputs": [],
   "source": [
    "def art_update(in_pat_str, rulebook, steps):\n",
    "    canvas = parse_art_pattern(in_pat_str)\n",
    "    rules = parse_art_rules(rulebook)\n",
    "    def update_fun(s):\n",
    "        return art_pattern_to_str(rules[s])\n",
    "    vec_update = np.vectorize(update_fun)\n",
    "    \n",
    "    def array_split(arr, s):\n",
    "        n = arr.shape[0]\n",
    "        res = np.zeros((n/s, n/s), dtype=object)\n",
    "        for row in range(n/s):\n",
    "            for col in range(n/s):\n",
    "                tile = arr[(row*s+0):(row*s+s), (col*s + 0):(col*s + s)]\n",
    "                res[row, col] = art_pattern_to_str(tile)\n",
    "        return res\n",
    "    \n",
    "    for step in range(steps):\n",
    "        n = canvas.shape[0]\n",
    "        if n % 2 == 0:\n",
    "            s = 2\n",
    "        else:\n",
    "            # Divisible by 3\n",
    "            assert(n % 3 ==0)\n",
    "            s = 3\n",
    "        # Break up array\n",
    "        res = array_split(canvas, s)\n",
    "        # Apply rulebook\n",
    "        res_update = vec_update(res)\n",
    "        res_lst = []\n",
    "        for row in range(n/s):\n",
    "            this_row = []\n",
    "            for col in range(n/s):\n",
    "                this_row.append(parse_art_pattern(res_update[row, col]))\n",
    "            res_lst.append(np.hstack(this_row))\n",
    "        canvas = np.vstack(res_lst)\n",
    "    return canvas"
   ]
  },
  {
   "cell_type": "code",
   "execution_count": 206,
   "metadata": {},
   "outputs": [
    {
     "data": {
      "text/plain": [
       "12"
      ]
     },
     "execution_count": 206,
     "metadata": {},
     "output_type": "execute_result"
    }
   ],
   "source": [
    "art_update(day21_start, day21_test, 2).sum()"
   ]
  },
  {
   "cell_type": "code",
   "execution_count": 207,
   "metadata": {
    "collapsed": true
   },
   "outputs": [],
   "source": [
    "day21_input = read_input('day21_input.txt')"
   ]
  },
  {
   "cell_type": "code",
   "execution_count": 208,
   "metadata": {
    "collapsed": true
   },
   "outputs": [],
   "source": [
    "# for line in day21_input.split('\\n'):\n",
    "#     this_rule = parse_art_rules(line)\n",
    "#     if '###/..#/.#.' in this_rule:\n",
    "#         break\n",
    "# print line"
   ]
  },
  {
   "cell_type": "code",
   "execution_count": 209,
   "metadata": {
    "collapsed": true
   },
   "outputs": [],
   "source": [
    "# '###/..#/.#.' in day21_rules"
   ]
  },
  {
   "cell_type": "code",
   "execution_count": 210,
   "metadata": {
    "collapsed": true
   },
   "outputs": [],
   "source": [
    "# parse_art_rules('##./#.#/#.. => ###./####/#.##/..#.')"
   ]
  },
  {
   "cell_type": "code",
   "execution_count": 211,
   "metadata": {},
   "outputs": [
    {
     "data": {
      "text/plain": [
       "117"
      ]
     },
     "execution_count": 211,
     "metadata": {},
     "output_type": "execute_result"
    }
   ],
   "source": [
    "# Part 1\n",
    "art_update(day21_start, day21_input, 5).sum()"
   ]
  },
  {
   "cell_type": "code",
   "execution_count": 212,
   "metadata": {},
   "outputs": [
    {
     "data": {
      "text/plain": [
       "2026963"
      ]
     },
     "execution_count": 212,
     "metadata": {},
     "output_type": "execute_result"
    }
   ],
   "source": [
    "# Part 2\n",
    "art_update(day21_start, day21_input, 18).sum()"
   ]
  },
  {
   "cell_type": "markdown",
   "metadata": {
    "collapsed": true
   },
   "source": [
    "# Day 22: Sporifica Virus \n",
    "Diagnostics indicate that the local grid computing cluster has been contaminated with the Sporifica Virus. The grid computing cluster is a seemingly-infinite two-dimensional grid of compute nodes. Each node is either clean or infected by the virus.\n",
    "\n",
    "To prevent overloading the nodes (which would render them useless to the virus) or detection by system administrators, exactly one virus carrier moves through the network, infecting or cleaning nodes as it moves. The virus carrier is always located on a single node in the network (the current node) and keeps track of the direction it is facing.\n",
    "\n",
    "To avoid detection, the virus carrier works in bursts; in each burst, it wakes up, does some work, and goes back to sleep. The following steps are all executed in order one time each burst:\n",
    "\n",
    "- If the current node is infected, it turns to its right. Otherwise, it turns to its left. (Turning is done in-place; the current node does not change.)\n",
    "- If the current node is clean, it becomes infected. Otherwise, it becomes cleaned. (This is done after the node is considered for the purposes of changing direction.)\n",
    "- The virus carrier moves forward one node in the direction it is facing.\n",
    "\n",
    "Diagnostics have also provided a map of the node infection status (your puzzle input). Clean nodes are shown as .; infected nodes are shown as #. This map only shows the center of the grid; there are many more nodes beyond those shown, but none of them are currently infected.\n",
    "\n",
    "The virus carrier begins in the middle of the map facing up.\n",
    "\n",
    "For example, suppose you are given a map like this:\n",
    "\n",
    "    ..#\n",
    "    #..\n",
    "    ...\n",
    "Then, the middle of the infinite grid looks like this, with the virus carrier's position marked with [ ]:\n",
    "\n",
    "    . . . . . . . . .\n",
    "    . . . . . . . . .\n",
    "    . . . . . . . . .\n",
    "    . . . . . # . . .\n",
    "    . . . #[.]. . . .\n",
    "    . . . . . . . . .\n",
    "    . . . . . . . . .\n",
    "    . . . . . . . . .\n",
    "The virus carrier is on a clean node, so it turns left, infects the node, and moves left:\n",
    "\n",
    "    . . . . . . . . .\n",
    "    . . . . . . . . .\n",
    "    . . . . . . . . .\n",
    "    . . . . . # . . .\n",
    "    . . .[#]# . . . .\n",
    "    . . . . . . . . .\n",
    "    . . . . . . . . .\n",
    "    . . . . . . . . .\n",
    "The virus carrier is on an infected node, so it turns right, cleans the node, and moves up:\n",
    "\n",
    "    . . . . . . . . .\n",
    "    . . . . . . . . .\n",
    "    . . . . . . . . .\n",
    "    . . .[.]. # . . .\n",
    "    . . . . # . . . .\n",
    "    . . . . . . . . .\n",
    "    . . . . . . . . .\n",
    "    . . . . . . . . .\n",
    "Four times in a row, the virus carrier finds a clean, infects it, turns left, and moves forward, ending in the same place and still facing up:\n",
    "\n",
    "    . . . . . . . . .\n",
    "    . . . . . . . . .\n",
    "    . . . . . . . . .\n",
    "    . . #[#]. # . . .\n",
    "    . . # # # . . . .\n",
    "    . . . . . . . . .\n",
    "    . . . . . . . . .\n",
    "    . . . . . . . . .\n",
    "Now on the same node as before, it sees an infection, which causes it to turn right, clean the node, and move forward:\n",
    "\n",
    "    . . . . . . . . .\n",
    "    . . . . . . . . .\n",
    "    . . . . . . . . .\n",
    "    . . # .[.]# . . .\n",
    "    . . # # # . . . .\n",
    "    . . . . . . . . .\n",
    "    . . . . . . . . .\n",
    "    . . . . . . . . .\n",
    "After the above actions, a total of 7 bursts of activity had taken place. Of them, 5 bursts of activity caused an infection.\n",
    "\n",
    "After a total of 70, the grid looks like this, with the virus carrier facing up:\n",
    "\n",
    "    . . . . . # # . .\n",
    "    . . . . # . . # .\n",
    "    . . . # . . . . #\n",
    "    . . # . #[.]. . #\n",
    "    . . # . # . . # .\n",
    "    . . . . . # # . .\n",
    "    . . . . . . . . .\n",
    "    . . . . . . . . .\n",
    "By this time, 41 bursts of activity caused an infection (though most of those nodes have since been cleaned).\n",
    "\n",
    "After a total of 10000 bursts of activity, 5587 bursts will have caused an infection.\n",
    "\n",
    "Given your actual map, after 10000 bursts of activity, how many bursts cause a node to become infected? (Do not count nodes that begin infected.)\n",
    "\n",
    "Your puzzle answer was 5256."
   ]
  },
  {
   "cell_type": "code",
   "execution_count": 213,
   "metadata": {
    "collapsed": true
   },
   "outputs": [],
   "source": [
    "day22_test = \"\"\"..#\n",
    "#..\n",
    "...\"\"\""
   ]
  },
  {
   "cell_type": "code",
   "execution_count": 242,
   "metadata": {
    "collapsed": true
   },
   "outputs": [],
   "source": [
    "def parse_virus(map_str, orig=True):\n",
    "    lines = map_str.split('\\n')\n",
    "    res = []\n",
    "    for line in lines:\n",
    "        res.append([True if c == '#' else False for c in line])\n",
    "    X = np.array(res)\n",
    "    if orig:\n",
    "        # Part 1 \n",
    "        grid = defaultdict(bool)\n",
    "    else:\n",
    "        # Part 2\n",
    "        grid = defaultdict(lambda: '.')\n",
    "    rows, cols = X.shape\n",
    "    for row in range(rows):\n",
    "        for col in range(cols):\n",
    "            if orig:\n",
    "                grid[(-(row - (rows-1)/2), col - (cols-1)/2)] = X[row, col]\n",
    "            else:\n",
    "                grid[(-(row - (rows-1)/2), col - (cols-1)/2)] = '#' if X[row, col] else '.'\n",
    "    return grid"
   ]
  },
  {
   "cell_type": "code",
   "execution_count": 243,
   "metadata": {},
   "outputs": [
    {
     "data": {
      "text/plain": [
       "defaultdict(<function __main__.<lambda>>,\n",
       "            {(-1, -1): '.',\n",
       "             (-1, 0): '.',\n",
       "             (-1, 1): '.',\n",
       "             (0, -1): '#',\n",
       "             (0, 0): '.',\n",
       "             (0, 1): '.',\n",
       "             (1, -1): '.',\n",
       "             (1, 0): '.',\n",
       "             (1, 1): '#'})"
      ]
     },
     "execution_count": 243,
     "metadata": {},
     "output_type": "execute_result"
    }
   ],
   "source": [
    "parse_virus(day22_test, False)"
   ]
  },
  {
   "cell_type": "code",
   "execution_count": 246,
   "metadata": {},
   "outputs": [],
   "source": [
    "def update_virus(map_str, steps, orig=True):\n",
    "    grid = parse_virus(map_str, orig)\n",
    "    direction = 'U'\n",
    "    pos = (0, 0)\n",
    "    infect_count = 0\n",
    "    for step in range(steps):\n",
    "        if orig:\n",
    "            if grid[pos]:\n",
    "                # Infected - turn right and clean\n",
    "                direction = {'U': 'R', 'R': 'D', 'D': 'L', 'L': 'U'}[direction]\n",
    "                grid[pos] = False\n",
    "            else:\n",
    "                # Clean - turn left and infect\n",
    "                direction = {'U': 'L', 'L': 'D', 'D': 'R', 'R': 'U'}[direction]\n",
    "                grid[pos] = True\n",
    "                infect_count += 1\n",
    "        else:\n",
    "            if grid[pos] == '#':\n",
    "                # Infected - turn right and clean\n",
    "                direction = {'U': 'R', 'R': 'D', 'D': 'L', 'L': 'U'}[direction]\n",
    "                grid[pos] = 'F'\n",
    "            elif grid[pos] == '.':\n",
    "                # Clean - turn left and become weakened\n",
    "                direction = {'U': 'L', 'L': 'D', 'D': 'R', 'R': 'U'}[direction]\n",
    "                grid[pos] = 'W'\n",
    "            elif grid[pos] == 'F':\n",
    "                # Flagged - reverse and clean\n",
    "                direction = {'U': 'D', 'L': 'R', 'D': 'U', 'R': 'L'}[direction]\n",
    "                grid[pos] = '.'\n",
    "            elif grid[pos] == 'W':\n",
    "                # Weakened - infect, do not turn\n",
    "                grid[pos] = '#'\n",
    "                infect_count += 1\n",
    "\n",
    "        # Step forward\n",
    "        pos = (pos[0] + {'U': 1, 'L': 0, 'R': 0, 'D': -1}[direction], \n",
    "               pos[1] + {'U': 0, 'L': -1, 'R': 1, 'D': 0}[direction])\n",
    "    return infect_count"
   ]
  },
  {
   "cell_type": "code",
   "execution_count": 226,
   "metadata": {},
   "outputs": [
    {
     "data": {
      "text/plain": [
       "41"
      ]
     },
     "execution_count": 226,
     "metadata": {},
     "output_type": "execute_result"
    }
   ],
   "source": [
    "update_virus(day22_test, 70)"
   ]
  },
  {
   "cell_type": "code",
   "execution_count": 227,
   "metadata": {
    "collapsed": true
   },
   "outputs": [],
   "source": [
    "day22_input = read_input('day22_input.txt')"
   ]
  },
  {
   "cell_type": "code",
   "execution_count": 228,
   "metadata": {},
   "outputs": [
    {
     "data": {
      "text/plain": [
       "5256"
      ]
     },
     "execution_count": 228,
     "metadata": {},
     "output_type": "execute_result"
    }
   ],
   "source": [
    "# Part 1\n",
    "update_virus(day22_input, 10000)"
   ]
  },
  {
   "cell_type": "markdown",
   "metadata": {},
   "source": [
    "## Part Two \n",
    "As you go to remove the virus from the infected nodes, it evolves to resist your attempt.\n",
    "\n",
    "Now, before it infects a clean node, it will weaken it to disable your defenses. If it encounters an infected node, it will instead flag the node to be cleaned in the future. So:\n",
    "\n",
    "- Clean nodes become weakened.\n",
    "- Weakened nodes become infected.\n",
    "- Infected nodes become flagged.\n",
    "- Flagged nodes become clean.\n",
    "Every node is always in exactly one of the above states.\n",
    "\n",
    "The virus carrier still functions in a similar way, but now uses the following logic during its bursts of action:\n",
    "\n",
    "Decide which way to turn based on the current node:\n",
    "- If it is clean, it turns left.\n",
    "- If it is weakened, it does not turn, and will continue moving in the same direction.\n",
    "- If it is infected, it turns right.\n",
    "- If it is flagged, it reverses direction, and will go back the way it came.\n",
    "Modify the state of the current node, as described above.\n",
    "The virus carrier moves forward one node in the direction it is facing.\n",
    "Start with the same map (still using . for clean and # for infected) and still with the virus carrier starting in the middle and facing up.\n",
    "\n",
    "Using the same initial state as the previous example, and drawing weakened as W and flagged as F, the middle of the infinite grid looks like this, with the virus carrier's position again marked with [ ]:\n",
    "\n",
    "    . . . . . . . . .\n",
    "    . . . . . . . . .\n",
    "    . . . . . . . . .\n",
    "    . . . . . # . . .\n",
    "    . . . #[.]. . . .\n",
    "    . . . . . . . . .\n",
    "    . . . . . . . . .\n",
    "    . . . . . . . . .\n",
    "This is the same as before, since no initial nodes are weakened or flagged. The virus carrier is on a clean node, so it still turns left, instead weakens the node, and moves left:\n",
    "\n",
    "    . . . . . . . . .\n",
    "    . . . . . . . . .\n",
    "    . . . . . . . . .\n",
    "    . . . . . # . . .\n",
    "    . . .[#]W . . . .\n",
    "    . . . . . . . . .\n",
    "    . . . . . . . . .\n",
    "    . . . . . . . . .\n",
    "The virus carrier is on an infected node, so it still turns right, instead flags the node, and moves up:\n",
    "\n",
    "    . . . . . . . . .\n",
    "    . . . . . . . . .\n",
    "    . . . . . . . . .\n",
    "    . . .[.]. # . . .\n",
    "    . . . F W . . . .\n",
    "    . . . . . . . . .\n",
    "    . . . . . . . . .\n",
    "    . . . . . . . . .\n",
    "This process repeats three more times, ending on the previously-flagged node and facing right:\n",
    "\n",
    "    . . . . . . . . .\n",
    "    . . . . . . . . .\n",
    "    . . . . . . . . .\n",
    "    . . W W . # . . .\n",
    "    . . W[F]W . . . .\n",
    "    . . . . . . . . .\n",
    "    . . . . . . . . .\n",
    "    . . . . . . . . .\n",
    "Finding a flagged node, it reverses direction and cleans the node:\n",
    "\n",
    "    . . . . . . . . .\n",
    "    . . . . . . . . .\n",
    "    . . . . . . . . .\n",
    "    . . W W . # . . .\n",
    "    . .[W]. W . . . .\n",
    "    . . . . . . . . .\n",
    "    . . . . . . . . .\n",
    "    . . . . . . . . .\n",
    "The weakened node becomes infected, and it continues in the same direction:\n",
    "\n",
    "    . . . . . . . . .\n",
    "    . . . . . . . . .\n",
    "    . . . . . . . . .\n",
    "    . . W W . # . . .\n",
    "    .[.]# . W . . . .\n",
    "    . . . . . . . . .\n",
    "    . . . . . . . . .\n",
    "    . . . . . . . . .\n",
    "Of the first 100 bursts, 26 will result in infection. Unfortunately, another feature of this evolved virus is speed; of the first 10000000 bursts, 2511944 will result in infection.\n",
    "\n",
    "Given your actual map, after 10000000 bursts of activity, how many bursts cause a node to become infected? (Do not count nodes that begin infected.)\n",
    "\n",
    "Your puzzle answer was 2511345."
   ]
  },
  {
   "cell_type": "code",
   "execution_count": 247,
   "metadata": {},
   "outputs": [
    {
     "data": {
      "text/plain": [
       "26"
      ]
     },
     "execution_count": 247,
     "metadata": {},
     "output_type": "execute_result"
    }
   ],
   "source": [
    "# Part 2 test: expect 26\n",
    "update_virus(day22_test, 100, False)"
   ]
  },
  {
   "cell_type": "code",
   "execution_count": 248,
   "metadata": {},
   "outputs": [
    {
     "data": {
      "text/plain": [
       "2511345"
      ]
     },
     "execution_count": 248,
     "metadata": {},
     "output_type": "execute_result"
    }
   ],
   "source": [
    "# Part 2\n",
    "update_virus(day22_input, 10000000, False)"
   ]
  },
  {
   "cell_type": "code",
   "execution_count": null,
   "metadata": {
    "collapsed": true
   },
   "outputs": [],
   "source": []
  }
 ],
 "metadata": {
  "kernelspec": {
   "display_name": "Python 2",
   "language": "python",
   "name": "python2"
  },
  "language_info": {
   "codemirror_mode": {
    "name": "ipython",
    "version": 2
   },
   "file_extension": ".py",
   "mimetype": "text/x-python",
   "name": "python",
   "nbconvert_exporter": "python",
   "pygments_lexer": "ipython2",
   "version": "2.7.14"
  }
 },
 "nbformat": 4,
 "nbformat_minor": 2
}
